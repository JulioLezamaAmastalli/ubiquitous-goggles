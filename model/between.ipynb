{
 "cells": [
  {
   "cell_type": "markdown",
   "id": "7373c5a2",
   "metadata": {},
   "source": [
    "# Using the _between_ function in API calls"
   ]
  },
  {
   "cell_type": "markdown",
   "id": "ea0dbd06",
   "metadata": {},
   "source": [
    "This notebook was used to test how to use the _between_ argument in the API calls to the Head2Head endpoint."
   ]
  },
  {
   "cell_type": "code",
   "execution_count": 9,
   "id": "ea58fb46",
   "metadata": {},
   "outputs": [
    {
     "name": "stdout",
     "output_type": "stream",
     "text": [
      "The autoreload extension is already loaded. To reload it, use:\n",
      "  %reload_ext autoreload\n"
     ]
    }
   ],
   "source": [
    "import yaml\n",
    "import pandas as pd\n",
    "from datetime import date, timedelta\n",
    "import variables_n_functions as vnf\n",
    "\n",
    "%load_ext autoreload\n",
    "%autoreload 2"
   ]
  },
  {
   "cell_type": "markdown",
   "id": "62b83fae",
   "metadata": {},
   "source": [
    "Import the API token and the teams."
   ]
  },
  {
   "cell_type": "code",
   "execution_count": 7,
   "id": "bfa1ed6a",
   "metadata": {},
   "outputs": [],
   "source": [
    "key_file = open('dags_config.yaml', 'r')\n",
    "config = yaml.safe_load(key_file)\n",
    "\n",
    "sports_key = config['sports_token']"
   ]
  },
  {
   "cell_type": "markdown",
   "id": "6f920704",
   "metadata": {},
   "source": [
    "We will use the following 2 teams since there was a match between both in a lapse of 7 days (April 26) from today (May 3), and there will be a match in a lapse of 7 days starting today (May 4)."
   ]
  },
  {
   "cell_type": "code",
   "execution_count": 117,
   "id": "c0e4db4d",
   "metadata": {},
   "outputs": [],
   "source": [
    "teams = {3468 : 'Real Madrid', 9 : 'Manchester City'}\n",
    "\n",
    "### These 2 were used to test if a match occuring on the same day but later\n",
    "### was going to be retrieved as a historical or future match.\n",
    "### It was brought as a future match, which indicates we can make predictions\n",
    "### for matches of the day even if we pull the info that same day, but earlier\n",
    "# teams = {3477: 'Villarreal', 8: 'Liverpool'} "
   ]
  },
  {
   "cell_type": "markdown",
   "id": "3ddfb2e5",
   "metadata": {},
   "source": [
    "### Before adding _between_\n",
    "This is the structure as we have it now (May 3), without using _between_:"
   ]
  },
  {
   "cell_type": "code",
   "execution_count": 118,
   "id": "f34adab9",
   "metadata": {},
   "outputs": [],
   "source": [
    "### Predefine the DF to store variables\n",
    "df = pd.DataFrame(columns = vnf.columnas_df)\n",
    "\n",
    "### The following variable is auxiliar to avoid duplicate requests\n",
    "teams_aux = list(teams.keys())\n",
    "\n",
    "### We recover the match history between every unique team - team combination, and store it in the df\n",
    "for team_1 in teams.keys():\n",
    "    \n",
    "    teams_aux.remove(team_1)\n",
    "    \n",
    "    for team_2 in teams_aux:\n",
    "        \n",
    "        h2h = vnf.head2head(team_1, team_2, sports_key)\n",
    "        \n",
    "        if h2h is not None: \n",
    "        \n",
    "            df = pd.concat([df] + [pd.DataFrame(pd.Series(h2h[k])).transpose() for k in range(len(h2h))])"
   ]
  },
  {
   "cell_type": "markdown",
   "id": "d3ea16cf",
   "metadata": {},
   "source": [
    "Observe how it pulls every match between any 2 given teams, with dates going way back."
   ]
  },
  {
   "cell_type": "code",
   "execution_count": 119,
   "id": "0b10d7d9",
   "metadata": {},
   "outputs": [
    {
     "name": "stdout",
     "output_type": "stream",
     "text": [
      "Earliest match played on:  2005-08-19 00:00:00\n",
      "Latest match played on:  2022-05-01 00:00:00\n",
      "Total matches:  84\n"
     ]
    }
   ],
   "source": [
    "dates = df['time'].apply(lambda x : x['starting_at']['date'])\n",
    "dates = pd.to_datetime(pd.DataFrame(aux)[\"time\"])\n",
    "\n",
    "print('Earliest match played on: ', dates.min())\n",
    "print('Latest match played on: ', dates.max())\n",
    "print('Total matches: ', len(dates))"
   ]
  },
  {
   "cell_type": "markdown",
   "id": "fec69fbe",
   "metadata": {},
   "source": [
    "### Adding _between_\n",
    "To get to the structure we want, we need to define the _between_ parameter. For it, we need a _start_ and an _end_ date. We will have 3 use cases for the _between_ functionality:\n",
    "\n",
    "    1. Use it to initialize the DB with data from around 10 or 5 years from today.\n",
    "    2. Use it to update the DB weekly with data from only 7 days.\n",
    "    3. Use it to obtain the future matches for which we will make predictions, which will be 7 days from today."
   ]
  },
  {
   "cell_type": "markdown",
   "id": "67472946",
   "metadata": {},
   "source": [
    "#### 1) Initialize DB"
   ]
  },
  {
   "cell_type": "code",
   "execution_count": 120,
   "id": "bd7263be",
   "metadata": {},
   "outputs": [],
   "source": [
    "### Define end and start dates\n",
    "end = date.today()\n",
    "start = end - timedelta(5 * 365) # 5 years worth of data\n",
    "\n",
    "### Convert to the format we need\n",
    "end = end.strftime('%Y-%m-%d')\n",
    "start = start.strftime('%Y-%m-%d')\n",
    "\n",
    "### Define the between variable\n",
    "between = start + ',' + end"
   ]
  },
  {
   "cell_type": "code",
   "execution_count": 121,
   "id": "e69cccfd",
   "metadata": {},
   "outputs": [
    {
     "data": {
      "text/plain": [
       "'2017-05-04,2022-05-03'"
      ]
     },
     "execution_count": 121,
     "metadata": {},
     "output_type": "execute_result"
    }
   ],
   "source": [
    "between"
   ]
  },
  {
   "cell_type": "code",
   "execution_count": 122,
   "id": "40c6414e",
   "metadata": {},
   "outputs": [],
   "source": [
    "### Predefine the DF to store variables\n",
    "df = pd.DataFrame(columns = vnf.columnas_df)\n",
    "\n",
    "### The following variable is auxiliar to avoid duplicate requests\n",
    "teams_aux = list(teams.keys())\n",
    "\n",
    "### We recover the match history between every unique team - team combination, and store it in the df\n",
    "for team_1 in teams.keys():\n",
    "    \n",
    "    teams_aux.remove(team_1)\n",
    "    \n",
    "    for team_2 in teams_aux:\n",
    "        \n",
    "        h2h = vnf.head2head(team_1, team_2, sports_key, between) ### We add here the between parameter !!!\n",
    "        \n",
    "        if h2h is not None: \n",
    "        \n",
    "            df = pd.concat([df] + [pd.DataFrame(pd.Series(h2h[k])).transpose() for k in range(len(h2h))])"
   ]
  },
  {
   "cell_type": "markdown",
   "id": "7490a841",
   "metadata": {},
   "source": [
    "Observe how it pulls every match between any 2 given teams only in the range of dates specified, which considerably reduces the amount of matches that the DB will handle."
   ]
  },
  {
   "cell_type": "code",
   "execution_count": 123,
   "id": "46c347c2",
   "metadata": {},
   "outputs": [
    {
     "name": "stdout",
     "output_type": "stream",
     "text": [
      "Earliest match played on:  2020-02-26 00:00:00\n",
      "Latest match played on:  2022-04-26 00:00:00\n",
      "Total matches:  3\n"
     ]
    }
   ],
   "source": [
    "dates = df['time'].apply(lambda x : x['starting_at']['date'])\n",
    "dates = pd.to_datetime(pd.DataFrame(dates)[\"time\"])\n",
    "\n",
    "print('Earliest match played on: ', dates.min())\n",
    "print('Latest match played on: ', dates.max())\n",
    "print('Total matches: ', len(dates))"
   ]
  },
  {
   "cell_type": "markdown",
   "id": "49afef01",
   "metadata": {},
   "source": [
    "#### 2) Update DB"
   ]
  },
  {
   "cell_type": "code",
   "execution_count": 124,
   "id": "2f37f9b5",
   "metadata": {},
   "outputs": [],
   "source": [
    "### Define end and start dates\n",
    "end = date.today()\n",
    "start = end - timedelta(7) # 5 years worth of data\n",
    "\n",
    "### Convert to the format we need\n",
    "end = end.strftime('%Y-%m-%d')\n",
    "start = start.strftime('%Y-%m-%d')\n",
    "\n",
    "### Define the between variable\n",
    "between = start + ',' + end"
   ]
  },
  {
   "cell_type": "code",
   "execution_count": 125,
   "id": "c43f8829",
   "metadata": {},
   "outputs": [
    {
     "data": {
      "text/plain": [
       "'2022-04-26,2022-05-03'"
      ]
     },
     "execution_count": 125,
     "metadata": {},
     "output_type": "execute_result"
    }
   ],
   "source": [
    "between"
   ]
  },
  {
   "cell_type": "code",
   "execution_count": 126,
   "id": "d0f629bf",
   "metadata": {},
   "outputs": [],
   "source": [
    "### Predefine the DF to store variables\n",
    "df = pd.DataFrame(columns = vnf.columnas_df)\n",
    "\n",
    "### The following variable is auxiliar to avoid duplicate requests\n",
    "teams_aux = list(teams.keys())\n",
    "\n",
    "### We recover the match history between every unique team - team combination, and store it in the df\n",
    "for team_1 in teams.keys():\n",
    "    \n",
    "    teams_aux.remove(team_1)\n",
    "    \n",
    "    for team_2 in teams_aux:\n",
    "        \n",
    "        h2h = vnf.head2head(team_1, team_2, sports_key, between) ### We add here the between parameter !!!\n",
    "        \n",
    "        if h2h is not None: \n",
    "        \n",
    "            df = pd.concat([df] + [pd.DataFrame(pd.Series(h2h[k])).transpose() for k in range(len(h2h))])"
   ]
  },
  {
   "cell_type": "markdown",
   "id": "d7679894",
   "metadata": {},
   "source": [
    "Observe how it pulls every match between any 2 given teams only in the range of dates specified:"
   ]
  },
  {
   "cell_type": "code",
   "execution_count": 127,
   "id": "57e313f0",
   "metadata": {},
   "outputs": [
    {
     "name": "stdout",
     "output_type": "stream",
     "text": [
      "Earliest match played on:  2022-04-26 00:00:00\n",
      "Latest match played on:  2022-04-26 00:00:00\n",
      "Total matches:  1\n"
     ]
    }
   ],
   "source": [
    "dates = df['time'].apply(lambda x : x['starting_at']['date'])\n",
    "dates = pd.to_datetime(pd.DataFrame(dates)[\"time\"])\n",
    "\n",
    "print('Earliest match played on: ', dates.min())\n",
    "print('Latest match played on: ', dates.max())\n",
    "print('Total matches: ', len(dates))"
   ]
  },
  {
   "cell_type": "markdown",
   "id": "8eeab29f",
   "metadata": {},
   "source": [
    "When this was run (May 3), there was only 1 match played on the week. So only that one register would be added, instead of having the DB check for every other historical match."
   ]
  },
  {
   "cell_type": "code",
   "execution_count": 128,
   "id": "53787997",
   "metadata": {},
   "outputs": [
    {
     "data": {
      "text/plain": [
       "'2022-04-26'"
      ]
     },
     "execution_count": 128,
     "metadata": {},
     "output_type": "execute_result"
    }
   ],
   "source": [
    "df['time'].iloc[0]['starting_at']['date']"
   ]
  },
  {
   "cell_type": "markdown",
   "id": "f06ac56a",
   "metadata": {},
   "source": [
    "#### 2) Get Future Matches\n",
    "\n",
    "Notice how we switched the start and time parameters; we now have a positive _timedelta_ value."
   ]
  },
  {
   "cell_type": "code",
   "execution_count": 129,
   "id": "79ecd3bf",
   "metadata": {},
   "outputs": [],
   "source": [
    "### Define end and start dates\n",
    "start = date.today()\n",
    "end = start + timedelta(7) # 5 years worth of data\n",
    "\n",
    "### Convert to the format we need\n",
    "end = end.strftime('%Y-%m-%d')\n",
    "start = start.strftime('%Y-%m-%d')\n",
    "\n",
    "### Define the between variable\n",
    "between = start + ',' + end"
   ]
  },
  {
   "cell_type": "code",
   "execution_count": 130,
   "id": "75723d14",
   "metadata": {},
   "outputs": [
    {
     "data": {
      "text/plain": [
       "'2022-05-03,2022-05-10'"
      ]
     },
     "execution_count": 130,
     "metadata": {},
     "output_type": "execute_result"
    }
   ],
   "source": [
    "between"
   ]
  },
  {
   "cell_type": "code",
   "execution_count": 131,
   "id": "275d3e00",
   "metadata": {},
   "outputs": [],
   "source": [
    "### Predefine the DF to store variables\n",
    "df = pd.DataFrame(columns = vnf.columnas_df)\n",
    "\n",
    "### The following variable is auxiliar to avoid duplicate requests\n",
    "teams_aux = list(teams.keys())\n",
    "\n",
    "### We recover the match history between every unique team - team combination, and store it in the df\n",
    "for team_1 in teams.keys():\n",
    "    \n",
    "    teams_aux.remove(team_1)\n",
    "    \n",
    "    for team_2 in teams_aux:\n",
    "        \n",
    "        h2h = vnf.head2head(team_1, team_2, sports_key, between) ### We add here the between parameter !!!\n",
    "        \n",
    "        if h2h is not None: \n",
    "        \n",
    "            df = pd.concat([df] + [pd.DataFrame(pd.Series(h2h[k])).transpose() for k in range(len(h2h))])"
   ]
  },
  {
   "cell_type": "markdown",
   "id": "1f8ddb85",
   "metadata": {},
   "source": [
    "Observe how it pulls every match between any 2 given teams only in the range of dates specified:"
   ]
  },
  {
   "cell_type": "code",
   "execution_count": 132,
   "id": "4e1749b7",
   "metadata": {},
   "outputs": [
    {
     "name": "stdout",
     "output_type": "stream",
     "text": [
      "Earliest match played on:  2022-05-04 00:00:00\n",
      "Latest match played on:  2022-05-04 00:00:00\n",
      "Total matches:  1\n"
     ]
    }
   ],
   "source": [
    "dates = df['time'].apply(lambda x : x['starting_at']['date'])\n",
    "dates = pd.to_datetime(pd.DataFrame(dates)[\"time\"])\n",
    "\n",
    "print('Earliest match played on: ', dates.min())\n",
    "print('Latest match played on: ', dates.max())\n",
    "print('Total matches: ', len(dates))"
   ]
  },
  {
   "cell_type": "markdown",
   "id": "3c689d46",
   "metadata": {},
   "source": [
    "When this was run (May 3), there was only 1 match that will be played 7 days from now."
   ]
  },
  {
   "cell_type": "code",
   "execution_count": 133,
   "id": "7654f987",
   "metadata": {},
   "outputs": [
    {
     "data": {
      "text/plain": [
       "'2022-05-04'"
      ]
     },
     "execution_count": 133,
     "metadata": {},
     "output_type": "execute_result"
    }
   ],
   "source": [
    "df['time'].iloc[0]['starting_at']['date']"
   ]
  },
  {
   "cell_type": "markdown",
   "id": "d443a9fb",
   "metadata": {},
   "source": [
    "We take this opportunity to see if all the variables that we will need for prediction are retrieved for future matches, and indeed they are:"
   ]
  },
  {
   "cell_type": "code",
   "execution_count": 151,
   "id": "c4f5b75d",
   "metadata": {},
   "outputs": [
    {
     "data": {
      "text/html": [
       "<div>\n",
       "<style scoped>\n",
       "    .dataframe tbody tr th:only-of-type {\n",
       "        vertical-align: middle;\n",
       "    }\n",
       "\n",
       "    .dataframe tbody tr th {\n",
       "        vertical-align: top;\n",
       "    }\n",
       "\n",
       "    .dataframe thead th {\n",
       "        text-align: right;\n",
       "    }\n",
       "</style>\n",
       "<table border=\"1\" class=\"dataframe\">\n",
       "  <thead>\n",
       "    <tr style=\"text-align: right;\">\n",
       "      <th></th>\n",
       "      <th>league_id</th>\n",
       "      <th>season_id</th>\n",
       "      <th>venue_id</th>\n",
       "      <th>referee_id</th>\n",
       "      <th>localteam_id</th>\n",
       "      <th>visitorteam_id</th>\n",
       "      <th>localteam_position</th>\n",
       "      <th>visitorteam_position</th>\n",
       "    </tr>\n",
       "    <tr>\n",
       "      <th>id</th>\n",
       "      <th></th>\n",
       "      <th></th>\n",
       "      <th></th>\n",
       "      <th></th>\n",
       "      <th></th>\n",
       "      <th></th>\n",
       "      <th></th>\n",
       "      <th></th>\n",
       "    </tr>\n",
       "  </thead>\n",
       "  <tbody>\n",
       "    <tr>\n",
       "      <th>18509783</th>\n",
       "      <td>2</td>\n",
       "      <td>18346</td>\n",
       "      <td>2020</td>\n",
       "      <td>16780</td>\n",
       "      <td>3468</td>\n",
       "      <td>9</td>\n",
       "      <td>1</td>\n",
       "      <td>1</td>\n",
       "    </tr>\n",
       "  </tbody>\n",
       "</table>\n",
       "</div>"
      ],
      "text/plain": [
       "         league_id season_id venue_id referee_id localteam_id visitorteam_id  \\\n",
       "id                                                                             \n",
       "18509783         2     18346     2020      16780         3468              9   \n",
       "\n",
       "          localteam_position  visitorteam_position  \n",
       "id                                                  \n",
       "18509783                   1                     1  "
      ]
     },
     "execution_count": 151,
     "metadata": {},
     "output_type": "execute_result"
    }
   ],
   "source": [
    "model_cols = [              \n",
    "              'league_id', \n",
    "              'season_id', \n",
    "              'venue_id', \n",
    "              'referee_id',\n",
    "              'localteam_id',\n",
    "              'visitorteam_id',\n",
    "              'standings'\n",
    "              ]\n",
    "\n",
    "\n",
    "to_predict = df.copy().set_index(['id'])[model_cols]\n",
    "\n",
    "to_predict['localteam_position'] = to_predict['standings'].apply(lambda x : x['localteam_position'])\n",
    "to_predict['visitorteam_position'] = to_predict['standings'].apply(lambda x : x['visitorteam_position'])\n",
    "to_predict.drop('standings', 1, inplace = True)\n",
    "\n",
    "to_predict"
   ]
  }
 ],
 "metadata": {
  "kernelspec": {
   "display_name": "Python 3",
   "language": "python",
   "name": "python3"
  },
  "language_info": {
   "codemirror_mode": {
    "name": "ipython",
    "version": 3
   },
   "file_extension": ".py",
   "mimetype": "text/x-python",
   "name": "python",
   "nbconvert_exporter": "python",
   "pygments_lexer": "ipython3",
   "version": "3.9.5"
  }
 },
 "nbformat": 4,
 "nbformat_minor": 5
}
