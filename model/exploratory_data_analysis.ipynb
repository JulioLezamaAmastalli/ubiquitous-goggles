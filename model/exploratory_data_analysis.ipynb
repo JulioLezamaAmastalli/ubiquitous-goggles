{
 "cells": [
  {
   "cell_type": "markdown",
   "id": "5687cd33",
   "metadata": {},
   "source": [
    "# Exploratory Data Analysis\n",
    "\n",
    "We will explore our data to observe which variables are the ones that seem most likely to predict the outcome of a match."
   ]
  },
  {
   "cell_type": "code",
   "execution_count": 1,
   "id": "9a3f9f65",
   "metadata": {},
   "outputs": [],
   "source": [
    "import requests\n",
    "import pandas as pd\n",
    "import matplotlib.pyplot as plt\n",
    "\n",
    "### User defined\n",
    "import variables_n_functions as var\n",
    "\n",
    "%load_ext autoreload\n",
    "%autoreload 2"
   ]
  },
  {
   "cell_type": "markdown",
   "id": "073f147b",
   "metadata": {},
   "source": [
    "Read the file that contains the API key:"
   ]
  },
  {
   "cell_type": "code",
   "execution_count": 2,
   "id": "fe413b6c",
   "metadata": {},
   "outputs": [],
   "source": [
    "import yaml\n",
    "key_file = open('sportmonks_token.yaml', 'r')\n",
    "sports_key = yaml.safe_load(key_file)['sports_token']"
   ]
  },
  {
   "cell_type": "markdown",
   "id": "043a833f",
   "metadata": {},
   "source": [
    "We have previously retrieved a df through API calls and stored it in a csv to not make the calls again for the purpose of this exploratory data analysis."
   ]
  },
  {
   "cell_type": "code",
   "execution_count": 43,
   "id": "a5b8f9a2",
   "metadata": {},
   "outputs": [],
   "source": [
    "df = pd.read_csv('premiership_teams_head2head.csv', index_col=0)"
   ]
  },
  {
   "cell_type": "markdown",
   "id": "05f66361",
   "metadata": {},
   "source": [
    "Note however that any column that contains dictionaries have been turned to strings"
   ]
  },
  {
   "cell_type": "code",
   "execution_count": 44,
   "id": "4f6136eb",
   "metadata": {},
   "outputs": [
    {
     "data": {
      "text/plain": [
       "\"{'localteam_formation': '4-3-3', 'visitorteam_formation': '4-3-3'}\""
      ]
     },
     "execution_count": 44,
     "metadata": {},
     "output_type": "execute_result"
    }
   ],
   "source": [
    "df['formations'].iloc[0]"
   ]
  },
  {
   "cell_type": "markdown",
   "id": "9eded664",
   "metadata": {},
   "source": [
    "So we turn each of these columns back to a dictionary"
   ]
  },
  {
   "cell_type": "code",
   "execution_count": 45,
   "id": "e86a242c",
   "metadata": {
    "scrolled": true
   },
   "outputs": [],
   "source": [
    "cols_to_dict = ['scores', 'time', 'coaches', 'standings',\n",
    "                'assistants', 'formations', 'weather_report']\n",
    "\n",
    "for col in cols_to_dict:\n",
    "    df[col] = df[col].apply(lambda x: eval(x) if isinstance(x, str) else None )"
   ]
  },
  {
   "cell_type": "markdown",
   "id": "1e01c48a",
   "metadata": {},
   "source": [
    "We can broadly separate the variables into 3 categories:\n",
    "\n",
    "    1. id variables : Identificators for concepts such as league, season, venue, etc.\n",
    "    2. dictionary variables : Variables that themselves contain dictionaries, such as scores, formations, etc.\n",
    "    3. other variables : The rest of the variables, like commentaries, attendance.\n",
    "    \n",
    "We will go into detail on each of these in the following notebook."
   ]
  },
  {
   "cell_type": "markdown",
   "id": "2b9c72fa",
   "metadata": {},
   "source": [
    "## id variables\n",
    "\n",
    "There are many columns which are only ids for several things, such as the current season, league, stage, etc. In some cases, the ids might be useful whilst in others maybe not that much."
   ]
  },
  {
   "cell_type": "code",
   "execution_count": 79,
   "id": "f544722f",
   "metadata": {},
   "outputs": [
    {
     "data": {
      "text/html": [
       "<div>\n",
       "<style scoped>\n",
       "    .dataframe tbody tr th:only-of-type {\n",
       "        vertical-align: middle;\n",
       "    }\n",
       "\n",
       "    .dataframe tbody tr th {\n",
       "        vertical-align: top;\n",
       "    }\n",
       "\n",
       "    .dataframe thead th {\n",
       "        text-align: right;\n",
       "    }\n",
       "</style>\n",
       "<table border=\"1\" class=\"dataframe\">\n",
       "  <thead>\n",
       "    <tr style=\"text-align: right;\">\n",
       "      <th></th>\n",
       "      <th>id</th>\n",
       "      <th>league_id</th>\n",
       "      <th>season_id</th>\n",
       "      <th>stage_id</th>\n",
       "      <th>round_id</th>\n",
       "      <th>group_id</th>\n",
       "      <th>aggregate_id</th>\n",
       "      <th>venue_id</th>\n",
       "      <th>referee_id</th>\n",
       "      <th>localteam_id</th>\n",
       "      <th>visitorteam_id</th>\n",
       "      <th>winner_team_id</th>\n",
       "    </tr>\n",
       "  </thead>\n",
       "  <tbody>\n",
       "    <tr>\n",
       "      <th>0</th>\n",
       "      <td>18137008</td>\n",
       "      <td>501</td>\n",
       "      <td>18369</td>\n",
       "      <td>77453684</td>\n",
       "      <td>247452.0</td>\n",
       "      <td>NaN</td>\n",
       "      <td>NaN</td>\n",
       "      <td>8909</td>\n",
       "      <td>14853.0</td>\n",
       "      <td>53</td>\n",
       "      <td>62</td>\n",
       "      <td>53.0</td>\n",
       "    </tr>\n",
       "    <tr>\n",
       "      <th>0</th>\n",
       "      <td>18136904</td>\n",
       "      <td>501</td>\n",
       "      <td>18369</td>\n",
       "      <td>77453684</td>\n",
       "      <td>247434.0</td>\n",
       "      <td>NaN</td>\n",
       "      <td>NaN</td>\n",
       "      <td>8914</td>\n",
       "      <td>18748.0</td>\n",
       "      <td>62</td>\n",
       "      <td>53</td>\n",
       "      <td>62.0</td>\n",
       "    </tr>\n",
       "    <tr>\n",
       "      <th>0</th>\n",
       "      <td>17947857</td>\n",
       "      <td>501</td>\n",
       "      <td>17141</td>\n",
       "      <td>77447500</td>\n",
       "      <td>240676.0</td>\n",
       "      <td>243965.0</td>\n",
       "      <td>NaN</td>\n",
       "      <td>8914</td>\n",
       "      <td>14468.0</td>\n",
       "      <td>62</td>\n",
       "      <td>53</td>\n",
       "      <td>62.0</td>\n",
       "    </tr>\n",
       "    <tr>\n",
       "      <th>0</th>\n",
       "      <td>16475470</td>\n",
       "      <td>501</td>\n",
       "      <td>17141</td>\n",
       "      <td>77447501</td>\n",
       "      <td>194999.0</td>\n",
       "      <td>NaN</td>\n",
       "      <td>NaN</td>\n",
       "      <td>8909</td>\n",
       "      <td>14859.0</td>\n",
       "      <td>53</td>\n",
       "      <td>62</td>\n",
       "      <td>NaN</td>\n",
       "    </tr>\n",
       "    <tr>\n",
       "      <th>0</th>\n",
       "      <td>16475413</td>\n",
       "      <td>501</td>\n",
       "      <td>17141</td>\n",
       "      <td>77447501</td>\n",
       "      <td>194989.0</td>\n",
       "      <td>NaN</td>\n",
       "      <td>NaN</td>\n",
       "      <td>8914</td>\n",
       "      <td>14853.0</td>\n",
       "      <td>62</td>\n",
       "      <td>53</td>\n",
       "      <td>62.0</td>\n",
       "    </tr>\n",
       "  </tbody>\n",
       "</table>\n",
       "</div>"
      ],
      "text/plain": [
       "         id  league_id  season_id  stage_id  round_id  group_id  aggregate_id  \\\n",
       "0  18137008        501      18369  77453684  247452.0       NaN           NaN   \n",
       "0  18136904        501      18369  77453684  247434.0       NaN           NaN   \n",
       "0  17947857        501      17141  77447500  240676.0  243965.0           NaN   \n",
       "0  16475470        501      17141  77447501  194999.0       NaN           NaN   \n",
       "0  16475413        501      17141  77447501  194989.0       NaN           NaN   \n",
       "\n",
       "   venue_id  referee_id  localteam_id  visitorteam_id  winner_team_id  \n",
       "0      8909     14853.0            53              62            53.0  \n",
       "0      8914     18748.0            62              53            62.0  \n",
       "0      8914     14468.0            62              53            62.0  \n",
       "0      8909     14859.0            53              62             NaN  \n",
       "0      8914     14853.0            62              53            62.0  "
      ]
     },
     "execution_count": 79,
     "metadata": {},
     "output_type": "execute_result"
    }
   ],
   "source": [
    "id_cols = [ col for col in list(df.columns) if 'id' in col]\n",
    "df[id_cols].head()"
   ]
  },
  {
   "cell_type": "markdown",
   "id": "ebd52615",
   "metadata": {},
   "source": [
    "### id\n",
    "The _id_ id simply the index for the unique combination of league, season, stage, etc. i.e. for the given match between the respective 2 teams. We will **not** use it for predictions since it changes for every match, but it is key to avoid duplicates when we update the database."
   ]
  },
  {
   "cell_type": "markdown",
   "id": "b9111329",
   "metadata": {},
   "source": [
    "### league_id\n",
    "The _league_id_ is the league in which the match took place (f.e. Champions League, Copa America). We consider that they **will** be useful to predict the outcome, since each league has it's own set of rules, and also they might affect the players differently."
   ]
  },
  {
   "cell_type": "markdown",
   "id": "f67de931",
   "metadata": {},
   "source": [
    "### season_id\n",
    "The _season_id_ is the season in which the match took place (f.e. 2019-2020, 2021). We will **not**  use them to predict the outcome of the match, since we can have date information from other variables."
   ]
  },
  {
   "cell_type": "markdown",
   "id": "ebbedd17",
   "metadata": {},
   "source": [
    "### stage_id\n",
    "\n",
    "_stage_id_ is the current stage for the given league and season. Thus, as it is, it is not really useful because there will be too few observations of it. What is useful is to query an API request with the _stage_id_ to obtain the _name_ and the _type_, as can be seen in the following cell:"
   ]
  },
  {
   "cell_type": "code",
   "execution_count": 89,
   "id": "9e7c90b4",
   "metadata": {},
   "outputs": [
    {
     "data": {
      "text/plain": [
       "{'id': 77453684,\n",
       " 'name': '1st Phase',\n",
       " 'type': 'Group Stage',\n",
       " 'league_id': 501,\n",
       " 'season_id': 18369,\n",
       " 'sort_order': -1,\n",
       " 'has_standings': True,\n",
       " 'has_outgroup_matches': 0}"
      ]
     },
     "execution_count": 89,
     "metadata": {},
     "output_type": "execute_result"
    }
   ],
   "source": [
    "r = requests.get(f'https://soccer.sportmonks.com/api/v2.0/stages/77453684?api_token={sports_key}')\n",
    "eval(r.text.replace('true', 'True').replace('false', 'False'))['data']"
   ]
  },
  {
   "cell_type": "markdown",
   "id": "cd49ab9c",
   "metadata": {},
   "source": [
    "We will currently not retrieve these values, but we will take them into consideration in later iterations."
   ]
  },
  {
   "cell_type": "markdown",
   "id": "ee35b661",
   "metadata": {},
   "source": [
    "### round_id\n",
    "\n",
    "The _round_id_ is the round for the given league and season; in spanish it is also known as \"jornada\". Thus, as it is, it is not really useful because there will be too few observations of it. What could be useful is to query an API request with the _round_id_ to obtain the _name_ (the number of the round) as can be seen in the following cell:"
   ]
  },
  {
   "cell_type": "code",
   "execution_count": 94,
   "id": "99c5790b",
   "metadata": {},
   "outputs": [
    {
     "data": {
      "text/plain": [
       "{'id': 240676,\n",
       " 'name': 3,\n",
       " 'league_id': 501,\n",
       " 'season_id': 17141,\n",
       " 'stage_id': 77447500,\n",
       " 'start': '2021-05-01',\n",
       " 'end': '2021-05-02'}"
      ]
     },
     "execution_count": 94,
     "metadata": {},
     "output_type": "execute_result"
    }
   ],
   "source": [
    "# r = requests.get(f'https://soccer.sportmonks.com/api/v2.0/rounds/247452?api_token={sports_key}')\n",
    "r = requests.get(f'https://soccer.sportmonks.com/api/v2.0/rounds/240676?api_token={sports_key}')\n",
    "eval(r.text.replace('true', 'True').replace('false', 'False'))['data']"
   ]
  },
  {
   "cell_type": "markdown",
   "id": "3ac48cda",
   "metadata": {},
   "source": [
    "But even then, we consider that the number of the round is not that useful to predict the outcome, so we will not get it."
   ]
  },
  {
   "cell_type": "markdown",
   "id": "3969e40e",
   "metadata": {},
   "source": [
    "### group_id\n",
    "\n",
    "The _group_id_ is not as straightforward as the previous ones. What the API refers to as _group_id_ is when certain leagues separates the best teams from the worst after a certain amount of matches have been played. Since there are many NaN values (88.26% just in this dataset), we do not consider it to be useful to make predictions, so we will omit it."
   ]
  },
  {
   "cell_type": "code",
   "execution_count": 110,
   "id": "5f6ae84d",
   "metadata": {},
   "outputs": [
    {
     "data": {
      "text/plain": [
       "'88.26%'"
      ]
     },
     "execution_count": 110,
     "metadata": {},
     "output_type": "execute_result"
    }
   ],
   "source": [
    "str(round(100*sum(df['group_id'].isna())/len(df), 2))+'%'"
   ]
  },
  {
   "cell_type": "markdown",
   "id": "8e4b78d1",
   "metadata": {},
   "source": [
    "### aggregate_id\n",
    "\n",
    "The _aggregate_id_ refers to when both teams play one-home and one-away games (in spanish, \"ida y vuelta\"). Most of the matches do not have this modality (99.62% in this dataset), thus incurring in many NaN values, so we will omit it."
   ]
  },
  {
   "cell_type": "code",
   "execution_count": 111,
   "id": "67b3b9fa",
   "metadata": {},
   "outputs": [
    {
     "data": {
      "text/plain": [
       "'99.62%'"
      ]
     },
     "execution_count": 111,
     "metadata": {},
     "output_type": "execute_result"
    }
   ],
   "source": [
    "str(round(100*sum(df['aggregate_id'].isna())/len(df), 2))+'%'"
   ]
  },
  {
   "cell_type": "markdown",
   "id": "4b940877",
   "metadata": {},
   "source": [
    "### venue_id\n",
    "\n",
    "The _venue_id_ is the id of the stadium. At first, it might seem to be repetitive considering that most of the time, the venue is the one associated to the local team. Yet, there are occassions in which certain matches are played in a venue that neither of the teams owned. We consider that this variable might be able to tell us something about the outcome of the match.\n",
    "\n",
    "Note: We could search for each stadium's _capacity_, and use it to get the proportion up to which it was filled on a given match (by using the variable _attendance_ that we have in the dataset). This variable could be useful for our predictions, but we will explore it in later iterations."
   ]
  },
  {
   "cell_type": "code",
   "execution_count": 117,
   "id": "9083edbe",
   "metadata": {},
   "outputs": [
    {
     "data": {
      "text/plain": [
       "{'id': 8909,\n",
       " 'name': 'Celtic Park',\n",
       " 'surface': 'grass',\n",
       " 'address': '18 Kerrydale Street',\n",
       " 'city': 'Glasgow',\n",
       " 'capacity': 60411,\n",
       " 'image_path': 'https:\\\\/\\\\/cdn.sportmonks.com\\\\/images\\\\/soccer\\\\/venues\\\\/13\\\\/8909.png',\n",
       " 'coordinates': '55.849711,-4.205589'}"
      ]
     },
     "execution_count": 117,
     "metadata": {},
     "output_type": "execute_result"
    }
   ],
   "source": [
    "r = requests.get(f'https://soccer.sportmonks.com/api/v2.0/venues/8909?api_token={sports_key}')\n",
    "eval(r.text.replace('true', 'True').replace('false', 'False'))['data']"
   ]
  },
  {
   "cell_type": "markdown",
   "id": "06fef9b9",
   "metadata": {},
   "source": [
    "### referee_id\n",
    "\n",
    "The _referee_id_ is the id of the main/first referee. We believe that certain behaviours and actions taken by the referee could be biased, so this variable might give us some insight into the outcome of the match."
   ]
  },
  {
   "cell_type": "markdown",
   "id": "3904e002",
   "metadata": {},
   "source": [
    "### localteam_id & visitorteam_id\n",
    "These are  very straightforward, and we will definitely use them to let the model understand the historical importance of both teams winning odds against each other."
   ]
  },
  {
   "cell_type": "markdown",
   "id": "744f48b1",
   "metadata": {},
   "source": [
    "### winner_team_id\n",
    "These variable equals _localteam_id_ when the local team wins, it equals _visitorteam_id_ when the visitor team wins, and is NaN in the case of a tie. This variable is considerably important, since we can extrapolate our response variable _y_ from it. We will define it as follows:\n",
    "\n",
    "```Python\n",
    "if _winner_team_id_ == _localteam_id_:\n",
    "    y = 1 \n",
    "elif _winner_team_id_ == _visitorteam_id_:\n",
    "    y = 0\n",
    "else:\n",
    "    y = 0.5 \n",
    "```"
   ]
  },
  {
   "cell_type": "code",
   "execution_count": 130,
   "id": "480ff6ce",
   "metadata": {},
   "outputs": [
    {
     "name": "stderr",
     "output_type": "stream",
     "text": [
      "c:\\users\\mike\\appdata\\local\\programs\\python\\python39\\lib\\site-packages\\pandas\\core\\indexing.py:1637: SettingWithCopyWarning: \n",
      "A value is trying to be set on a copy of a slice from a DataFrame\n",
      "\n",
      "See the caveats in the documentation: https://pandas.pydata.org/pandas-docs/stable/user_guide/indexing.html#returning-a-view-versus-a-copy\n",
      "  self._setitem_single_block(indexer, value, name)\n"
     ]
    }
   ],
   "source": [
    "y = df.copy()\n",
    "y['y'] = None\n",
    "for _ in range(len(y)):\n",
    "    if y['winner_team_id'].iloc[_] == y['localteam_id'].iloc[_]:\n",
    "        y['y'].iloc[_] = 1 \n",
    "    elif y['winner_team_id'].iloc[_] == y['visitorteam_id'].iloc[_]:\n",
    "        y['y'].iloc[_] = 0 \n",
    "    else:\n",
    "        y['y'].iloc[_] = 0.5 "
   ]
  },
  {
   "cell_type": "markdown",
   "id": "67710e8c",
   "metadata": {},
   "source": [
    "## other variables\n",
    "\n",
    "We will explore _other variables_ before _dictionary variables_ since the latter require particular attention for each case."
   ]
  },
  {
   "cell_type": "code",
   "execution_count": 146,
   "id": "8fb85450",
   "metadata": {
    "scrolled": false
   },
   "outputs": [
    {
     "data": {
      "text/html": [
       "<div>\n",
       "<style scoped>\n",
       "    .dataframe tbody tr th:only-of-type {\n",
       "        vertical-align: middle;\n",
       "    }\n",
       "\n",
       "    .dataframe tbody tr th {\n",
       "        vertical-align: top;\n",
       "    }\n",
       "\n",
       "    .dataframe thead th {\n",
       "        text-align: right;\n",
       "    }\n",
       "</style>\n",
       "<table border=\"1\" class=\"dataframe\">\n",
       "  <thead>\n",
       "    <tr style=\"text-align: right;\">\n",
       "      <th></th>\n",
       "      <th>commentaries</th>\n",
       "      <th>attendance</th>\n",
       "      <th>pitch</th>\n",
       "      <th>details</th>\n",
       "      <th>neutral_venue</th>\n",
       "      <th>winning_odds_calculated</th>\n",
       "      <th>leg</th>\n",
       "      <th>deleted</th>\n",
       "      <th>is_placeholder</th>\n",
       "    </tr>\n",
       "  </thead>\n",
       "  <tbody>\n",
       "    <tr>\n",
       "      <th>0</th>\n",
       "      <td>True</td>\n",
       "      <td>NaN</td>\n",
       "      <td>NaN</td>\n",
       "      <td>NaN</td>\n",
       "      <td>False</td>\n",
       "      <td>True</td>\n",
       "      <td>1/1</td>\n",
       "      <td>False</td>\n",
       "      <td>False</td>\n",
       "    </tr>\n",
       "    <tr>\n",
       "      <th>0</th>\n",
       "      <td>True</td>\n",
       "      <td>NaN</td>\n",
       "      <td>NaN</td>\n",
       "      <td>NaN</td>\n",
       "      <td>False</td>\n",
       "      <td>True</td>\n",
       "      <td>1/1</td>\n",
       "      <td>False</td>\n",
       "      <td>False</td>\n",
       "    </tr>\n",
       "    <tr>\n",
       "      <th>0</th>\n",
       "      <td>True</td>\n",
       "      <td>NaN</td>\n",
       "      <td>NaN</td>\n",
       "      <td>NaN</td>\n",
       "      <td>False</td>\n",
       "      <td>True</td>\n",
       "      <td>1/1</td>\n",
       "      <td>False</td>\n",
       "      <td>False</td>\n",
       "    </tr>\n",
       "    <tr>\n",
       "      <th>0</th>\n",
       "      <td>False</td>\n",
       "      <td>NaN</td>\n",
       "      <td>NaN</td>\n",
       "      <td>NaN</td>\n",
       "      <td>False</td>\n",
       "      <td>True</td>\n",
       "      <td>1/1</td>\n",
       "      <td>False</td>\n",
       "      <td>False</td>\n",
       "    </tr>\n",
       "    <tr>\n",
       "      <th>0</th>\n",
       "      <td>False</td>\n",
       "      <td>NaN</td>\n",
       "      <td>NaN</td>\n",
       "      <td>NaN</td>\n",
       "      <td>False</td>\n",
       "      <td>True</td>\n",
       "      <td>1/1</td>\n",
       "      <td>False</td>\n",
       "      <td>False</td>\n",
       "    </tr>\n",
       "  </tbody>\n",
       "</table>\n",
       "</div>"
      ],
      "text/plain": [
       "  commentaries  attendance pitch  details  neutral_venue  \\\n",
       "0         True         NaN   NaN      NaN          False   \n",
       "0         True         NaN   NaN      NaN          False   \n",
       "0         True         NaN   NaN      NaN          False   \n",
       "0        False         NaN   NaN      NaN          False   \n",
       "0        False         NaN   NaN      NaN          False   \n",
       "\n",
       "   winning_odds_calculated  leg  deleted  is_placeholder  \n",
       "0                     True  1/1    False           False  \n",
       "0                     True  1/1    False           False  \n",
       "0                     True  1/1    False           False  \n",
       "0                     True  1/1    False           False  \n",
       "0                     True  1/1    False           False  "
      ]
     },
     "execution_count": 146,
     "metadata": {},
     "output_type": "execute_result"
    }
   ],
   "source": [
    "dict_cols = ['weather_report', 'formations', 'scores', 'time', 'coaches', 'standings', 'assistants', 'colors']\n",
    "df.drop(id_cols + dict_cols, 1).head()"
   ]
  },
  {
   "cell_type": "markdown",
   "id": "9d237ce5",
   "metadata": {},
   "source": [
    "### commentaries\n",
    "\n",
    "The _commentaries_ column indicates whether there are registered commentaries for the match (True) or not (False). We believe that this does not affect the outcome of the match since players themselves aren't affected by a person talking over the development of a match. It could maybe be an indicator of whether the match was important enough so as to be commentated, thus incurring in some psychological effect to the players, but we will drop it for the moment."
   ]
  },
  {
   "cell_type": "markdown",
   "id": "822a16d7",
   "metadata": {},
   "source": [
    "### attendance\n",
    "\n",
    "The _attendance_ column indicates the number of people that went to the venue to watch the match. Whilst this variable seems to give us insight into the importance of the match and to the psychological effects this might take into the players' mindset, it unfourtunately has too many missing values (92.57%). This might be due to certain mathces not allowing the entrance to people, or even just that there was no register of the total amount. Thus, we will unfortunately leave it out. Perhaps when we explore other teams the NaN percentage might drop, so we will take it into consideration when we expand our dataset."
   ]
  },
  {
   "cell_type": "code",
   "execution_count": 155,
   "id": "06c712d7",
   "metadata": {
    "scrolled": true
   },
   "outputs": [
    {
     "data": {
      "text/plain": [
       "'92.57%'"
      ]
     },
     "execution_count": 155,
     "metadata": {},
     "output_type": "execute_result"
    }
   ],
   "source": [
    "str(round(100*sum(df['attendance'].isna())/len(df), 2))+'%'"
   ]
  },
  {
   "cell_type": "code",
   "execution_count": 164,
   "id": "66db5a1b",
   "metadata": {},
   "outputs": [
    {
     "data": {
      "image/png": "[encoded data removed]",
      "text/plain": [
       "<Figure size 432x288 with 1 Axes>"
      ]
     },
     "metadata": {
      "needs_background": "light"
     },
     "output_type": "display_data"
    }
   ],
   "source": [
    "plt.hist(df['attendance'])\n",
    "plt.title('attendance');"
   ]
  },
  {
   "cell_type": "markdown",
   "id": "9b588d93",
   "metadata": {},
   "source": [
    "### pitch\n",
    "\n",
    "The _picth_ column indicates the overall weather conditions. However has too many NaN (88.69%). We do believe that this variable can help us predict the outcome, so we will replace the NaN values with 'Regular'."
   ]
  },
  {
   "cell_type": "code",
   "execution_count": 172,
   "id": "bc6b4fe2",
   "metadata": {},
   "outputs": [
    {
     "data": {
      "text/plain": [
       "['Good',\n",
       " 'Excellent',\n",
       " 'Wet and Fast',\n",
       " 'Uneven and|cutting up',\n",
       " 'Artificial Turf',\n",
       " 'Wet']"
      ]
     },
     "execution_count": 172,
     "metadata": {},
     "output_type": "execute_result"
    }
   ],
   "source": [
    "df[~df['pitch'].isna()]['pitch'].unique().tolist()"
   ]
  },
  {
   "cell_type": "code",
   "execution_count": 154,
   "id": "d7a2312b",
   "metadata": {
    "scrolled": true
   },
   "outputs": [
    {
     "data": {
      "text/plain": [
       "'88.69%'"
      ]
     },
     "execution_count": 154,
     "metadata": {},
     "output_type": "execute_result"
    }
   ],
   "source": [
    "str(round(100*sum(df['pitch'].isna())/len(df), 2))+'%'"
   ]
  },
  {
   "cell_type": "markdown",
   "id": "fa12abf4",
   "metadata": {},
   "source": [
    "### details\n",
    "\n",
    "The _details_ column is a complete NaN. Maybe for other teams and matches this could have some values, but we will drop it until we examine if it could be useful for other cases. "
   ]
  },
  {
   "cell_type": "code",
   "execution_count": 152,
   "id": "6d834164",
   "metadata": {
    "scrolled": true
   },
   "outputs": [
    {
     "data": {
      "text/plain": [
       "'100.0%'"
      ]
     },
     "execution_count": 152,
     "metadata": {},
     "output_type": "execute_result"
    }
   ],
   "source": [
    "str(round(100*sum(df['details'].isna())/len(df), 2))+'%'"
   ]
  },
  {
   "cell_type": "markdown",
   "id": "69be5951",
   "metadata": {},
   "source": [
    "### neutral_venue\n",
    "\n",
    "The _neutral_venue_ column indicates whether the stadium did not belong to either team (True) or yes (False). At least in the case of this dataset, we only have False values (0 values), but this does not indicate that it will always be that way. For the moment, we will drop it."
   ]
  },
  {
   "cell_type": "code",
   "execution_count": 157,
   "id": "341fade7",
   "metadata": {
    "scrolled": true
   },
   "outputs": [
    {
     "data": {
      "text/plain": [
       "0"
      ]
     },
     "execution_count": 157,
     "metadata": {},
     "output_type": "execute_result"
    }
   ],
   "source": [
    "sum(df['neutral_venue'])"
   ]
  },
  {
   "cell_type": "markdown",
   "id": "37765dcd",
   "metadata": {},
   "source": [
    "### winning_odds_calculated\n",
    "\n",
    "This reflects whether the odds for the outcome were calculated. We believe this does not affect in any way to the outcome of the match, so we will omit it."
   ]
  },
  {
   "cell_type": "markdown",
   "id": "fcc4d9c0",
   "metadata": {},
   "source": [
    "### leg\n",
    "The _leg_ refers to the current game number with respect to the total amount of games that the match has. For example, if America and Pumas were to compete 2 times in the tourney to advance to the next round, and the current game is the first of the 2 games, then ``leg = 1/2``. We do consider this variable can affect the outcome of the match."
   ]
  },
  {
   "cell_type": "code",
   "execution_count": 173,
   "id": "de29ba42",
   "metadata": {},
   "outputs": [
    {
     "data": {
      "text/plain": [
       "['1/1', '2/2', '1/2']"
      ]
     },
     "execution_count": 173,
     "metadata": {},
     "output_type": "execute_result"
    }
   ],
   "source": [
    "df['leg'].unique().tolist()"
   ]
  },
  {
   "cell_type": "markdown",
   "id": "77da89e0",
   "metadata": {},
   "source": [
    "### deleted\n",
    "\n",
    "This is a metadata variable that keeps track of wether this register was deleted from the current Sportmonks DB. Thus, we will delete it."
   ]
  },
  {
   "cell_type": "markdown",
   "id": "166cb3e9",
   "metadata": {},
   "source": [
    "### is_placeholder\n",
    "\n",
    "Sportmonks documentation for this variable states: \"This property indicates if the resource is used to display dummy data. The false of this property will always be a boolean value.\" We did not quite understand what it means, but it does not seem to affect the outcome of the match, so we drop it."
   ]
  },
  {
   "cell_type": "markdown",
   "id": "2951d16a",
   "metadata": {},
   "source": [
    "## dictionary variables\n",
    "\n",
    "The following variables contain dictionary values in each register. They have to be analyzed individually."
   ]
  },
  {
   "cell_type": "code",
   "execution_count": 180,
   "id": "70bf95c6",
   "metadata": {},
   "outputs": [
    {
     "data": {
      "text/html": [
       "<div>\n",
       "<style scoped>\n",
       "    .dataframe tbody tr th:only-of-type {\n",
       "        vertical-align: middle;\n",
       "    }\n",
       "\n",
       "    .dataframe tbody tr th {\n",
       "        vertical-align: top;\n",
       "    }\n",
       "\n",
       "    .dataframe thead th {\n",
       "        text-align: right;\n",
       "    }\n",
       "</style>\n",
       "<table border=\"1\" class=\"dataframe\">\n",
       "  <thead>\n",
       "    <tr style=\"text-align: right;\">\n",
       "      <th></th>\n",
       "      <th>weather_report</th>\n",
       "      <th>formations</th>\n",
       "      <th>scores</th>\n",
       "      <th>time</th>\n",
       "      <th>coaches</th>\n",
       "      <th>standings</th>\n",
       "      <th>assistants</th>\n",
       "      <th>colors</th>\n",
       "    </tr>\n",
       "  </thead>\n",
       "  <tbody>\n",
       "    <tr>\n",
       "      <th>0</th>\n",
       "      <td>{'code': 'clouds', 'type': 'broken clouds', 'i...</td>\n",
       "      <td>{'localteam_formation': '4-3-3', 'visitorteam_...</td>\n",
       "      <td>{'localteam_score': 3, 'visitorteam_score': 0,...</td>\n",
       "      <td>{'status': 'FT', 'starting_at': {'date_time': ...</td>\n",
       "      <td>{'localteam_coach_id': 896805, 'visitorteam_co...</td>\n",
       "      <td>{'localteam_position': 2, 'visitorteam_positio...</td>\n",
       "      <td>{'first_assistant_id': 12118, 'second_assistan...</td>\n",
       "      <td>{'localteam': {'color': '#339063', 'kit_colors...</td>\n",
       "    </tr>\n",
       "    <tr>\n",
       "      <th>0</th>\n",
       "      <td>{'code': 'clouds', 'type': 'overcast clouds', ...</td>\n",
       "      <td>{'localteam_formation': '4-3-3', 'visitorteam_...</td>\n",
       "      <td>{'localteam_score': 1, 'visitorteam_score': 0,...</td>\n",
       "      <td>{'status': 'FT', 'starting_at': {'date_time': ...</td>\n",
       "      <td>{'localteam_coach_id': 50, 'visitorteam_coach_...</td>\n",
       "      <td>{'localteam_position': 6, 'visitorteam_positio...</td>\n",
       "      <td>{'first_assistant_id': 12118, 'second_assistan...</td>\n",
       "      <td>{'localteam': {'color': '#2B72DE', 'kit_colors...</td>\n",
       "    </tr>\n",
       "    <tr>\n",
       "      <th>0</th>\n",
       "      <td>{'code': 'clouds', 'type': 'scattered clouds',...</td>\n",
       "      <td>{'localteam_formation': '4-3-1-2', 'visitortea...</td>\n",
       "      <td>{'localteam_score': 4, 'visitorteam_score': 1,...</td>\n",
       "      <td>{'status': 'FT', 'starting_at': {'date_time': ...</td>\n",
       "      <td>{'localteam_coach_id': 50, 'visitorteam_coach_...</td>\n",
       "      <td>{'localteam_position': 1, 'visitorteam_positio...</td>\n",
       "      <td>{'first_assistant_id': 12770, 'second_assistan...</td>\n",
       "      <td>{'localteam': {'color': '#2B72DE', 'kit_colors...</td>\n",
       "    </tr>\n",
       "    <tr>\n",
       "      <th>0</th>\n",
       "      <td>{'code': 'clouds', 'type': 'broken clouds', 'i...</td>\n",
       "      <td>{'localteam_formation': '4-2-3-1', 'visitortea...</td>\n",
       "      <td>{'localteam_score': 1, 'visitorteam_score': 1,...</td>\n",
       "      <td>{'status': 'FT', 'starting_at': {'date_time': ...</td>\n",
       "      <td>{'localteam_coach_id': 2163, 'visitorteam_coac...</td>\n",
       "      <td>{'localteam_position': 2, 'visitorteam_positio...</td>\n",
       "      <td>{'first_assistant_id': 14860, 'second_assistan...</td>\n",
       "      <td>{'localteam': {'color': '#F0F0F0', 'kit_colors...</td>\n",
       "    </tr>\n",
       "    <tr>\n",
       "      <th>0</th>\n",
       "      <td>{'code': 'clear', 'type': 'clear sky', 'icon':...</td>\n",
       "      <td>{'localteam_formation': '4-3-3', 'visitorteam_...</td>\n",
       "      <td>{'localteam_score': 1, 'visitorteam_score': 0,...</td>\n",
       "      <td>{'status': 'FT', 'starting_at': {'date_time': ...</td>\n",
       "      <td>{'localteam_coach_id': 50, 'visitorteam_coach_...</td>\n",
       "      <td>{'localteam_position': 1, 'visitorteam_positio...</td>\n",
       "      <td>{'first_assistant_id': 12118, 'second_assistan...</td>\n",
       "      <td>{'localteam': {'color': '#2B72DE', 'kit_colors...</td>\n",
       "    </tr>\n",
       "  </tbody>\n",
       "</table>\n",
       "</div>"
      ],
      "text/plain": [
       "                                      weather_report  \\\n",
       "0  {'code': 'clouds', 'type': 'broken clouds', 'i...   \n",
       "0  {'code': 'clouds', 'type': 'overcast clouds', ...   \n",
       "0  {'code': 'clouds', 'type': 'scattered clouds',...   \n",
       "0  {'code': 'clouds', 'type': 'broken clouds', 'i...   \n",
       "0  {'code': 'clear', 'type': 'clear sky', 'icon':...   \n",
       "\n",
       "                                          formations  \\\n",
       "0  {'localteam_formation': '4-3-3', 'visitorteam_...   \n",
       "0  {'localteam_formation': '4-3-3', 'visitorteam_...   \n",
       "0  {'localteam_formation': '4-3-1-2', 'visitortea...   \n",
       "0  {'localteam_formation': '4-2-3-1', 'visitortea...   \n",
       "0  {'localteam_formation': '4-3-3', 'visitorteam_...   \n",
       "\n",
       "                                              scores  \\\n",
       "0  {'localteam_score': 3, 'visitorteam_score': 0,...   \n",
       "0  {'localteam_score': 1, 'visitorteam_score': 0,...   \n",
       "0  {'localteam_score': 4, 'visitorteam_score': 1,...   \n",
       "0  {'localteam_score': 1, 'visitorteam_score': 1,...   \n",
       "0  {'localteam_score': 1, 'visitorteam_score': 0,...   \n",
       "\n",
       "                                                time  \\\n",
       "0  {'status': 'FT', 'starting_at': {'date_time': ...   \n",
       "0  {'status': 'FT', 'starting_at': {'date_time': ...   \n",
       "0  {'status': 'FT', 'starting_at': {'date_time': ...   \n",
       "0  {'status': 'FT', 'starting_at': {'date_time': ...   \n",
       "0  {'status': 'FT', 'starting_at': {'date_time': ...   \n",
       "\n",
       "                                             coaches  \\\n",
       "0  {'localteam_coach_id': 896805, 'visitorteam_co...   \n",
       "0  {'localteam_coach_id': 50, 'visitorteam_coach_...   \n",
       "0  {'localteam_coach_id': 50, 'visitorteam_coach_...   \n",
       "0  {'localteam_coach_id': 2163, 'visitorteam_coac...   \n",
       "0  {'localteam_coach_id': 50, 'visitorteam_coach_...   \n",
       "\n",
       "                                           standings  \\\n",
       "0  {'localteam_position': 2, 'visitorteam_positio...   \n",
       "0  {'localteam_position': 6, 'visitorteam_positio...   \n",
       "0  {'localteam_position': 1, 'visitorteam_positio...   \n",
       "0  {'localteam_position': 2, 'visitorteam_positio...   \n",
       "0  {'localteam_position': 1, 'visitorteam_positio...   \n",
       "\n",
       "                                          assistants  \\\n",
       "0  {'first_assistant_id': 12118, 'second_assistan...   \n",
       "0  {'first_assistant_id': 12118, 'second_assistan...   \n",
       "0  {'first_assistant_id': 12770, 'second_assistan...   \n",
       "0  {'first_assistant_id': 14860, 'second_assistan...   \n",
       "0  {'first_assistant_id': 12118, 'second_assistan...   \n",
       "\n",
       "                                              colors  \n",
       "0  {'localteam': {'color': '#339063', 'kit_colors...  \n",
       "0  {'localteam': {'color': '#2B72DE', 'kit_colors...  \n",
       "0  {'localteam': {'color': '#2B72DE', 'kit_colors...  \n",
       "0  {'localteam': {'color': '#F0F0F0', 'kit_colors...  \n",
       "0  {'localteam': {'color': '#2B72DE', 'kit_colors...  "
      ]
     },
     "execution_count": 180,
     "metadata": {},
     "output_type": "execute_result"
    }
   ],
   "source": [
    "df[dict_cols].head()"
   ]
  },
  {
   "cell_type": "markdown",
   "id": "651b5033",
   "metadata": {},
   "source": [
    "### weather_report\n",
    "\n",
    "This variable contains several values regarding the weather conditions, such as whether it was clear, sunny, cloudy, etc, the precipitaion, humidity, and more. We do believe it is a good variable to predict the outcome, but unfortunately it has 65.29% missing values for our dataset. We will take it into consideration when we use other teams and leagues if in such cases it has a way lower proportion of NaN values."
   ]
  },
  {
   "cell_type": "code",
   "execution_count": 193,
   "id": "d234439d",
   "metadata": {},
   "outputs": [
    {
     "data": {
      "text/plain": [
       "{'code': 'clouds',\n",
       " 'type': 'broken clouds',\n",
       " 'icon': 'https://cdn.sportmonks.com/images/weather/04n.png',\n",
       " 'temperature': {'temp': 48.09, 'unit': 'fahrenheit'},\n",
       " 'temperature_celcius': {'temp': 8.9, 'unit': 'celcius'},\n",
       " 'clouds': '75%',\n",
       " 'humidity': '93%',\n",
       " 'pressure': 1015,\n",
       " 'wind': {'speed': '14.97 m/s', 'degree': 230},\n",
       " 'coordinates': {'lat': 55.8652, 'lon': -4.2576},\n",
       " 'updated_at': '2022-02-02T21:30:03.652856Z'}"
      ]
     },
     "execution_count": 193,
     "metadata": {},
     "output_type": "execute_result"
    }
   ],
   "source": [
    "df['weather_report'].iloc[0]"
   ]
  },
  {
   "cell_type": "code",
   "execution_count": 209,
   "id": "2ddddc6e",
   "metadata": {},
   "outputs": [
    {
     "data": {
      "text/plain": [
       "'65.29%'"
      ]
     },
     "execution_count": 209,
     "metadata": {},
     "output_type": "execute_result"
    }
   ],
   "source": [
    "str(round(100*sum(df['weather_report'].isna())/len(df), 2))+'%'"
   ]
  },
  {
   "cell_type": "markdown",
   "id": "245f37c8",
   "metadata": {},
   "source": [
    "### formations\n",
    "\n",
    "These contain the local and the visitor team formations. Most of this will be 4-3-3, but in certain occasions there might be variations, so we believe this variable could be of use."
   ]
  },
  {
   "cell_type": "code",
   "execution_count": 191,
   "id": "e0de19f9",
   "metadata": {},
   "outputs": [
    {
     "data": {
      "text/plain": [
       "{'localteam_formation': '4-3-3', 'visitorteam_formation': '4-3-3'}"
      ]
     },
     "execution_count": 191,
     "metadata": {},
     "output_type": "execute_result"
    }
   ],
   "source": [
    "df['formations'].iloc[0]"
   ]
  },
  {
   "cell_type": "markdown",
   "id": "65cb0823",
   "metadata": {},
   "source": [
    "### scores\n",
    "\n",
    "These contain information on the amount of goals that were scored by both teams. This is a variable that is only known after the match has ended, so we cannot use it to predict the outcome. However, it can be used as a predicted variable if we were to choose to model it this way."
   ]
  },
  {
   "cell_type": "code",
   "execution_count": 182,
   "id": "70cab796",
   "metadata": {},
   "outputs": [
    {
     "data": {
      "text/plain": [
       "{'localteam_score': 3,\n",
       " 'visitorteam_score': 0,\n",
       " 'localteam_pen_score': None,\n",
       " 'visitorteam_pen_score': None,\n",
       " 'ht_score': '3-0',\n",
       " 'ft_score': '3-0',\n",
       " 'et_score': None,\n",
       " 'ps_score': None}"
      ]
     },
     "execution_count": 182,
     "metadata": {},
     "output_type": "execute_result"
    }
   ],
   "source": [
    "df['scores'].iloc[0]"
   ]
  },
  {
   "cell_type": "markdown",
   "id": "2a2980ae",
   "metadata": {},
   "source": [
    "### time\n",
    "\n",
    "This variable contains information related to the time and date of the match. This can be useful in combination to other variables. For example, we could introduce a variable called _localteam_score_history_ in which we make a weighted sum of the goals with respect to how recently they were made:\n",
    "\n",
    "- Chivas ::: 2022-02 ::: 60 days from today  ::: 3 goals\n",
    "- Chivas ::: 2021-12 ::: 120 days from today ::: 0 goals\n",
    "- Chivas ::: 2021-11 ::: 150 days from today ::: 1 goals\n",
    "- Chivas ::: 2021-09 ::: 210 days from today ::: 3 goals\n",
    "\n",
    "Let $\\lambda = 0.99$, and 720 (2 years) be our maximum window, then:\n",
    "\n",
    "$$\\text{localteam_score_history} = \\lambda^{60/720} \\times 3 + \\lambda^{120/720} \\times 0 + \\lambda^{150/720} \\times 1 + \\lambda^{210/720} \\times 3$$\n",
    "\n",
    "And the same would go for _visitorteam_score_history_"
   ]
  },
  {
   "cell_type": "code",
   "execution_count": 189,
   "id": "33367ab0",
   "metadata": {},
   "outputs": [
    {
     "data": {
      "text/plain": [
       "{'status': 'FT',\n",
       " 'starting_at': {'date_time': '2022-02-02 19:45:00',\n",
       "  'date': '2022-02-02',\n",
       "  'time': '19:45:00',\n",
       "  'timestamp': 1643831100,\n",
       "  'timezone': 'UTC'},\n",
       " 'minute': 95,\n",
       " 'second': None,\n",
       " 'added_time': None,\n",
       " 'extra_minute': None,\n",
       " 'injury_time': None}"
      ]
     },
     "execution_count": 189,
     "metadata": {},
     "output_type": "execute_result"
    }
   ],
   "source": [
    "df['time'].iloc[0]"
   ]
  },
  {
   "cell_type": "markdown",
   "id": "2c3c867d",
   "metadata": {},
   "source": [
    "### standings\n",
    "\n",
    "These dictionaries contain values refering to the current position in the toruney table of both the local and the visitor teams. We believe this will be useful."
   ]
  },
  {
   "cell_type": "code",
   "execution_count": 184,
   "id": "782b5aa8",
   "metadata": {},
   "outputs": [
    {
     "data": {
      "text/plain": [
       "{'localteam_position': 2, 'visitorteam_position': 1}"
      ]
     },
     "execution_count": 184,
     "metadata": {},
     "output_type": "execute_result"
    }
   ],
   "source": [
    "df['standings'].iloc[0]"
   ]
  },
  {
   "cell_type": "markdown",
   "id": "8c08647a",
   "metadata": {},
   "source": [
    "### colors\n",
    "\n",
    "These dictionaries contain values refering to the colors of the teams' jerseys. We do not believe it affects a match, so we drop it."
   ]
  }
 ],
 "metadata": {
  "kernelspec": {
   "display_name": "Python 3 (ipykernel)",
   "language": "python",
   "name": "python3"
  },
  "language_info": {
   "codemirror_mode": {
    "name": "ipython",
    "version": 3
   },
   "file_extension": ".py",
   "mimetype": "text/x-python",
   "name": "python",
   "nbconvert_exporter": "python",
   "pygments_lexer": "ipython3",
   "version": "3.9.7"
  }
 },
 "nbformat": 4,
 "nbformat_minor": 5
}
