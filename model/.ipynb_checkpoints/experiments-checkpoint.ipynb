{
 "cells": [
  {
   "cell_type": "markdown",
   "id": "5687cd33",
   "metadata": {},
   "source": [
    "# Exploratory Data Analysis\n",
    "\n",
    "We will explore our data to observe which variables are the ones that seem most likely to predict the outcome of a match."
   ]
  },
  {
   "cell_type": "code",
   "execution_count": 58,
   "id": "9a3f9f65",
   "metadata": {},
   "outputs": [
    {
     "name": "stdout",
     "output_type": "stream",
     "text": [
      "The autoreload extension is already loaded. To reload it, use:\n",
      "  %reload_ext autoreload\n"
     ]
    }
   ],
   "source": [
    "import requests\n",
    "import numpy as np\n",
    "import pandas as pd\n",
    "import matplotlib.pyplot as plt\n",
    "\n",
    "import variables_n_functions as vnf\n",
    "\n",
    "%load_ext autoreload\n",
    "%autoreload 2"
   ]
  },
  {
   "cell_type": "markdown",
   "id": "073f147b",
   "metadata": {},
   "source": [
    "Read the file that contains the API key:"
   ]
  },
  {
   "cell_type": "code",
   "execution_count": 2,
   "id": "fe413b6c",
   "metadata": {},
   "outputs": [],
   "source": [
    "import yaml\n",
    "key_file = open('sportmonks_token.yaml', 'r')\n",
    "sports_key = yaml.safe_load(key_file)['sports_token']"
   ]
  },
  {
   "cell_type": "markdown",
   "id": "043a833f",
   "metadata": {},
   "source": [
    "We have previously retrieved a df through API calls and stored it in a csv to not make the calls again for the purpose of this exploratory data analysis."
   ]
  },
  {
   "cell_type": "code",
   "execution_count": 3,
   "id": "a5b8f9a2",
   "metadata": {},
   "outputs": [],
   "source": [
    "df = pd.read_csv('premiership_teams_head2head.csv', index_col=0)"
   ]
  },
  {
   "cell_type": "markdown",
   "id": "05f66361",
   "metadata": {},
   "source": [
    "Note however that any column that contains dictionaries have been turned to strings"
   ]
  },
  {
   "cell_type": "code",
   "execution_count": 4,
   "id": "4f6136eb",
   "metadata": {},
   "outputs": [
    {
     "data": {
      "text/plain": [
       "\"{'localteam_formation': '4-3-3', 'visitorteam_formation': '4-3-3'}\""
      ]
     },
     "execution_count": 4,
     "metadata": {},
     "output_type": "execute_result"
    }
   ],
   "source": [
    "df['formations'].iloc[0]"
   ]
  },
  {
   "cell_type": "markdown",
   "id": "9eded664",
   "metadata": {},
   "source": [
    "So we turn each of these columns back to a dictionary"
   ]
  },
  {
   "cell_type": "code",
   "execution_count": 5,
   "id": "e86a242c",
   "metadata": {
    "scrolled": true
   },
   "outputs": [],
   "source": [
    "cols_to_dict = ['scores', 'time', 'coaches', 'standings',\n",
    "                'assistants', 'formations', 'weather_report']\n",
    "\n",
    "for col in cols_to_dict:\n",
    "    df[col] = df[col].apply(lambda x: eval(x) if isinstance(x, str) else None )"
   ]
  },
  {
   "cell_type": "markdown",
   "id": "1e01c48a",
   "metadata": {},
   "source": [
    "We can broadly separate the variables into 3 categories:\n",
    "\n",
    "    1. id variables : Identificators for concepts such as league, season, venue, etc.\n",
    "    2. dictionary variables : Variables that themselves contain dictionaries, such as scores, formations, etc.\n",
    "    3. other variables : The rest of the variables, like commentaries, attendance.\n",
    "    \n",
    "We will go into detail on each of these in the following notebook."
   ]
  },
  {
   "cell_type": "markdown",
   "id": "2b9c72fa",
   "metadata": {},
   "source": [
    "## id variables\n",
    "\n",
    "There are many columns which are only ids for several things, such as the current season, league, stage, etc. In some cases, the ids might be useful whilst in others maybe not that much."
   ]
  },
  {
   "cell_type": "code",
   "execution_count": 6,
   "id": "f544722f",
   "metadata": {},
   "outputs": [
    {
     "data": {
      "text/html": [
       "<div>\n",
       "<style scoped>\n",
       "    .dataframe tbody tr th:only-of-type {\n",
       "        vertical-align: middle;\n",
       "    }\n",
       "\n",
       "    .dataframe tbody tr th {\n",
       "        vertical-align: top;\n",
       "    }\n",
       "\n",
       "    .dataframe thead th {\n",
       "        text-align: right;\n",
       "    }\n",
       "</style>\n",
       "<table border=\"1\" class=\"dataframe\">\n",
       "  <thead>\n",
       "    <tr style=\"text-align: right;\">\n",
       "      <th></th>\n",
       "      <th>id</th>\n",
       "      <th>league_id</th>\n",
       "      <th>season_id</th>\n",
       "      <th>stage_id</th>\n",
       "      <th>round_id</th>\n",
       "      <th>group_id</th>\n",
       "      <th>aggregate_id</th>\n",
       "      <th>venue_id</th>\n",
       "      <th>referee_id</th>\n",
       "      <th>localteam_id</th>\n",
       "      <th>visitorteam_id</th>\n",
       "      <th>winner_team_id</th>\n",
       "    </tr>\n",
       "  </thead>\n",
       "  <tbody>\n",
       "    <tr>\n",
       "      <th>0</th>\n",
       "      <td>18137008</td>\n",
       "      <td>501</td>\n",
       "      <td>18369</td>\n",
       "      <td>77453684</td>\n",
       "      <td>247452.0</td>\n",
       "      <td>NaN</td>\n",
       "      <td>NaN</td>\n",
       "      <td>8909</td>\n",
       "      <td>14853.0</td>\n",
       "      <td>53</td>\n",
       "      <td>62</td>\n",
       "      <td>53.0</td>\n",
       "    </tr>\n",
       "    <tr>\n",
       "      <th>0</th>\n",
       "      <td>18136904</td>\n",
       "      <td>501</td>\n",
       "      <td>18369</td>\n",
       "      <td>77453684</td>\n",
       "      <td>247434.0</td>\n",
       "      <td>NaN</td>\n",
       "      <td>NaN</td>\n",
       "      <td>8914</td>\n",
       "      <td>18748.0</td>\n",
       "      <td>62</td>\n",
       "      <td>53</td>\n",
       "      <td>62.0</td>\n",
       "    </tr>\n",
       "    <tr>\n",
       "      <th>0</th>\n",
       "      <td>17947857</td>\n",
       "      <td>501</td>\n",
       "      <td>17141</td>\n",
       "      <td>77447500</td>\n",
       "      <td>240676.0</td>\n",
       "      <td>243965.0</td>\n",
       "      <td>NaN</td>\n",
       "      <td>8914</td>\n",
       "      <td>14468.0</td>\n",
       "      <td>62</td>\n",
       "      <td>53</td>\n",
       "      <td>62.0</td>\n",
       "    </tr>\n",
       "    <tr>\n",
       "      <th>0</th>\n",
       "      <td>16475470</td>\n",
       "      <td>501</td>\n",
       "      <td>17141</td>\n",
       "      <td>77447501</td>\n",
       "      <td>194999.0</td>\n",
       "      <td>NaN</td>\n",
       "      <td>NaN</td>\n",
       "      <td>8909</td>\n",
       "      <td>14859.0</td>\n",
       "      <td>53</td>\n",
       "      <td>62</td>\n",
       "      <td>NaN</td>\n",
       "    </tr>\n",
       "    <tr>\n",
       "      <th>0</th>\n",
       "      <td>16475413</td>\n",
       "      <td>501</td>\n",
       "      <td>17141</td>\n",
       "      <td>77447501</td>\n",
       "      <td>194989.0</td>\n",
       "      <td>NaN</td>\n",
       "      <td>NaN</td>\n",
       "      <td>8914</td>\n",
       "      <td>14853.0</td>\n",
       "      <td>62</td>\n",
       "      <td>53</td>\n",
       "      <td>62.0</td>\n",
       "    </tr>\n",
       "  </tbody>\n",
       "</table>\n",
       "</div>"
      ],
      "text/plain": [
       "         id  league_id  season_id  stage_id  round_id  group_id  aggregate_id  \\\n",
       "0  18137008        501      18369  77453684  247452.0       NaN           NaN   \n",
       "0  18136904        501      18369  77453684  247434.0       NaN           NaN   \n",
       "0  17947857        501      17141  77447500  240676.0  243965.0           NaN   \n",
       "0  16475470        501      17141  77447501  194999.0       NaN           NaN   \n",
       "0  16475413        501      17141  77447501  194989.0       NaN           NaN   \n",
       "\n",
       "   venue_id  referee_id  localteam_id  visitorteam_id  winner_team_id  \n",
       "0      8909     14853.0            53              62            53.0  \n",
       "0      8914     18748.0            62              53            62.0  \n",
       "0      8914     14468.0            62              53            62.0  \n",
       "0      8909     14859.0            53              62             NaN  \n",
       "0      8914     14853.0            62              53            62.0  "
      ]
     },
     "execution_count": 6,
     "metadata": {},
     "output_type": "execute_result"
    }
   ],
   "source": [
    "id_cols = [ col for col in list(df.columns) if 'id' in col]\n",
    "df[id_cols].head()"
   ]
  },
  {
   "cell_type": "markdown",
   "id": "ebd52615",
   "metadata": {},
   "source": [
    "### id\n",
    "The _id_ is simply the index for the unique combination of league, season, stage, etc. i.e. for the given match between the respective 2 teams. We will **not** use it for predictions since it changes for every match, but it is key to avoid duplicates when we update the database."
   ]
  },
  {
   "cell_type": "markdown",
   "id": "b9111329",
   "metadata": {},
   "source": [
    "### league_id\n",
    "The _league_id_ is the league in which the match took place (f.e. Champions League, Copa America). We consider that they **will** be useful to predict the outcome, since each league has it's own set of rules, and also they might affect the players differently."
   ]
  },
  {
   "cell_type": "markdown",
   "id": "f67de931",
   "metadata": {},
   "source": [
    "### season_id\n",
    "The _season_id_ is the season in which the match took place (f.e. 2019-2020, 2021). We will **not**  use them to predict the outcome of the match, since we can have date information from other variables."
   ]
  },
  {
   "cell_type": "markdown",
   "id": "ebbedd17",
   "metadata": {},
   "source": [
    "### stage_id\n",
    "\n",
    "_stage_id_ is the current stage for the given league and season. Thus, as it is, it is not really useful because there will be too few observations of it. What is useful is to query an API request with the _stage_id_ to obtain the _name_ and the _type_, as can be seen in the following cell:"
   ]
  },
  {
   "cell_type": "code",
   "execution_count": 7,
   "id": "9e7c90b4",
   "metadata": {},
   "outputs": [
    {
     "data": {
      "text/plain": [
       "{'id': 77453684,\n",
       " 'name': '1st Phase',\n",
       " 'type': 'Group Stage',\n",
       " 'league_id': 501,\n",
       " 'season_id': 18369,\n",
       " 'sort_order': -1,\n",
       " 'has_standings': True,\n",
       " 'has_outgroup_matches': 0}"
      ]
     },
     "execution_count": 7,
     "metadata": {},
     "output_type": "execute_result"
    }
   ],
   "source": [
    "r = requests.get(f'https://soccer.sportmonks.com/api/v2.0/stages/77453684?api_token={sports_key}')\n",
    "eval(r.text.replace('true', 'True').replace('false', 'False'))['data']"
   ]
  },
  {
   "cell_type": "markdown",
   "id": "cd49ab9c",
   "metadata": {},
   "source": [
    "We will currently not retrieve these values, but we will take them into consideration in later iterations."
   ]
  },
  {
   "cell_type": "markdown",
   "id": "ee35b661",
   "metadata": {},
   "source": [
    "### round_id\n",
    "\n",
    "The _round_id_ is the round for the given league and season; in spanish it is also known as \"jornada\". Thus, as it is, it is not really useful because there will be too few observations of it. What could be useful is to query an API request with the _round_id_ to obtain the _name_ (the number of the round) as can be seen in the following cell:"
   ]
  },
  {
   "cell_type": "code",
   "execution_count": 8,
   "id": "99c5790b",
   "metadata": {},
   "outputs": [
    {
     "data": {
      "text/plain": [
       "{'id': 240676,\n",
       " 'name': 3,\n",
       " 'league_id': 501,\n",
       " 'season_id': 17141,\n",
       " 'stage_id': 77447500,\n",
       " 'start': '2021-05-01',\n",
       " 'end': '2021-05-02'}"
      ]
     },
     "execution_count": 8,
     "metadata": {},
     "output_type": "execute_result"
    }
   ],
   "source": [
    "# r = requests.get(f'https://soccer.sportmonks.com/api/v2.0/rounds/247452?api_token={sports_key}')\n",
    "r = requests.get(f'https://soccer.sportmonks.com/api/v2.0/rounds/240676?api_token={sports_key}')\n",
    "eval(r.text.replace('true', 'True').replace('false', 'False'))['data']"
   ]
  },
  {
   "cell_type": "markdown",
   "id": "3ac48cda",
   "metadata": {},
   "source": [
    "But even then, we consider that the number of the round is not that useful to predict the outcome, so we will not get it."
   ]
  },
  {
   "cell_type": "markdown",
   "id": "3969e40e",
   "metadata": {},
   "source": [
    "### group_id\n",
    "\n",
    "The _group_id_ is not as straightforward as the previous ones. What the API refers to as _group_id_ is when certain leagues separates the best teams from the worst after a certain amount of matches have been played. Since there are many NaN values (88.26% just in this dataset), we do not consider it to be useful to make predictions, so we will omit it."
   ]
  },
  {
   "cell_type": "code",
   "execution_count": 9,
   "id": "5f6ae84d",
   "metadata": {},
   "outputs": [
    {
     "data": {
      "text/plain": [
       "'88.26%'"
      ]
     },
     "execution_count": 9,
     "metadata": {},
     "output_type": "execute_result"
    }
   ],
   "source": [
    "str(round(100*sum(df['group_id'].isna())/len(df), 2))+'%'"
   ]
  },
  {
   "cell_type": "markdown",
   "id": "8e4b78d1",
   "metadata": {},
   "source": [
    "### aggregate_id\n",
    "\n",
    "The _aggregate_id_ refers to when both teams play one-home and one-away games (in spanish, \"ida y vuelta\"). Most of the matches do not have this modality (99.62% in this dataset), thus incurring in many NaN values, so we will omit it."
   ]
  },
  {
   "cell_type": "code",
   "execution_count": 10,
   "id": "67b3b9fa",
   "metadata": {},
   "outputs": [
    {
     "data": {
      "text/plain": [
       "'99.62%'"
      ]
     },
     "execution_count": 10,
     "metadata": {},
     "output_type": "execute_result"
    }
   ],
   "source": [
    "str(round(100*sum(df['aggregate_id'].isna())/len(df), 2))+'%'"
   ]
  },
  {
   "cell_type": "markdown",
   "id": "4b940877",
   "metadata": {},
   "source": [
    "### venue_id\n",
    "\n",
    "The _venue_id_ is the id of the stadium. At first, it might seem to be repetitive considering that most of the time, the venue is the one associated to the local team. Yet, there are occassions in which certain matches are played in a venue that neither of the teams owned. We consider that this variable might be able to tell us something about the outcome of the match.\n",
    "\n",
    "Note: We could search for each stadium's _capacity_, and use it to get the proportion up to which it was filled on a given match (by using the variable _attendance_ that we have in the dataset). This variable could be useful for our predictions, but we will explore it in later iterations."
   ]
  },
  {
   "cell_type": "code",
   "execution_count": 11,
   "id": "9083edbe",
   "metadata": {},
   "outputs": [
    {
     "data": {
      "text/plain": [
       "{'id': 8909,\n",
       " 'name': 'Celtic Park',\n",
       " 'surface': 'grass',\n",
       " 'address': '18 Kerrydale Street',\n",
       " 'city': 'Glasgow',\n",
       " 'capacity': 60411,\n",
       " 'image_path': 'https:\\\\/\\\\/cdn.sportmonks.com\\\\/images\\\\/soccer\\\\/venues\\\\/13\\\\/8909.png',\n",
       " 'coordinates': '55.849711,-4.205589'}"
      ]
     },
     "execution_count": 11,
     "metadata": {},
     "output_type": "execute_result"
    }
   ],
   "source": [
    "r = requests.get(f'https://soccer.sportmonks.com/api/v2.0/venues/8909?api_token={sports_key}')\n",
    "eval(r.text.replace('true', 'True').replace('false', 'False'))['data']"
   ]
  },
  {
   "cell_type": "markdown",
   "id": "06fef9b9",
   "metadata": {},
   "source": [
    "### referee_id\n",
    "\n",
    "The _referee_id_ is the id of the main/first referee. We believe that certain behaviours and actions taken by the referee could be biased, so this variable might give us some insight into the outcome of the match."
   ]
  },
  {
   "cell_type": "markdown",
   "id": "3904e002",
   "metadata": {},
   "source": [
    "### localteam_id & visitorteam_id\n",
    "These are  very straightforward, and we will definitely use them to let the model understand the historical importance of both teams winning odds against each other."
   ]
  },
  {
   "cell_type": "markdown",
   "id": "744f48b1",
   "metadata": {},
   "source": [
    "### winner_team_id\n",
    "These variable equals _localteam_id_ when the local team wins, it equals _visitorteam_id_ when the visitor team wins, and is NaN in the case of a tie. This variable is considerably important, since we can extrapolate our response variable _y_ from it. We will define it as follows:\n",
    "\n",
    "```Python\n",
    "if _winner_team_id_ == _localteam_id_:\n",
    "    y = 1 \n",
    "else:\n",
    "    y = 0.5 \n",
    "```"
   ]
  },
  {
   "cell_type": "markdown",
   "id": "67710e8c",
   "metadata": {},
   "source": [
    "## other variables\n",
    "\n",
    "We will explore _other variables_ before _dictionary variables_ since the latter require particular attention for each case."
   ]
  },
  {
   "cell_type": "code",
   "execution_count": 12,
   "id": "8fb85450",
   "metadata": {
    "scrolled": false
   },
   "outputs": [
    {
     "data": {
      "text/html": [
       "<div>\n",
       "<style scoped>\n",
       "    .dataframe tbody tr th:only-of-type {\n",
       "        vertical-align: middle;\n",
       "    }\n",
       "\n",
       "    .dataframe tbody tr th {\n",
       "        vertical-align: top;\n",
       "    }\n",
       "\n",
       "    .dataframe thead th {\n",
       "        text-align: right;\n",
       "    }\n",
       "</style>\n",
       "<table border=\"1\" class=\"dataframe\">\n",
       "  <thead>\n",
       "    <tr style=\"text-align: right;\">\n",
       "      <th></th>\n",
       "      <th>commentaries</th>\n",
       "      <th>attendance</th>\n",
       "      <th>pitch</th>\n",
       "      <th>details</th>\n",
       "      <th>neutral_venue</th>\n",
       "      <th>winning_odds_calculated</th>\n",
       "      <th>leg</th>\n",
       "      <th>deleted</th>\n",
       "      <th>is_placeholder</th>\n",
       "    </tr>\n",
       "  </thead>\n",
       "  <tbody>\n",
       "    <tr>\n",
       "      <th>0</th>\n",
       "      <td>True</td>\n",
       "      <td>NaN</td>\n",
       "      <td>NaN</td>\n",
       "      <td>NaN</td>\n",
       "      <td>False</td>\n",
       "      <td>True</td>\n",
       "      <td>1/1</td>\n",
       "      <td>False</td>\n",
       "      <td>False</td>\n",
       "    </tr>\n",
       "    <tr>\n",
       "      <th>0</th>\n",
       "      <td>True</td>\n",
       "      <td>NaN</td>\n",
       "      <td>NaN</td>\n",
       "      <td>NaN</td>\n",
       "      <td>False</td>\n",
       "      <td>True</td>\n",
       "      <td>1/1</td>\n",
       "      <td>False</td>\n",
       "      <td>False</td>\n",
       "    </tr>\n",
       "    <tr>\n",
       "      <th>0</th>\n",
       "      <td>True</td>\n",
       "      <td>NaN</td>\n",
       "      <td>NaN</td>\n",
       "      <td>NaN</td>\n",
       "      <td>False</td>\n",
       "      <td>True</td>\n",
       "      <td>1/1</td>\n",
       "      <td>False</td>\n",
       "      <td>False</td>\n",
       "    </tr>\n",
       "    <tr>\n",
       "      <th>0</th>\n",
       "      <td>False</td>\n",
       "      <td>NaN</td>\n",
       "      <td>NaN</td>\n",
       "      <td>NaN</td>\n",
       "      <td>False</td>\n",
       "      <td>True</td>\n",
       "      <td>1/1</td>\n",
       "      <td>False</td>\n",
       "      <td>False</td>\n",
       "    </tr>\n",
       "    <tr>\n",
       "      <th>0</th>\n",
       "      <td>False</td>\n",
       "      <td>NaN</td>\n",
       "      <td>NaN</td>\n",
       "      <td>NaN</td>\n",
       "      <td>False</td>\n",
       "      <td>True</td>\n",
       "      <td>1/1</td>\n",
       "      <td>False</td>\n",
       "      <td>False</td>\n",
       "    </tr>\n",
       "  </tbody>\n",
       "</table>\n",
       "</div>"
      ],
      "text/plain": [
       "  commentaries  attendance pitch  details  neutral_venue  \\\n",
       "0         True         NaN   NaN      NaN          False   \n",
       "0         True         NaN   NaN      NaN          False   \n",
       "0         True         NaN   NaN      NaN          False   \n",
       "0        False         NaN   NaN      NaN          False   \n",
       "0        False         NaN   NaN      NaN          False   \n",
       "\n",
       "   winning_odds_calculated  leg  deleted  is_placeholder  \n",
       "0                     True  1/1    False           False  \n",
       "0                     True  1/1    False           False  \n",
       "0                     True  1/1    False           False  \n",
       "0                     True  1/1    False           False  \n",
       "0                     True  1/1    False           False  "
      ]
     },
     "execution_count": 12,
     "metadata": {},
     "output_type": "execute_result"
    }
   ],
   "source": [
    "dict_cols = ['weather_report', 'formations', 'scores', 'time', 'coaches', 'standings', 'assistants', 'colors']\n",
    "df.drop(id_cols + dict_cols, 1).head()"
   ]
  },
  {
   "cell_type": "markdown",
   "id": "9d237ce5",
   "metadata": {},
   "source": [
    "### commentaries\n",
    "\n",
    "The _commentaries_ column indicates whether there are registered commentaries for the match (True) or not (False). We believe that this does not affect the outcome of the match since players themselves aren't affected by a person talking over the development of a match. It could maybe be an indicator of whether the match was important enough so as to be commentated, thus incurring in some psychological effect to the players, but we will drop it for the moment."
   ]
  },
  {
   "cell_type": "markdown",
   "id": "822a16d7",
   "metadata": {},
   "source": [
    "### attendance\n",
    "\n",
    "The _attendance_ column indicates the number of people that went to the venue to watch the match. Whilst this variable seems to give us insight into the importance of the match and to the psychological effects this might take into the players' mindset, it unfourtunately has too many missing values (92.57%). This might be due to certain mathces not allowing the entrance to people, or even just that there was no register of the total amount. Thus, we will unfortunately leave it out. Perhaps when we explore other teams the NaN percentage might drop, so we will take it into consideration when we expand our dataset."
   ]
  },
  {
   "cell_type": "code",
   "execution_count": 13,
   "id": "06c712d7",
   "metadata": {
    "scrolled": true
   },
   "outputs": [
    {
     "data": {
      "text/plain": [
       "'92.57%'"
      ]
     },
     "execution_count": 13,
     "metadata": {},
     "output_type": "execute_result"
    }
   ],
   "source": [
    "str(round(100*sum(df['attendance'].isna())/len(df), 2))+'%'"
   ]
  },
  {
   "cell_type": "code",
   "execution_count": 14,
   "id": "66db5a1b",
   "metadata": {},
   "outputs": [
    {
     "data": {
      "image/png": "[encoded data removed]",
      "text/plain": [
       "<Figure size 432x288 with 1 Axes>"
      ]
     },
     "metadata": {
      "needs_background": "light"
     },
     "output_type": "display_data"
    }
   ],
   "source": [
    "plt.hist(df['attendance'])\n",
    "plt.title('attendance');"
   ]
  },
  {
   "cell_type": "markdown",
   "id": "9b588d93",
   "metadata": {},
   "source": [
    "### pitch\n",
    "\n",
    "The _picth_ column indicates the overall weather conditions. However has too many NaN (88.69%). We do believe that this variable can help us predict the outcome, so we will replace the NaN values with 'Regular'."
   ]
  },
  {
   "cell_type": "code",
   "execution_count": 15,
   "id": "bc6b4fe2",
   "metadata": {},
   "outputs": [
    {
     "data": {
      "text/plain": [
       "['Good',\n",
       " 'Excellent',\n",
       " 'Wet and Fast',\n",
       " 'Uneven and|cutting up',\n",
       " 'Artificial Turf',\n",
       " 'Wet']"
      ]
     },
     "execution_count": 15,
     "metadata": {},
     "output_type": "execute_result"
    }
   ],
   "source": [
    "df[~df['pitch'].isna()]['pitch'].unique().tolist()"
   ]
  },
  {
   "cell_type": "code",
   "execution_count": 16,
   "id": "d7a2312b",
   "metadata": {
    "scrolled": true
   },
   "outputs": [
    {
     "data": {
      "text/plain": [
       "'88.69%'"
      ]
     },
     "execution_count": 16,
     "metadata": {},
     "output_type": "execute_result"
    }
   ],
   "source": [
    "str(round(100*sum(df['pitch'].isna())/len(df), 2))+'%'"
   ]
  },
  {
   "cell_type": "markdown",
   "id": "fa12abf4",
   "metadata": {},
   "source": [
    "### details\n",
    "\n",
    "The _details_ column is a complete NaN. Maybe for other teams and matches this could have some values, but we will drop it until we examine if it could be useful for other cases. "
   ]
  },
  {
   "cell_type": "code",
   "execution_count": 17,
   "id": "6d834164",
   "metadata": {
    "scrolled": true
   },
   "outputs": [
    {
     "data": {
      "text/plain": [
       "'100.0%'"
      ]
     },
     "execution_count": 17,
     "metadata": {},
     "output_type": "execute_result"
    }
   ],
   "source": [
    "str(round(100*sum(df['details'].isna())/len(df), 2))+'%'"
   ]
  },
  {
   "cell_type": "markdown",
   "id": "69be5951",
   "metadata": {},
   "source": [
    "### neutral_venue\n",
    "\n",
    "The _neutral_venue_ column indicates whether the stadium did not belong to either team (True) or yes (False). At least in the case of this dataset, we only have False values (0 values), but this does not indicate that it will always be that way. For the moment, we will drop it."
   ]
  },
  {
   "cell_type": "code",
   "execution_count": 18,
   "id": "341fade7",
   "metadata": {
    "scrolled": true
   },
   "outputs": [
    {
     "data": {
      "text/plain": [
       "0"
      ]
     },
     "execution_count": 18,
     "metadata": {},
     "output_type": "execute_result"
    }
   ],
   "source": [
    "sum(df['neutral_venue'])"
   ]
  },
  {
   "cell_type": "markdown",
   "id": "37765dcd",
   "metadata": {},
   "source": [
    "### winning_odds_calculated\n",
    "\n",
    "This reflects whether the odds for the outcome were calculated. We believe this does not affect in any way to the outcome of the match, so we will omit it."
   ]
  },
  {
   "cell_type": "markdown",
   "id": "fcc4d9c0",
   "metadata": {},
   "source": [
    "### leg\n",
    "The _leg_ refers to the current game number with respect to the total amount of games that the match has. For example, if America and Pumas were to compete 2 times in the tourney to advance to the next round, and the current game is the first of the 2 games, then ``leg = 1/2``. We do consider this variable can affect the outcome of the match."
   ]
  },
  {
   "cell_type": "code",
   "execution_count": 19,
   "id": "de29ba42",
   "metadata": {},
   "outputs": [
    {
     "data": {
      "text/plain": [
       "['1/1', '2/2', '1/2']"
      ]
     },
     "execution_count": 19,
     "metadata": {},
     "output_type": "execute_result"
    }
   ],
   "source": [
    "df['leg'].unique().tolist()"
   ]
  },
  {
   "cell_type": "markdown",
   "id": "77da89e0",
   "metadata": {},
   "source": [
    "### deleted\n",
    "\n",
    "This is a metadata variable that keeps track of wether this register was deleted from the current Sportmonks DB. Thus, we will delete it."
   ]
  },
  {
   "cell_type": "markdown",
   "id": "166cb3e9",
   "metadata": {},
   "source": [
    "### is_placeholder\n",
    "\n",
    "Sportmonks documentation for this variable states: \"This property indicates if the resource is used to display dummy data. The false of this property will always be a boolean value.\" We did not quite understand what it means, but it does not seem to affect the outcome of the match, so we drop it."
   ]
  },
  {
   "cell_type": "markdown",
   "id": "2951d16a",
   "metadata": {},
   "source": [
    "## dictionary variables\n",
    "\n",
    "The following variables contain dictionary values in each register. They have to be analyzed individually."
   ]
  },
  {
   "cell_type": "code",
   "execution_count": 20,
   "id": "70bf95c6",
   "metadata": {},
   "outputs": [
    {
     "data": {
      "text/html": [
       "<div>\n",
       "<style scoped>\n",
       "    .dataframe tbody tr th:only-of-type {\n",
       "        vertical-align: middle;\n",
       "    }\n",
       "\n",
       "    .dataframe tbody tr th {\n",
       "        vertical-align: top;\n",
       "    }\n",
       "\n",
       "    .dataframe thead th {\n",
       "        text-align: right;\n",
       "    }\n",
       "</style>\n",
       "<table border=\"1\" class=\"dataframe\">\n",
       "  <thead>\n",
       "    <tr style=\"text-align: right;\">\n",
       "      <th></th>\n",
       "      <th>weather_report</th>\n",
       "      <th>formations</th>\n",
       "      <th>scores</th>\n",
       "      <th>time</th>\n",
       "      <th>coaches</th>\n",
       "      <th>standings</th>\n",
       "      <th>assistants</th>\n",
       "      <th>colors</th>\n",
       "    </tr>\n",
       "  </thead>\n",
       "  <tbody>\n",
       "    <tr>\n",
       "      <th>0</th>\n",
       "      <td>{'code': 'clouds', 'type': 'broken clouds', 'i...</td>\n",
       "      <td>{'localteam_formation': '4-3-3', 'visitorteam_...</td>\n",
       "      <td>{'localteam_score': 3, 'visitorteam_score': 0,...</td>\n",
       "      <td>{'status': 'FT', 'starting_at': {'date_time': ...</td>\n",
       "      <td>{'localteam_coach_id': 896805, 'visitorteam_co...</td>\n",
       "      <td>{'localteam_position': 2, 'visitorteam_positio...</td>\n",
       "      <td>{'first_assistant_id': 12118, 'second_assistan...</td>\n",
       "      <td>{'localteam': {'color': '#339063', 'kit_colors...</td>\n",
       "    </tr>\n",
       "    <tr>\n",
       "      <th>0</th>\n",
       "      <td>{'code': 'clouds', 'type': 'overcast clouds', ...</td>\n",
       "      <td>{'localteam_formation': '4-3-3', 'visitorteam_...</td>\n",
       "      <td>{'localteam_score': 1, 'visitorteam_score': 0,...</td>\n",
       "      <td>{'status': 'FT', 'starting_at': {'date_time': ...</td>\n",
       "      <td>{'localteam_coach_id': 50, 'visitorteam_coach_...</td>\n",
       "      <td>{'localteam_position': 6, 'visitorteam_positio...</td>\n",
       "      <td>{'first_assistant_id': 12118, 'second_assistan...</td>\n",
       "      <td>{'localteam': {'color': '#2B72DE', 'kit_colors...</td>\n",
       "    </tr>\n",
       "    <tr>\n",
       "      <th>0</th>\n",
       "      <td>{'code': 'clouds', 'type': 'scattered clouds',...</td>\n",
       "      <td>{'localteam_formation': '4-3-1-2', 'visitortea...</td>\n",
       "      <td>{'localteam_score': 4, 'visitorteam_score': 1,...</td>\n",
       "      <td>{'status': 'FT', 'starting_at': {'date_time': ...</td>\n",
       "      <td>{'localteam_coach_id': 50, 'visitorteam_coach_...</td>\n",
       "      <td>{'localteam_position': 1, 'visitorteam_positio...</td>\n",
       "      <td>{'first_assistant_id': 12770, 'second_assistan...</td>\n",
       "      <td>{'localteam': {'color': '#2B72DE', 'kit_colors...</td>\n",
       "    </tr>\n",
       "    <tr>\n",
       "      <th>0</th>\n",
       "      <td>{'code': 'clouds', 'type': 'broken clouds', 'i...</td>\n",
       "      <td>{'localteam_formation': '4-2-3-1', 'visitortea...</td>\n",
       "      <td>{'localteam_score': 1, 'visitorteam_score': 1,...</td>\n",
       "      <td>{'status': 'FT', 'starting_at': {'date_time': ...</td>\n",
       "      <td>{'localteam_coach_id': 2163, 'visitorteam_coac...</td>\n",
       "      <td>{'localteam_position': 2, 'visitorteam_positio...</td>\n",
       "      <td>{'first_assistant_id': 14860, 'second_assistan...</td>\n",
       "      <td>{'localteam': {'color': '#F0F0F0', 'kit_colors...</td>\n",
       "    </tr>\n",
       "    <tr>\n",
       "      <th>0</th>\n",
       "      <td>{'code': 'clear', 'type': 'clear sky', 'icon':...</td>\n",
       "      <td>{'localteam_formation': '4-3-3', 'visitorteam_...</td>\n",
       "      <td>{'localteam_score': 1, 'visitorteam_score': 0,...</td>\n",
       "      <td>{'status': 'FT', 'starting_at': {'date_time': ...</td>\n",
       "      <td>{'localteam_coach_id': 50, 'visitorteam_coach_...</td>\n",
       "      <td>{'localteam_position': 1, 'visitorteam_positio...</td>\n",
       "      <td>{'first_assistant_id': 12118, 'second_assistan...</td>\n",
       "      <td>{'localteam': {'color': '#2B72DE', 'kit_colors...</td>\n",
       "    </tr>\n",
       "  </tbody>\n",
       "</table>\n",
       "</div>"
      ],
      "text/plain": [
       "                                      weather_report  \\\n",
       "0  {'code': 'clouds', 'type': 'broken clouds', 'i...   \n",
       "0  {'code': 'clouds', 'type': 'overcast clouds', ...   \n",
       "0  {'code': 'clouds', 'type': 'scattered clouds',...   \n",
       "0  {'code': 'clouds', 'type': 'broken clouds', 'i...   \n",
       "0  {'code': 'clear', 'type': 'clear sky', 'icon':...   \n",
       "\n",
       "                                          formations  \\\n",
       "0  {'localteam_formation': '4-3-3', 'visitorteam_...   \n",
       "0  {'localteam_formation': '4-3-3', 'visitorteam_...   \n",
       "0  {'localteam_formation': '4-3-1-2', 'visitortea...   \n",
       "0  {'localteam_formation': '4-2-3-1', 'visitortea...   \n",
       "0  {'localteam_formation': '4-3-3', 'visitorteam_...   \n",
       "\n",
       "                                              scores  \\\n",
       "0  {'localteam_score': 3, 'visitorteam_score': 0,...   \n",
       "0  {'localteam_score': 1, 'visitorteam_score': 0,...   \n",
       "0  {'localteam_score': 4, 'visitorteam_score': 1,...   \n",
       "0  {'localteam_score': 1, 'visitorteam_score': 1,...   \n",
       "0  {'localteam_score': 1, 'visitorteam_score': 0,...   \n",
       "\n",
       "                                                time  \\\n",
       "0  {'status': 'FT', 'starting_at': {'date_time': ...   \n",
       "0  {'status': 'FT', 'starting_at': {'date_time': ...   \n",
       "0  {'status': 'FT', 'starting_at': {'date_time': ...   \n",
       "0  {'status': 'FT', 'starting_at': {'date_time': ...   \n",
       "0  {'status': 'FT', 'starting_at': {'date_time': ...   \n",
       "\n",
       "                                             coaches  \\\n",
       "0  {'localteam_coach_id': 896805, 'visitorteam_co...   \n",
       "0  {'localteam_coach_id': 50, 'visitorteam_coach_...   \n",
       "0  {'localteam_coach_id': 50, 'visitorteam_coach_...   \n",
       "0  {'localteam_coach_id': 2163, 'visitorteam_coac...   \n",
       "0  {'localteam_coach_id': 50, 'visitorteam_coach_...   \n",
       "\n",
       "                                           standings  \\\n",
       "0  {'localteam_position': 2, 'visitorteam_positio...   \n",
       "0  {'localteam_position': 6, 'visitorteam_positio...   \n",
       "0  {'localteam_position': 1, 'visitorteam_positio...   \n",
       "0  {'localteam_position': 2, 'visitorteam_positio...   \n",
       "0  {'localteam_position': 1, 'visitorteam_positio...   \n",
       "\n",
       "                                          assistants  \\\n",
       "0  {'first_assistant_id': 12118, 'second_assistan...   \n",
       "0  {'first_assistant_id': 12118, 'second_assistan...   \n",
       "0  {'first_assistant_id': 12770, 'second_assistan...   \n",
       "0  {'first_assistant_id': 14860, 'second_assistan...   \n",
       "0  {'first_assistant_id': 12118, 'second_assistan...   \n",
       "\n",
       "                                              colors  \n",
       "0  {'localteam': {'color': '#339063', 'kit_colors...  \n",
       "0  {'localteam': {'color': '#2B72DE', 'kit_colors...  \n",
       "0  {'localteam': {'color': '#2B72DE', 'kit_colors...  \n",
       "0  {'localteam': {'color': '#F0F0F0', 'kit_colors...  \n",
       "0  {'localteam': {'color': '#2B72DE', 'kit_colors...  "
      ]
     },
     "execution_count": 20,
     "metadata": {},
     "output_type": "execute_result"
    }
   ],
   "source": [
    "df[dict_cols].head()"
   ]
  },
  {
   "cell_type": "markdown",
   "id": "651b5033",
   "metadata": {},
   "source": [
    "### weather_report\n",
    "\n",
    "This variable contains several values regarding the weather conditions, such as whether it was clear, sunny, cloudy, etc, the precipitaion, humidity, and more. We do believe it is a good variable to predict the outcome, but unfortunately it has 65.29% missing values for our dataset. We will take it into consideration when we use other teams and leagues if in such cases it has a way lower proportion of NaN values."
   ]
  },
  {
   "cell_type": "code",
   "execution_count": 21,
   "id": "d234439d",
   "metadata": {},
   "outputs": [
    {
     "data": {
      "text/plain": [
       "{'code': 'clouds',\n",
       " 'type': 'broken clouds',\n",
       " 'icon': 'https://cdn.sportmonks.com/images/weather/04n.png',\n",
       " 'temperature': {'temp': 48.09, 'unit': 'fahrenheit'},\n",
       " 'temperature_celcius': {'temp': 8.9, 'unit': 'celcius'},\n",
       " 'clouds': '75%',\n",
       " 'humidity': '93%',\n",
       " 'pressure': 1015,\n",
       " 'wind': {'speed': '14.97 m/s', 'degree': 230},\n",
       " 'coordinates': {'lat': 55.8652, 'lon': -4.2576},\n",
       " 'updated_at': '2022-02-02T21:30:03.652856Z'}"
      ]
     },
     "execution_count": 21,
     "metadata": {},
     "output_type": "execute_result"
    }
   ],
   "source": [
    "df['weather_report'].iloc[0]"
   ]
  },
  {
   "cell_type": "code",
   "execution_count": 22,
   "id": "2ddddc6e",
   "metadata": {},
   "outputs": [
    {
     "data": {
      "text/plain": [
       "'65.29%'"
      ]
     },
     "execution_count": 22,
     "metadata": {},
     "output_type": "execute_result"
    }
   ],
   "source": [
    "str(round(100*sum(df['weather_report'].isna())/len(df), 2))+'%'"
   ]
  },
  {
   "cell_type": "markdown",
   "id": "245f37c8",
   "metadata": {},
   "source": [
    "### formations\n",
    "\n",
    "These contain the local and the visitor team formations. Most of this will be 4-3-3, but in certain occasions there might be variations, so we believe this variable could be of use."
   ]
  },
  {
   "cell_type": "code",
   "execution_count": 23,
   "id": "e0de19f9",
   "metadata": {},
   "outputs": [
    {
     "data": {
      "text/plain": [
       "{'localteam_formation': '4-3-3', 'visitorteam_formation': '4-3-3'}"
      ]
     },
     "execution_count": 23,
     "metadata": {},
     "output_type": "execute_result"
    }
   ],
   "source": [
    "df['formations'].iloc[0]"
   ]
  },
  {
   "cell_type": "markdown",
   "id": "77690804",
   "metadata": {},
   "source": [
    "However, closer inspection to this variable showed that even though the column has no NaN values, there are actual None values inside each dictionary (67.55%), thus making this a non viable variable."
   ]
  },
  {
   "cell_type": "code",
   "execution_count": 24,
   "id": "7b9876ef",
   "metadata": {},
   "outputs": [],
   "source": [
    "col = 'formations'\n",
    "aux_df = pd.DataFrame(columns = df[col].iloc[0].keys())\n",
    "for k in range(len(df)):\n",
    "    aux = pd.DataFrame(df[col].iloc[k].values()).transpose()\n",
    "    aux.columns = df[col].iloc[k].keys()\n",
    "    aux_df = pd.concat([aux_df, aux])"
   ]
  },
  {
   "cell_type": "code",
   "execution_count": 25,
   "id": "368e8798",
   "metadata": {},
   "outputs": [
    {
     "data": {
      "text/html": [
       "<div>\n",
       "<style scoped>\n",
       "    .dataframe tbody tr th:only-of-type {\n",
       "        vertical-align: middle;\n",
       "    }\n",
       "\n",
       "    .dataframe tbody tr th {\n",
       "        vertical-align: top;\n",
       "    }\n",
       "\n",
       "    .dataframe thead th {\n",
       "        text-align: right;\n",
       "    }\n",
       "</style>\n",
       "<table border=\"1\" class=\"dataframe\">\n",
       "  <thead>\n",
       "    <tr style=\"text-align: right;\">\n",
       "      <th></th>\n",
       "      <th>localteam_formation</th>\n",
       "      <th>visitorteam_formation</th>\n",
       "    </tr>\n",
       "  </thead>\n",
       "  <tbody>\n",
       "    <tr>\n",
       "      <th>0</th>\n",
       "      <td>4-3-3</td>\n",
       "      <td>4-3-3</td>\n",
       "    </tr>\n",
       "    <tr>\n",
       "      <th>0</th>\n",
       "      <td>4-3-3</td>\n",
       "      <td>4-3-3</td>\n",
       "    </tr>\n",
       "    <tr>\n",
       "      <th>0</th>\n",
       "      <td>4-3-1-2</td>\n",
       "      <td>4-2-3-1</td>\n",
       "    </tr>\n",
       "    <tr>\n",
       "      <th>0</th>\n",
       "      <td>4-2-3-1</td>\n",
       "      <td>4-3-3</td>\n",
       "    </tr>\n",
       "    <tr>\n",
       "      <th>0</th>\n",
       "      <td>4-3-3</td>\n",
       "      <td>4-1-3-2</td>\n",
       "    </tr>\n",
       "    <tr>\n",
       "      <th>...</th>\n",
       "      <td>...</td>\n",
       "      <td>...</td>\n",
       "    </tr>\n",
       "    <tr>\n",
       "      <th>0</th>\n",
       "      <td>None</td>\n",
       "      <td>None</td>\n",
       "    </tr>\n",
       "    <tr>\n",
       "      <th>0</th>\n",
       "      <td>None</td>\n",
       "      <td>None</td>\n",
       "    </tr>\n",
       "    <tr>\n",
       "      <th>0</th>\n",
       "      <td>None</td>\n",
       "      <td>None</td>\n",
       "    </tr>\n",
       "    <tr>\n",
       "      <th>0</th>\n",
       "      <td>None</td>\n",
       "      <td>None</td>\n",
       "    </tr>\n",
       "    <tr>\n",
       "      <th>0</th>\n",
       "      <td>None</td>\n",
       "      <td>None</td>\n",
       "    </tr>\n",
       "  </tbody>\n",
       "</table>\n",
       "<p>2086 rows × 2 columns</p>\n",
       "</div>"
      ],
      "text/plain": [
       "   localteam_formation visitorteam_formation\n",
       "0                4-3-3                 4-3-3\n",
       "0                4-3-3                 4-3-3\n",
       "0              4-3-1-2               4-2-3-1\n",
       "0              4-2-3-1                 4-3-3\n",
       "0                4-3-3               4-1-3-2\n",
       "..                 ...                   ...\n",
       "0                 None                  None\n",
       "0                 None                  None\n",
       "0                 None                  None\n",
       "0                 None                  None\n",
       "0                 None                  None\n",
       "\n",
       "[2086 rows x 2 columns]"
      ]
     },
     "execution_count": 25,
     "metadata": {},
     "output_type": "execute_result"
    }
   ],
   "source": [
    "aux_df"
   ]
  },
  {
   "cell_type": "code",
   "execution_count": 26,
   "id": "f29c1b88",
   "metadata": {},
   "outputs": [
    {
     "data": {
      "text/plain": [
       "'67.55%'"
      ]
     },
     "execution_count": 26,
     "metadata": {},
     "output_type": "execute_result"
    }
   ],
   "source": [
    "str(round(100*sum(aux_df['localteam_formation'].isna())/len(aux_df), 2))+'%'"
   ]
  },
  {
   "cell_type": "markdown",
   "id": "65cb0823",
   "metadata": {},
   "source": [
    "### scores\n",
    "\n",
    "These contain information on the amount of goals that were scored by both teams. This is a variable that is only known after the match has ended, so we cannot use it to predict the outcome. However, it can be used as a predicted variable if we were to choose to model it this way."
   ]
  },
  {
   "cell_type": "code",
   "execution_count": 27,
   "id": "70cab796",
   "metadata": {},
   "outputs": [
    {
     "data": {
      "text/plain": [
       "{'localteam_score': 3,\n",
       " 'visitorteam_score': 0,\n",
       " 'localteam_pen_score': None,\n",
       " 'visitorteam_pen_score': None,\n",
       " 'ht_score': '3-0',\n",
       " 'ft_score': '3-0',\n",
       " 'et_score': None,\n",
       " 'ps_score': None}"
      ]
     },
     "execution_count": 27,
     "metadata": {},
     "output_type": "execute_result"
    }
   ],
   "source": [
    "df['scores'].iloc[0]"
   ]
  },
  {
   "cell_type": "markdown",
   "id": "2a2980ae",
   "metadata": {},
   "source": [
    "### time\n",
    "\n",
    "This variable contains information related to the time and date of the match. This can be useful in combination to other variables. For example, we could introduce a variable called _localteam_score_history_ in which we make a weighted sum of the goals with respect to how recently they were made:\n",
    "\n",
    "- Chivas ::: 2022-02 ::: 60 days from today  ::: 3 goals\n",
    "- Chivas ::: 2021-12 ::: 120 days from today ::: 0 goals\n",
    "- Chivas ::: 2021-11 ::: 150 days from today ::: 1 goals\n",
    "- Chivas ::: 2021-09 ::: 210 days from today ::: 3 goals\n",
    "\n",
    "Let $\\lambda = 0.99$, and 720 (2 years) be our maximum window, then:\n",
    "\n",
    "$$\\text{localteam_score_history} = \\lambda^{60/720} \\times 3 + \\lambda^{120/720} \\times 0 + \\lambda^{150/720} \\times 1 + \\lambda^{210/720} \\times 3$$\n",
    "\n",
    "And the same would go for _visitorteam_score_history_"
   ]
  },
  {
   "cell_type": "code",
   "execution_count": 28,
   "id": "33367ab0",
   "metadata": {
    "scrolled": false
   },
   "outputs": [
    {
     "data": {
      "text/plain": [
       "{'status': 'FT',\n",
       " 'starting_at': {'date_time': '2022-02-02 19:45:00',\n",
       "  'date': '2022-02-02',\n",
       "  'time': '19:45:00',\n",
       "  'timestamp': 1643831100,\n",
       "  'timezone': 'UTC'},\n",
       " 'minute': 95,\n",
       " 'second': None,\n",
       " 'added_time': None,\n",
       " 'extra_minute': None,\n",
       " 'injury_time': None}"
      ]
     },
     "execution_count": 28,
     "metadata": {},
     "output_type": "execute_result"
    }
   ],
   "source": [
    "df['time'].iloc[0]"
   ]
  },
  {
   "cell_type": "markdown",
   "id": "37dd2c74",
   "metadata": {},
   "source": [
    "Also, we are only interested in relatively more recent matches, since a team can drastically change in the span of 2 to 5 years, and this variable can help us filter the matches we are interested in."
   ]
  },
  {
   "cell_type": "markdown",
   "id": "2e237cb0",
   "metadata": {},
   "source": [
    "### coaches\n",
    "\n",
    "This variable contains the ids of the local team and the visitor team. We believe this might be useful since having a better coach might incur in better odds of winning. We found that there is a small amount of NA values, for which we can simply fill the values with 0."
   ]
  },
  {
   "cell_type": "code",
   "execution_count": 29,
   "id": "671faa52",
   "metadata": {},
   "outputs": [],
   "source": [
    "col = 'coaches'\n",
    "aux_df = pd.DataFrame(columns = df[col].iloc[0].keys())\n",
    "for k in range(len(df)):\n",
    "    aux = pd.DataFrame(df[col].iloc[k].values()).transpose()\n",
    "    aux.columns = df[col].iloc[k].keys()\n",
    "    aux_df = pd.concat([aux_df, aux])"
   ]
  },
  {
   "cell_type": "code",
   "execution_count": 30,
   "id": "7f8eb233",
   "metadata": {
    "scrolled": true
   },
   "outputs": [
    {
     "data": {
      "text/html": [
       "<div>\n",
       "<style scoped>\n",
       "    .dataframe tbody tr th:only-of-type {\n",
       "        vertical-align: middle;\n",
       "    }\n",
       "\n",
       "    .dataframe tbody tr th {\n",
       "        vertical-align: top;\n",
       "    }\n",
       "\n",
       "    .dataframe thead th {\n",
       "        text-align: right;\n",
       "    }\n",
       "</style>\n",
       "<table border=\"1\" class=\"dataframe\">\n",
       "  <thead>\n",
       "    <tr style=\"text-align: right;\">\n",
       "      <th></th>\n",
       "      <th>localteam_coach_id</th>\n",
       "      <th>visitorteam_coach_id</th>\n",
       "    </tr>\n",
       "  </thead>\n",
       "  <tbody>\n",
       "    <tr>\n",
       "      <th>0</th>\n",
       "      <td>896805</td>\n",
       "      <td>23237</td>\n",
       "    </tr>\n",
       "    <tr>\n",
       "      <th>0</th>\n",
       "      <td>50</td>\n",
       "      <td>896805</td>\n",
       "    </tr>\n",
       "    <tr>\n",
       "      <th>0</th>\n",
       "      <td>50</td>\n",
       "      <td>2163</td>\n",
       "    </tr>\n",
       "    <tr>\n",
       "      <th>0</th>\n",
       "      <td>2163</td>\n",
       "      <td>50</td>\n",
       "    </tr>\n",
       "    <tr>\n",
       "      <th>0</th>\n",
       "      <td>50</td>\n",
       "      <td>1467946</td>\n",
       "    </tr>\n",
       "  </tbody>\n",
       "</table>\n",
       "</div>"
      ],
      "text/plain": [
       "  localteam_coach_id visitorteam_coach_id\n",
       "0             896805                23237\n",
       "0                 50               896805\n",
       "0                 50                 2163\n",
       "0               2163                   50\n",
       "0                 50              1467946"
      ]
     },
     "execution_count": 30,
     "metadata": {},
     "output_type": "execute_result"
    }
   ],
   "source": [
    "aux_df.head()"
   ]
  },
  {
   "cell_type": "code",
   "execution_count": 31,
   "id": "ecec777c",
   "metadata": {},
   "outputs": [
    {
     "data": {
      "text/plain": [
       "307"
      ]
     },
     "execution_count": 31,
     "metadata": {},
     "output_type": "execute_result"
    }
   ],
   "source": [
    "sum(aux_df['localteam_coach_id'].isna())"
   ]
  },
  {
   "cell_type": "code",
   "execution_count": 32,
   "id": "400deb79",
   "metadata": {},
   "outputs": [
    {
     "data": {
      "text/plain": [
       "313"
      ]
     },
     "execution_count": 32,
     "metadata": {},
     "output_type": "execute_result"
    }
   ],
   "source": [
    "sum(aux_df['visitorteam_coach_id'].isna())"
   ]
  },
  {
   "cell_type": "markdown",
   "id": "74d33f29",
   "metadata": {},
   "source": [
    "However, since these will be categories and there are a lot of them, we will need to make an \"other\" category for any id that appears less than X times:"
   ]
  },
  {
   "cell_type": "code",
   "execution_count": 33,
   "id": "bd3012a9",
   "metadata": {},
   "outputs": [],
   "source": [
    "col = 'coaches'\n",
    "\n",
    "aux_df = vnf.expand_dictionary(col, df)\n",
    "aux_df['localteam_coach_id'] = aux_df['localteam_coach_id'].fillna(0).astype(int)\n",
    "aux_df['visitorteam_coach_id'] = aux_df['visitorteam_coach_id'].fillna(0).astype(int)"
   ]
  },
  {
   "cell_type": "code",
   "execution_count": 34,
   "id": "38e83d5c",
   "metadata": {},
   "outputs": [
    {
     "name": "stdout",
     "output_type": "stream",
     "text": [
      "80\n",
      "82\n"
     ]
    }
   ],
   "source": [
    "print(aux_df['localteam_coach_id'].nunique())\n",
    "print(aux_df['visitorteam_coach_id'].nunique())"
   ]
  },
  {
   "cell_type": "markdown",
   "id": "2c3c867d",
   "metadata": {},
   "source": [
    "### standings\n",
    "\n",
    "These dictionaries contain values refering to the current position in the toruney table of both the local and the visitor teams. We believe this will be useful."
   ]
  },
  {
   "cell_type": "code",
   "execution_count": 35,
   "id": "782b5aa8",
   "metadata": {},
   "outputs": [
    {
     "data": {
      "text/plain": [
       "{'localteam_position': 2, 'visitorteam_position': 1}"
      ]
     },
     "execution_count": 35,
     "metadata": {},
     "output_type": "execute_result"
    }
   ],
   "source": [
    "df['standings'].iloc[0]"
   ]
  },
  {
   "cell_type": "code",
   "execution_count": 36,
   "id": "8d70caa8",
   "metadata": {},
   "outputs": [
    {
     "data": {
      "text/html": [
       "<div>\n",
       "<style scoped>\n",
       "    .dataframe tbody tr th:only-of-type {\n",
       "        vertical-align: middle;\n",
       "    }\n",
       "\n",
       "    .dataframe tbody tr th {\n",
       "        vertical-align: top;\n",
       "    }\n",
       "\n",
       "    .dataframe thead th {\n",
       "        text-align: right;\n",
       "    }\n",
       "</style>\n",
       "<table border=\"1\" class=\"dataframe\">\n",
       "  <thead>\n",
       "    <tr style=\"text-align: right;\">\n",
       "      <th></th>\n",
       "      <th>localteam_position</th>\n",
       "      <th>visitorteam_position</th>\n",
       "    </tr>\n",
       "  </thead>\n",
       "  <tbody>\n",
       "    <tr>\n",
       "      <th>0</th>\n",
       "      <td>2</td>\n",
       "      <td>1</td>\n",
       "    </tr>\n",
       "    <tr>\n",
       "      <th>0</th>\n",
       "      <td>6</td>\n",
       "      <td>5</td>\n",
       "    </tr>\n",
       "    <tr>\n",
       "      <th>0</th>\n",
       "      <td>1</td>\n",
       "      <td>2</td>\n",
       "    </tr>\n",
       "    <tr>\n",
       "      <th>0</th>\n",
       "      <td>2</td>\n",
       "      <td>1</td>\n",
       "    </tr>\n",
       "    <tr>\n",
       "      <th>0</th>\n",
       "      <td>1</td>\n",
       "      <td>2</td>\n",
       "    </tr>\n",
       "  </tbody>\n",
       "</table>\n",
       "</div>"
      ],
      "text/plain": [
       "   localteam_position  visitorteam_position\n",
       "0                   2                     1\n",
       "0                   6                     5\n",
       "0                   1                     2\n",
       "0                   2                     1\n",
       "0                   1                     2"
      ]
     },
     "execution_count": 36,
     "metadata": {},
     "output_type": "execute_result"
    }
   ],
   "source": [
    "col = 'standings'\n",
    "\n",
    "aux_df = vnf.expand_dictionary(col, df)\n",
    "aux_df['localteam_position'] = aux_df['localteam_position'].fillna(0).astype(int)\n",
    "aux_df['visitorteam_position'] = aux_df['visitorteam_position'].fillna(0).astype(int)\n",
    "\n",
    "aux_df.head()"
   ]
  },
  {
   "cell_type": "markdown",
   "id": "7d88995e",
   "metadata": {},
   "source": [
    "### assistants\n",
    "\n",
    "These dictionaries contain the indexes of the referee assistants. We believe this will be useful to predict the outcome. However, since these will be categories and there are a lot of them, we will need to make an \"other\" category for any id that appears less than X times:"
   ]
  },
  {
   "cell_type": "code",
   "execution_count": 37,
   "id": "2bb1bf29",
   "metadata": {},
   "outputs": [],
   "source": [
    "col = 'assistants'\n",
    "\n",
    "aux_df = vnf.expand_dictionary(col, df)\n",
    "aux_df['first_assistant_id'] = aux_df['first_assistant_id'].fillna(0).astype(int)\n",
    "aux_df['second_assistant_id'] = aux_df['second_assistant_id'].fillna(0).astype(int)\n",
    "aux_df['fourth_official_id'] = aux_df['fourth_official_id'].fillna(0).astype(int)"
   ]
  },
  {
   "cell_type": "code",
   "execution_count": 38,
   "id": "61965644",
   "metadata": {},
   "outputs": [
    {
     "name": "stdout",
     "output_type": "stream",
     "text": [
      "68\n",
      "78\n",
      "70\n"
     ]
    }
   ],
   "source": [
    "print(aux_df['first_assistant_id'].nunique())\n",
    "print(aux_df['second_assistant_id'].nunique())\n",
    "print(aux_df['fourth_official_id'].nunique())"
   ]
  },
  {
   "cell_type": "markdown",
   "id": "8c08647a",
   "metadata": {},
   "source": [
    "### colors\n",
    "\n",
    "These dictionaries contain values refering to the colors of the teams' jerseys. We do not believe it affects a match, so we drop it."
   ]
  },
  {
   "cell_type": "markdown",
   "id": "1912d0af",
   "metadata": {},
   "source": [
    "## Cleaning Data"
   ]
  },
  {
   "cell_type": "markdown",
   "id": "c87a3d33",
   "metadata": {},
   "source": [
    "Having explored the data, we now drop all of the variables that are not of interest and perform certain operations on columns of interest:"
   ]
  },
  {
   "cell_type": "markdown",
   "id": "679d8667",
   "metadata": {},
   "source": [
    "### Getting Scores"
   ]
  },
  {
   "cell_type": "code",
   "execution_count": 39,
   "id": "f072eb2a",
   "metadata": {},
   "outputs": [],
   "source": [
    "df_scores = pd.DataFrame(columns = ['id', 'localteam_score', 'visitorteam_score', 'localteam_pen_score',\n",
    "                                    'visitorteam_pen_score', 'ht_score', 'ft_score', 'et_score', 'ps_score'])\n",
    "for k in range(df.shape[0]):\n",
    "#     temp = pd.DataFrame({key:[value] for key,value in eval(df['scores'].iloc[k]).items()})\n",
    "    temp = pd.DataFrame({key:[value] for key,value in df['scores'].iloc[k].items()})\n",
    "    temp['id'] = df.iloc[k]['id']\n",
    "    df_scores = pd.concat([df_scores, temp])"
   ]
  },
  {
   "cell_type": "code",
   "execution_count": 40,
   "id": "89ba5fc8",
   "metadata": {},
   "outputs": [],
   "source": [
    "df[['localteam_score', 'visitorteam_score']] = df_scores[['localteam_score', 'visitorteam_score']]"
   ]
  },
  {
   "cell_type": "markdown",
   "id": "05cd5533",
   "metadata": {},
   "source": [
    "### Response variable\n",
    "\n",
    "We define our response variable _y_ as 1 if the localteam won, and 0 otherwise:"
   ]
  },
  {
   "cell_type": "code",
   "execution_count": 41,
   "id": "45b7b69d",
   "metadata": {},
   "outputs": [
    {
     "name": "stderr",
     "output_type": "stream",
     "text": [
      "c:\\users\\mike\\appdata\\local\\programs\\python\\python39\\lib\\site-packages\\pandas\\core\\indexing.py:1637: SettingWithCopyWarning: \n",
      "A value is trying to be set on a copy of a slice from a DataFrame\n",
      "\n",
      "See the caveats in the documentation: https://pandas.pydata.org/pandas-docs/stable/user_guide/indexing.html#returning-a-view-versus-a-copy\n",
      "  self._setitem_single_block(indexer, value, name)\n"
     ]
    }
   ],
   "source": [
    "y = df.copy()\n",
    "y['y'] = None\n",
    "for _ in range(len(y)):\n",
    "    if y['winner_team_id'].iloc[_] == y['localteam_id'].iloc[_]:\n",
    "        y['y'].iloc[_] = 1 \n",
    "    else:\n",
    "        y['y'].iloc[_] = 0 "
   ]
  },
  {
   "cell_type": "code",
   "execution_count": 42,
   "id": "d0bb9c07",
   "metadata": {
    "scrolled": true
   },
   "outputs": [],
   "source": [
    "df['y'] = y['y']"
   ]
  },
  {
   "cell_type": "markdown",
   "id": "faa63fe6",
   "metadata": {},
   "source": [
    "### Retrieval of dictionary columns\n",
    "\n",
    "For the dictionary columns of interest, we retrieve their values and store them in the dataframe"
   ]
  },
  {
   "cell_type": "code",
   "execution_count": 43,
   "id": "7fdcb431",
   "metadata": {},
   "outputs": [],
   "source": [
    "try:\n",
    "    col = 'coaches'\n",
    "\n",
    "    ### Expand the column that is a dictionary\n",
    "    aux_df = vnf.expand_dictionary(col, df)\n",
    "    aux_df['localteam_coach_id'] = aux_df['localteam_coach_id'].fillna(0).astype(int)\n",
    "    aux_df['visitorteam_coach_id'] = aux_df['visitorteam_coach_id'].fillna(0).astype(int)\n",
    "\n",
    "    ### Set in original df\n",
    "    df['localteam_coach_id'] =  aux_df['localteam_coach_id']\n",
    "    df['visitorteam_coach_id'] = aux_df['visitorteam_coach_id']\n",
    "\n",
    "    ### Make \"other\" category for those values that do not appear too many times\n",
    "    df['localteam_coach_id'] = vnf.make_other_category('localteam_coach_id', df, 40, -1)\n",
    "    df['visitorteam_coach_id'] = vnf.make_other_category('visitorteam_coach_id', df, 40, -1)\n",
    "\n",
    "    ### Drop original column\n",
    "    df.drop(col, 1, inplace = True)\n",
    "    \n",
    "except KeyError:\n",
    "    print('Column ', col, ' has already been deleted')"
   ]
  },
  {
   "cell_type": "code",
   "execution_count": 44,
   "id": "fcf0e2e6",
   "metadata": {},
   "outputs": [],
   "source": [
    "try: \n",
    "    col = 'standings'\n",
    "\n",
    "    ### Expand the column that is a dictionary\n",
    "    aux_df = vnf.expand_dictionary(col, df)\n",
    "    aux_df['localteam_position'] = aux_df['localteam_position'].fillna(0).astype(int)\n",
    "    aux_df['visitorteam_position'] = aux_df['visitorteam_position'].fillna(0).astype(int)\n",
    "\n",
    "    ### Set in original df\n",
    "    df['localteam_position'] =  aux_df['localteam_position']\n",
    "    df['visitorteam_position'] = aux_df['visitorteam_position']\n",
    "    \n",
    "    ### Drop original column\n",
    "    df.drop(col, 1, inplace = True)\n",
    "    \n",
    "except KeyError:\n",
    "    print('Column ', col, ' has already been deleted')"
   ]
  },
  {
   "cell_type": "code",
   "execution_count": 45,
   "id": "e935324d",
   "metadata": {},
   "outputs": [],
   "source": [
    "try:\n",
    "    col = 'assistants'\n",
    "\n",
    "    ### Expand the column that is a dictionary\n",
    "    aux_df = vnf.expand_dictionary(col, df)\n",
    "    aux_df['first_assistant_id'] = aux_df['first_assistant_id'].fillna(0).astype(int)\n",
    "    aux_df['second_assistant_id'] = aux_df['second_assistant_id'].fillna(0).astype(int)\n",
    "    aux_df['fourth_official_id'] = aux_df['fourth_official_id'].fillna(0).astype(int)\n",
    "\n",
    "    ### Set in original df\n",
    "    df['first_assistant_id'] =  aux_df['first_assistant_id']\n",
    "    df['second_assistant_id'] = aux_df['second_assistant_id']\n",
    "    df['fourth_official_id'] = aux_df['fourth_official_id']\n",
    "    \n",
    "    ### Make \"other\" category for those values that do not appear too many times\n",
    "    df['first_assistant_id'] = vnf.make_other_category('first_assistant_id', df, 40, -1)\n",
    "    df['second_assistant_id'] = vnf.make_other_category('second_assistant_id', df, 40, -1)\n",
    "    df['fourth_official_id'] = vnf.make_other_category('fourth_official_id', df, 40, -1)\n",
    "    \n",
    "    ### Drop original column\n",
    "    df.drop(col, 1, inplace = True)\n",
    "\n",
    "except KeyError:\n",
    "    print('Column ', col, ' has already been deleted')"
   ]
  },
  {
   "cell_type": "markdown",
   "id": "cae35cc9",
   "metadata": {},
   "source": [
    "### Cleaning transformations"
   ]
  },
  {
   "cell_type": "code",
   "execution_count": 46,
   "id": "6b7a8ddd",
   "metadata": {},
   "outputs": [],
   "source": [
    "#################### Transformations ####################\n",
    "\n",
    "### ID variables\n",
    "df['id'] = df['id']\n",
    "df['league_id'] = df['league_id'].fillna(-1).astype(int)\n",
    "df['season_id'] = df['season_id'].fillna(-1).astype(int)\n",
    "df['stage_id'] = df['stage_id'].fillna(-1).astype(int)\n",
    "df['round_id'] = df['round_id'].fillna(-1).astype(int)\n",
    "df['group_id'] = df['group_id'].fillna(-1).astype(int)\n",
    "df['aggregate_id'] = df['aggregate_id'].fillna(-1).astype(int)\n",
    "df['venue_id'] = df['venue_id'].fillna(-1).astype(int)\n",
    "df['referee_id'] = df['referee_id'].fillna(-1).astype(int)\n",
    "df['localteam_id'] = df['localteam_id'].fillna(-1).astype(int)\n",
    "df['visitorteam_id'] = df['visitorteam_id'].fillna(-1).astype(int)\n",
    "df['winner_team_id'] = df['winner_team_id'].fillna(-1).astype(int)\n",
    "\n",
    "### Other variables\n",
    "df['commentaries'] = df['commentaries'].apply(vnf.booleanize)# Boolean\n",
    "df['attendance'] = df['attendance'].fillna(-1).astype(int)# Integer\n",
    "df['pitch'] = df['pitch'].apply(lambda x: \"None\" if x is None else x) # Categorical\n",
    "df['neutral_venue'] = df['neutral_venue'].apply(vnf.booleanize)# Boolean\n",
    "df['winning_odds_calculated'] = df['winning_odds_calculated'].apply(vnf.booleanize)# Boolean\n",
    "df['deleted'] = df['deleted'].apply(vnf.booleanize)# Boolean\n",
    "df['is_placeholder'] = df['is_placeholder'].apply(vnf.booleanize)# Boolean\n",
    "df['leg'] = df['leg'].fillna(-1)\n"
   ]
  },
  {
   "cell_type": "markdown",
   "id": "96c9bde0",
   "metadata": {},
   "source": [
    "### Drop non-interesting columns"
   ]
  },
  {
   "cell_type": "code",
   "execution_count": 47,
   "id": "f5e62ddc",
   "metadata": {},
   "outputs": [],
   "source": [
    "columns_to_drop = ['stage_id', 'round_id', 'aggregate_id', 'group_id', 'winner_team_id',\n",
    "                   'commentaries', 'attendance', 'pitch', 'fourth_official_id',\n",
    "                   'details', 'neutral_venue', 'winning_odds_calculated', \n",
    "                   'deleted', 'is_placeholder', 'weather_report', 'colors',\n",
    "                   'formations', 'scores'\n",
    "                  ]\n",
    "try:\n",
    "    df.drop(columns_to_drop, 1, inplace = True)\n",
    "except KeyError:\n",
    "    pass"
   ]
  },
  {
   "cell_type": "markdown",
   "id": "c3c6db2a",
   "metadata": {},
   "source": [
    "### Filter by time"
   ]
  },
  {
   "cell_type": "markdown",
   "id": "152b2af4",
   "metadata": {},
   "source": [
    "As mentioned previously, we are only interested in keeping more recent matches since a team's composition can drastically change over the years. Thus, we retrieve the _date_ field from the _time_ column to achieve this."
   ]
  },
  {
   "cell_type": "code",
   "execution_count": 48,
   "id": "3c0bf9d1",
   "metadata": {
    "scrolled": true
   },
   "outputs": [],
   "source": [
    "try:\n",
    "    aux_df = pd.DataFrame(columns = ['date'])\n",
    "\n",
    "    ### Expand the column that is a dictionary\n",
    "    for k in range(len(df)):\n",
    "        aux = pd.DataFrame([df['time'].iloc[k]['starting_at']['date']])\n",
    "        aux.columns = ['date']\n",
    "        aux_df = pd.concat([aux_df, aux])\n",
    "    \n",
    "    ### Set in original df\n",
    "    df['date'] = aux_df\n",
    "    \n",
    "    ### Drop original column\n",
    "    df.drop('time', 1, inplace = True)\n",
    "    \n",
    "except KeyError:\n",
    "    print('Column time has already been deleted')"
   ]
  },
  {
   "cell_type": "markdown",
   "id": "5ed51c19",
   "metadata": {},
   "source": [
    "And we filter to keep matches only from 2015 onwards:"
   ]
  },
  {
   "cell_type": "code",
   "execution_count": 49,
   "id": "7e614d08",
   "metadata": {
    "scrolled": true
   },
   "outputs": [],
   "source": [
    "df = df[pd.to_datetime(df['date']) > '2015']"
   ]
  },
  {
   "cell_type": "code",
   "execution_count": 50,
   "id": "c05f6e7e",
   "metadata": {
    "scrolled": false
   },
   "outputs": [
    {
     "data": {
      "text/html": [
       "<div>\n",
       "<style scoped>\n",
       "    .dataframe tbody tr th:only-of-type {\n",
       "        vertical-align: middle;\n",
       "    }\n",
       "\n",
       "    .dataframe tbody tr th {\n",
       "        vertical-align: top;\n",
       "    }\n",
       "\n",
       "    .dataframe thead th {\n",
       "        text-align: right;\n",
       "    }\n",
       "</style>\n",
       "<table border=\"1\" class=\"dataframe\">\n",
       "  <thead>\n",
       "    <tr style=\"text-align: right;\">\n",
       "      <th></th>\n",
       "      <th>id</th>\n",
       "      <th>league_id</th>\n",
       "      <th>season_id</th>\n",
       "      <th>venue_id</th>\n",
       "      <th>referee_id</th>\n",
       "      <th>localteam_id</th>\n",
       "      <th>visitorteam_id</th>\n",
       "      <th>leg</th>\n",
       "      <th>localteam_score</th>\n",
       "      <th>visitorteam_score</th>\n",
       "      <th>y</th>\n",
       "      <th>localteam_coach_id</th>\n",
       "      <th>visitorteam_coach_id</th>\n",
       "      <th>localteam_position</th>\n",
       "      <th>visitorteam_position</th>\n",
       "      <th>first_assistant_id</th>\n",
       "      <th>second_assistant_id</th>\n",
       "      <th>date</th>\n",
       "    </tr>\n",
       "  </thead>\n",
       "  <tbody>\n",
       "    <tr>\n",
       "      <th>0</th>\n",
       "      <td>18137008</td>\n",
       "      <td>501</td>\n",
       "      <td>18369</td>\n",
       "      <td>8909</td>\n",
       "      <td>14853</td>\n",
       "      <td>53</td>\n",
       "      <td>62</td>\n",
       "      <td>1/1</td>\n",
       "      <td>3</td>\n",
       "      <td>0</td>\n",
       "      <td>1</td>\n",
       "      <td>-1</td>\n",
       "      <td>-1</td>\n",
       "      <td>2</td>\n",
       "      <td>1</td>\n",
       "      <td>12118</td>\n",
       "      <td>-1</td>\n",
       "      <td>2022-02-02</td>\n",
       "    </tr>\n",
       "    <tr>\n",
       "      <th>0</th>\n",
       "      <td>18136904</td>\n",
       "      <td>501</td>\n",
       "      <td>18369</td>\n",
       "      <td>8914</td>\n",
       "      <td>18748</td>\n",
       "      <td>62</td>\n",
       "      <td>53</td>\n",
       "      <td>1/1</td>\n",
       "      <td>1</td>\n",
       "      <td>0</td>\n",
       "      <td>1</td>\n",
       "      <td>50</td>\n",
       "      <td>-1</td>\n",
       "      <td>6</td>\n",
       "      <td>5</td>\n",
       "      <td>12118</td>\n",
       "      <td>-1</td>\n",
       "      <td>2021-08-29</td>\n",
       "    </tr>\n",
       "    <tr>\n",
       "      <th>0</th>\n",
       "      <td>17947857</td>\n",
       "      <td>501</td>\n",
       "      <td>17141</td>\n",
       "      <td>8914</td>\n",
       "      <td>14468</td>\n",
       "      <td>62</td>\n",
       "      <td>53</td>\n",
       "      <td>1/1</td>\n",
       "      <td>4</td>\n",
       "      <td>1</td>\n",
       "      <td>1</td>\n",
       "      <td>50</td>\n",
       "      <td>-1</td>\n",
       "      <td>1</td>\n",
       "      <td>2</td>\n",
       "      <td>12770</td>\n",
       "      <td>-1</td>\n",
       "      <td>2021-05-02</td>\n",
       "    </tr>\n",
       "    <tr>\n",
       "      <th>0</th>\n",
       "      <td>16475470</td>\n",
       "      <td>501</td>\n",
       "      <td>17141</td>\n",
       "      <td>8909</td>\n",
       "      <td>14859</td>\n",
       "      <td>53</td>\n",
       "      <td>62</td>\n",
       "      <td>1/1</td>\n",
       "      <td>1</td>\n",
       "      <td>1</td>\n",
       "      <td>0</td>\n",
       "      <td>-1</td>\n",
       "      <td>50</td>\n",
       "      <td>2</td>\n",
       "      <td>1</td>\n",
       "      <td>14860</td>\n",
       "      <td>-1</td>\n",
       "      <td>2021-03-21</td>\n",
       "    </tr>\n",
       "    <tr>\n",
       "      <th>0</th>\n",
       "      <td>16475413</td>\n",
       "      <td>501</td>\n",
       "      <td>17141</td>\n",
       "      <td>8914</td>\n",
       "      <td>14853</td>\n",
       "      <td>62</td>\n",
       "      <td>53</td>\n",
       "      <td>1/1</td>\n",
       "      <td>1</td>\n",
       "      <td>0</td>\n",
       "      <td>1</td>\n",
       "      <td>50</td>\n",
       "      <td>1467946</td>\n",
       "      <td>1</td>\n",
       "      <td>2</td>\n",
       "      <td>12118</td>\n",
       "      <td>-1</td>\n",
       "      <td>2021-01-02</td>\n",
       "    </tr>\n",
       "  </tbody>\n",
       "</table>\n",
       "</div>"
      ],
      "text/plain": [
       "         id  league_id  season_id  venue_id  referee_id  localteam_id  \\\n",
       "0  18137008        501      18369      8909       14853            53   \n",
       "0  18136904        501      18369      8914       18748            62   \n",
       "0  17947857        501      17141      8914       14468            62   \n",
       "0  16475470        501      17141      8909       14859            53   \n",
       "0  16475413        501      17141      8914       14853            62   \n",
       "\n",
       "   visitorteam_id  leg localteam_score visitorteam_score  y  \\\n",
       "0              62  1/1               3                 0  1   \n",
       "0              53  1/1               1                 0  1   \n",
       "0              53  1/1               4                 1  1   \n",
       "0              62  1/1               1                 1  0   \n",
       "0              53  1/1               1                 0  1   \n",
       "\n",
       "   localteam_coach_id  visitorteam_coach_id  localteam_position  \\\n",
       "0                  -1                    -1                   2   \n",
       "0                  50                    -1                   6   \n",
       "0                  50                    -1                   1   \n",
       "0                  -1                    50                   2   \n",
       "0                  50               1467946                   1   \n",
       "\n",
       "   visitorteam_position  first_assistant_id  second_assistant_id        date  \n",
       "0                     1               12118                   -1  2022-02-02  \n",
       "0                     5               12118                   -1  2021-08-29  \n",
       "0                     2               12770                   -1  2021-05-02  \n",
       "0                     1               14860                   -1  2021-03-21  \n",
       "0                     2               12118                   -1  2021-01-02  "
      ]
     },
     "execution_count": 50,
     "metadata": {},
     "output_type": "execute_result"
    }
   ],
   "source": [
    "df.head()"
   ]
  },
  {
   "cell_type": "markdown",
   "id": "5689332f",
   "metadata": {},
   "source": [
    "We reorganize the columns so that _y_ is the last one"
   ]
  },
  {
   "cell_type": "code",
   "execution_count": 51,
   "id": "c88bf4b2",
   "metadata": {},
   "outputs": [],
   "source": [
    "cols = [col for col in df.columns if col != 'y']\n",
    "df = df[cols + ['y']]"
   ]
  },
  {
   "cell_type": "markdown",
   "id": "130cc161",
   "metadata": {},
   "source": [
    "Finally, we can save this output to a csv file for further usage. Note that there are still more changes to be made, such as the idea to use an exponential average for the goal scores of each team, but that will be done in further iterations."
   ]
  },
  {
   "cell_type": "code",
   "execution_count": 52,
   "id": "82b5b4b7",
   "metadata": {},
   "outputs": [],
   "source": [
    "df.to_csv('premiership_teams_head2head_clean.csv')"
   ]
  },
  {
   "cell_type": "markdown",
   "id": "7c17cb19",
   "metadata": {},
   "source": [
    "# Modeling"
   ]
  },
  {
   "cell_type": "markdown",
   "id": "a939a78b",
   "metadata": {},
   "source": [
    "## Defining the Y\n",
    "\n",
    "The next chunk still is preprocesing, however in this section, we are going to adequate out dataframe to be ready to be used by different models, in a very simple way. Thus we will:\n",
    "\n",
    "+ select only a few variables that we will use in this first iteration\n",
    "+ give proper format to the dataframe\n",
    "+ propose different Ys for different experiments\n",
    "\n",
    "We have two kinds of models: overal match predictors and only winning predictor. In the former ones we are estimating the amount of goals for each team, this is normally done parametrically in more classical models, however, for the sake of the experiment, we tried naive regressions to estimate goals. This model is useful because it can predict winners, loosers, tie events, amount of goals, and different scenarios, the bad thing is that our design is pretty naive (the desgining of the proper model can be a whole thesis). In the latter models, less ambitious more powerful, we are only predicting if the home team is going to win or if it will loose or tie. "
   ]
  },
  {
   "cell_type": "code",
   "execution_count": 61,
   "id": "5451917e",
   "metadata": {},
   "outputs": [],
   "source": [
    "df_general = df.copy()"
   ]
  },
  {
   "cell_type": "code",
   "execution_count": 65,
   "id": "1359bf9c",
   "metadata": {},
   "outputs": [],
   "source": [
    "# Add index to dataframe\n",
    "new_index = [i for i in range(len(df_general))]\n",
    "\n",
    "# Create Y variable: 1 if local wins, 0 in any other case\n",
    "df_general['Y'] = df['y']\n",
    "\n",
    "# Filter only simpler columns\n",
    "dat = df_general[[\"league_id\",\"season_id\",\"venue_id\",\n",
    "                  \"referee_id\",\"localteam_id\",'visitorteam_id',\n",
    "                  'localteam_position', 'visitorteam_position']]\n",
    "\n",
    "X = pd.get_dummies(dat)\n",
    "\n",
    "# This is a naive treatment to dataframe\n",
    "X = X.fillna(0) \n",
    "X = X.replace([np.inf, -np.inf], np.nan)\n",
    "X = X.reset_index()"
   ]
  },
  {
   "cell_type": "code",
   "execution_count": 73,
   "id": "4997dc1a",
   "metadata": {},
   "outputs": [],
   "source": [
    "# Ys definition\n",
    "\n",
    "# Canonical Y variable: 1 if local wins, 0 in any other case\n",
    "y = df_general['Y']\n",
    "\n",
    "# 2 alternative Ys, amount of goals for local and visitor\n",
    "\n",
    "df.index = new_index\n",
    "y_goals_local = df['localteam_score']\n",
    "y_goals_visitor = df['visitorteam_score']"
   ]
  },
  {
   "cell_type": "code",
   "execution_count": 90,
   "id": "9d742ba3",
   "metadata": {
    "scrolled": true
   },
   "outputs": [],
   "source": [
    "# Finally, win, loose or tie labels.\n",
    "y_multi = np.where(df['localteam_score'] == df['visitorteam_score'], 'Empate',\n",
    "         np.where(df['localteam_score'] > df['visitorteam_score'], \"Local\", \"Visitante\"))"
   ]
  },
  {
   "cell_type": "markdown",
   "id": "1ab04df7",
   "metadata": {},
   "source": [
    "As you can see, our X is pretty simple and pretty small. We learned that a lot of the variables were really noisy and had a negative impact in our models."
   ]
  },
  {
   "cell_type": "code",
   "execution_count": 74,
   "id": "0e787451",
   "metadata": {},
   "outputs": [
    {
     "data": {
      "text/html": [
       "<div>\n",
       "<style scoped>\n",
       "    .dataframe tbody tr th:only-of-type {\n",
       "        vertical-align: middle;\n",
       "    }\n",
       "\n",
       "    .dataframe tbody tr th {\n",
       "        vertical-align: top;\n",
       "    }\n",
       "\n",
       "    .dataframe thead th {\n",
       "        text-align: right;\n",
       "    }\n",
       "</style>\n",
       "<table border=\"1\" class=\"dataframe\">\n",
       "  <thead>\n",
       "    <tr style=\"text-align: right;\">\n",
       "      <th></th>\n",
       "      <th>index</th>\n",
       "      <th>league_id</th>\n",
       "      <th>season_id</th>\n",
       "      <th>venue_id</th>\n",
       "      <th>referee_id</th>\n",
       "      <th>localteam_id</th>\n",
       "      <th>visitorteam_id</th>\n",
       "      <th>localteam_position</th>\n",
       "      <th>visitorteam_position</th>\n",
       "    </tr>\n",
       "  </thead>\n",
       "  <tbody>\n",
       "    <tr>\n",
       "      <th>0</th>\n",
       "      <td>0</td>\n",
       "      <td>501</td>\n",
       "      <td>18369</td>\n",
       "      <td>8909</td>\n",
       "      <td>14853</td>\n",
       "      <td>53</td>\n",
       "      <td>62</td>\n",
       "      <td>2</td>\n",
       "      <td>1</td>\n",
       "    </tr>\n",
       "    <tr>\n",
       "      <th>1</th>\n",
       "      <td>0</td>\n",
       "      <td>501</td>\n",
       "      <td>18369</td>\n",
       "      <td>8914</td>\n",
       "      <td>18748</td>\n",
       "      <td>62</td>\n",
       "      <td>53</td>\n",
       "      <td>6</td>\n",
       "      <td>5</td>\n",
       "    </tr>\n",
       "    <tr>\n",
       "      <th>2</th>\n",
       "      <td>0</td>\n",
       "      <td>501</td>\n",
       "      <td>17141</td>\n",
       "      <td>8914</td>\n",
       "      <td>14468</td>\n",
       "      <td>62</td>\n",
       "      <td>53</td>\n",
       "      <td>1</td>\n",
       "      <td>2</td>\n",
       "    </tr>\n",
       "    <tr>\n",
       "      <th>3</th>\n",
       "      <td>0</td>\n",
       "      <td>501</td>\n",
       "      <td>17141</td>\n",
       "      <td>8909</td>\n",
       "      <td>14859</td>\n",
       "      <td>53</td>\n",
       "      <td>62</td>\n",
       "      <td>2</td>\n",
       "      <td>1</td>\n",
       "    </tr>\n",
       "    <tr>\n",
       "      <th>4</th>\n",
       "      <td>0</td>\n",
       "      <td>501</td>\n",
       "      <td>17141</td>\n",
       "      <td>8914</td>\n",
       "      <td>14853</td>\n",
       "      <td>62</td>\n",
       "      <td>53</td>\n",
       "      <td>1</td>\n",
       "      <td>2</td>\n",
       "    </tr>\n",
       "    <tr>\n",
       "      <th>...</th>\n",
       "      <td>...</td>\n",
       "      <td>...</td>\n",
       "      <td>...</td>\n",
       "      <td>...</td>\n",
       "      <td>...</td>\n",
       "      <td>...</td>\n",
       "      <td>...</td>\n",
       "      <td>...</td>\n",
       "      <td>...</td>\n",
       "    </tr>\n",
       "    <tr>\n",
       "      <th>984</th>\n",
       "      <td>0</td>\n",
       "      <td>501</td>\n",
       "      <td>12963</td>\n",
       "      <td>8879</td>\n",
       "      <td>17847</td>\n",
       "      <td>496</td>\n",
       "      <td>734</td>\n",
       "      <td>5</td>\n",
       "      <td>1</td>\n",
       "    </tr>\n",
       "    <tr>\n",
       "      <th>985</th>\n",
       "      <td>0</td>\n",
       "      <td>501</td>\n",
       "      <td>12963</td>\n",
       "      <td>219</td>\n",
       "      <td>14466</td>\n",
       "      <td>734</td>\n",
       "      <td>496</td>\n",
       "      <td>9</td>\n",
       "      <td>12</td>\n",
       "    </tr>\n",
       "    <tr>\n",
       "      <th>986</th>\n",
       "      <td>0</td>\n",
       "      <td>501</td>\n",
       "      <td>12963</td>\n",
       "      <td>281425</td>\n",
       "      <td>18748</td>\n",
       "      <td>496</td>\n",
       "      <td>734</td>\n",
       "      <td>11</td>\n",
       "      <td>8</td>\n",
       "    </tr>\n",
       "    <tr>\n",
       "      <th>987</th>\n",
       "      <td>0</td>\n",
       "      <td>501</td>\n",
       "      <td>12963</td>\n",
       "      <td>219</td>\n",
       "      <td>14466</td>\n",
       "      <td>734</td>\n",
       "      <td>496</td>\n",
       "      <td>8</td>\n",
       "      <td>11</td>\n",
       "    </tr>\n",
       "    <tr>\n",
       "      <th>988</th>\n",
       "      <td>0</td>\n",
       "      <td>501</td>\n",
       "      <td>1936</td>\n",
       "      <td>219</td>\n",
       "      <td>17265</td>\n",
       "      <td>734</td>\n",
       "      <td>496</td>\n",
       "      <td>0</td>\n",
       "      <td>0</td>\n",
       "    </tr>\n",
       "  </tbody>\n",
       "</table>\n",
       "<p>989 rows × 9 columns</p>\n",
       "</div>"
      ],
      "text/plain": [
       "     index  league_id  season_id  venue_id  referee_id  localteam_id  \\\n",
       "0        0        501      18369      8909       14853            53   \n",
       "1        0        501      18369      8914       18748            62   \n",
       "2        0        501      17141      8914       14468            62   \n",
       "3        0        501      17141      8909       14859            53   \n",
       "4        0        501      17141      8914       14853            62   \n",
       "..     ...        ...        ...       ...         ...           ...   \n",
       "984      0        501      12963      8879       17847           496   \n",
       "985      0        501      12963       219       14466           734   \n",
       "986      0        501      12963    281425       18748           496   \n",
       "987      0        501      12963       219       14466           734   \n",
       "988      0        501       1936       219       17265           734   \n",
       "\n",
       "     visitorteam_id  localteam_position  visitorteam_position  \n",
       "0                62                   2                     1  \n",
       "1                53                   6                     5  \n",
       "2                53                   1                     2  \n",
       "3                62                   2                     1  \n",
       "4                53                   1                     2  \n",
       "..              ...                 ...                   ...  \n",
       "984             734                   5                     1  \n",
       "985             496                   9                    12  \n",
       "986             734                  11                     8  \n",
       "987             496                   8                    11  \n",
       "988             496                   0                     0  \n",
       "\n",
       "[989 rows x 9 columns]"
      ]
     },
     "execution_count": 74,
     "metadata": {},
     "output_type": "execute_result"
    }
   ],
   "source": [
    "X"
   ]
  },
  {
   "cell_type": "markdown",
   "id": "b5a30fb9",
   "metadata": {},
   "source": [
    "# Modeling Experiments\n",
    "\n",
    "## CV\n",
    "\n",
    "Since we have different Ys, we are going to split the data once it for all the models, this would make the comparisson between models more fair.\n"
   ]
  },
  {
   "cell_type": "code",
   "execution_count": 75,
   "id": "b7efaaad",
   "metadata": {},
   "outputs": [],
   "source": [
    "from sklearn.model_selection import train_test_split\n",
    "X_train, X_test, y_train, y_test, y_local_train, y_local_test,y_visitor_train, y_visitor_test = train_test_split(X,y, y_goals_local,y_goals_visitor, test_size=0.4, random_state=10)\n"
   ]
  },
  {
   "cell_type": "markdown",
   "id": "2af1f5b9",
   "metadata": {},
   "source": [
    "## Modelo 1: Lasso with binary Y\n",
    "\n",
    "This is the simplest model with a binary y.\n",
    "As you can see, the $R^2$ is pretty low however the amount of predicted outcomes is modest. \n"
   ]
  },
  {
   "cell_type": "code",
   "execution_count": 76,
   "id": "41746a11",
   "metadata": {},
   "outputs": [
    {
     "name": "stdout",
     "output_type": "stream",
     "text": [
      "R squared training set 6.79\n",
      "R squared test set 7.44\n",
      "% of succesfully predicted matches train 62.23\n",
      "% of succesfully predicted matches test  65.15\n"
     ]
    }
   ],
   "source": [
    "# MODELO !\n",
    "\n",
    "# Lasso BINARY MODEL\n",
    "\n",
    "from sklearn.linear_model import Lasso\n",
    "\n",
    "reg = Lasso(alpha=1)\n",
    "reg.fit(X_train, y_train)\n",
    "print('R squared training set', round(reg.score(X_train, y_train)*100, 2))\n",
    "print('R squared test set', round(reg.score(X_test, y_test)*100, 2))\n",
    "\n",
    "xtrain=reg.predict(X_train)\n",
    "xtest=reg.predict(X_test)\n",
    "partidos_train=sum(np.rint(np.nextafter(xtrain, xtrain+1))==y_train)/len(y_train)\n",
    "partidos_test=sum(np.rint(np.nextafter(xtest, xtest+1))==y_test)/len(y_test)\n",
    "print('% of succesfully predicted matches train', round(partidos_train*100,2))\n",
    "print('% of succesfully predicted matches test ', round(partidos_test*100,2))\n"
   ]
  },
  {
   "cell_type": "markdown",
   "id": "ab64bf63",
   "metadata": {},
   "source": [
    "## Modelo 2:  Lasso with numeric Y\n",
    "\n",
    "This is a pair of models that instead of using the binary Y they use as Y the number of goals scored by the local and the visitor, respectively. The design consists of estimating a linear model to estimate the goals of each of the two teams and later, we compare the goals of team 1 against those of team 2. This allows us to estimate the result and not only determine the winner. This is important because we could rescue the \"Draw\" category.\n",
    "\n",
    "We know that there are probably correlation problems between the home Y and the away Y, so it doesn't make much mathematical sense that we estimated two models independently, but we did it as an experiment. Surprisingly good results.\n",
    "\n",
    "We can explore how to make these types of models correctly in the future.\n",
    "\n",
    "\n",
    "\n"
   ]
  },
  {
   "cell_type": "code",
   "execution_count": 77,
   "id": "8c5335a5",
   "metadata": {},
   "outputs": [
    {
     "name": "stdout",
     "output_type": "stream",
     "text": [
      "R squared training set 8.24\n",
      "R squared test set 8.88\n",
      "R squared training set 4.82\n",
      "R squared test set 5.79\n",
      "% of succesfully predicted matches train 62.06\n",
      "% of succesfully predicted matches test 62.12\n"
     ]
    }
   ],
   "source": [
    "# Model 2\n",
    "\n",
    "reg2 = Lasso(alpha=1)\n",
    "model_local=reg2.fit(X_train, y_local_train)\n",
    "\n",
    "print('R squared training set', round(reg2.score(X_train, y_local_train)*100, 2))\n",
    "print('R squared test set', round(reg2.score(X_test, y_local_test)*100, 2))\n",
    "\n",
    "reg3 = Lasso(alpha=1)\n",
    "model_visitor=reg3.fit(X_train, y_visitor_train)\n",
    "print('R squared training set', round(reg3.score(X_train, y_visitor_train)*100, 2))\n",
    "print('R squared test set', round(reg3.score(X_test, y_visitor_test)*100, 2))\n",
    "\n",
    "\n",
    "partidos_test=sum((np.round(model_local.predict(X_test)) > np.round(model_visitor.predict(X_test)))==y_test)/len(y_test)\n",
    "partidos_train=sum((np.round(model_local.predict(X_train)) > np.round(model_visitor.predict(X_train)))==y_train)/len(y_train)\n",
    "print('% of succesfully predicted matches train', round(partidos_train*100,2))\n",
    "print('% of succesfully predicted matches test', round(partidos_test*100,2))\n",
    "\n"
   ]
  },
  {
   "cell_type": "markdown",
   "id": "9a2cad70",
   "metadata": {},
   "source": [
    "## Model 2.5:  Lasso Extension with ties\n",
    "\n",
    "As the previous model allows us to estimate the expected goals, we can propose an alpha of such a size that it will help us to declare a tie if the expected goals are similar between both teams.\n",
    "\n",
    "For example, if the alpha is .11 in size, and if the expected goals are 1.95 and 2.05, for home and away, then we would be proposing a 2-2 tie.\n",
    "\n",
    "We notice that the number of correct matches decreases however, now we are talking about a problem of 3 categories, so the benchmark to beat would be a percentage of 1/3 of the matches. From this approach, the model performs well."
   ]
  },
  {
   "cell_type": "code",
   "execution_count": 91,
   "id": "12adc360",
   "metadata": {},
   "outputs": [
    {
     "name": "stdout",
     "output_type": "stream",
     "text": [
      "% of succesfully predicted matches train 47.89\n",
      "% of succesfully predicted matches test 46.97\n"
     ]
    }
   ],
   "source": [
    "# Evaluacion con empate!\n",
    "indices_train=y_train.index[0:len(y_train)]\n",
    "indices_test=y_test.index[0:len(y_test)]\n",
    "pd_y_multi=pd.DataFrame(y_multi)\n",
    "pd_y_multi.index = new_index\n",
    "y_multi_train = pd_y_multi.filter(items = indices_train, axis=0)\n",
    "y_multi_test = pd_y_multi.filter(items = indices_test, axis=0)\n",
    "\n",
    "alpha = .05\n",
    "\n",
    "predict_multi_train = np.where(model_local.predict(X_train) > alpha + (model_visitor.predict(X_train)), \"Local\", \n",
    "                  np.where(model_local.predict(X_train) + alpha < model_visitor.predict(X_train), \"Visitante\", \"Empate\"))\n",
    "\n",
    "predict_multi_test = np.where(model_local.predict(X_test) > alpha + (model_visitor.predict(X_test)), \"Local\", \n",
    "                  np.where(model_local.predict(X_test) + alpha < model_visitor.predict(X_test), \"Visitante\", \"Empate\"))\n",
    "\n",
    "partidos_train=sum(y_multi_train[0]==predict_multi_train)/len(predict_multi_train)\n",
    "partidos_test=sum(y_multi_test[0]==predict_multi_test)/len(predict_multi_test)\n",
    "\n",
    "print('% of succesfully predicted matches train', round(partidos_train*100,2))\n",
    "print('% of succesfully predicted matches test', round(partidos_test*100,2))\n"
   ]
  },
  {
   "cell_type": "markdown",
   "id": "4097aaea",
   "metadata": {},
   "source": [
    "## Model 3:  Lasso CV\n",
    "\n",
    "This is an extension of model1"
   ]
  },
  {
   "cell_type": "code",
   "execution_count": 92,
   "id": "53c7e6ad",
   "metadata": {},
   "outputs": [
    {
     "name": "stdout",
     "output_type": "stream",
     "text": [
      "R squared training set 6.35\n",
      "R squared test set 6.84\n",
      "% of succesfully predicted matches train 59.53\n",
      "% of succesfully predicted matches test 63.38\n"
     ]
    }
   ],
   "source": [
    "# Modelo 3 LASSO CV\n",
    "\n",
    "from sklearn.linear_model import LassoCV\n",
    "\n",
    "# Lasso with 5 fold cross-validation\n",
    "model = LassoCV(cv=5, random_state=0, max_iter=10000)\n",
    "\n",
    "# Fit model\n",
    "model.fit(X_train, y_train)\n",
    "\n",
    "# Set best alpha\n",
    "lasso_best = Lasso(alpha=model.alpha_)\n",
    "lasso_best.fit(X_train, y_train)\n",
    "print('R squared training set', round(lasso_best.score(X_train, y_train)*100, 2))\n",
    "print('R squared test set', round(lasso_best.score(X_test, y_test)*100, 2))\n",
    "\n",
    "xtrain=lasso_best.predict(X_train)\n",
    "xtest=lasso_best.predict(X_test)\n",
    "partidos_train=sum(np.rint(np.nextafter(xtrain, xtrain+1))==y_train)/len(y_train)\n",
    "partidos_test=sum(np.rint(np.nextafter(xtest, xtest+1))==y_test)/len(y_test)\n",
    "print('% of succesfully predicted matches train', round(partidos_train*100,2))\n",
    "print('% of succesfully predicted matches test', round(partidos_test*100,2))\n"
   ]
  },
  {
   "cell_type": "markdown",
   "id": "37fde3c1",
   "metadata": {},
   "source": [
    "## Modelo 4:  RF\n",
    "\n",
    "It is a version similar to the previous ones with binary Y. The advantage of this model is that it is very powerful and with so little data and preprocessing it achieves tremendous performance. This ir our champion model."
   ]
  },
  {
   "cell_type": "code",
   "execution_count": 94,
   "id": "f96f48a3",
   "metadata": {},
   "outputs": [
    {
     "ename": "ValueError",
     "evalue": "Unknown label type: 'unknown'",
     "output_type": "error",
     "traceback": [
      "\u001b[1;31m---------------------------------------------------------------------------\u001b[0m",
      "\u001b[1;31mValueError\u001b[0m                                Traceback (most recent call last)",
      "\u001b[1;32m<ipython-input-94-fbeb5c203f40>\u001b[0m in \u001b[0;36m<module>\u001b[1;34m\u001b[0m\n\u001b[0;32m      7\u001b[0m \u001b[1;33m\u001b[0m\u001b[0m\n\u001b[0;32m      8\u001b[0m \u001b[0mclf\u001b[0m \u001b[1;33m=\u001b[0m \u001b[0mRandomForestClassifier\u001b[0m\u001b[1;33m(\u001b[0m\u001b[0mmax_depth\u001b[0m\u001b[1;33m=\u001b[0m\u001b[1;36m2\u001b[0m\u001b[1;33m,\u001b[0m \u001b[0mrandom_state\u001b[0m\u001b[1;33m=\u001b[0m\u001b[1;36m0\u001b[0m\u001b[1;33m)\u001b[0m\u001b[1;33m\u001b[0m\u001b[1;33m\u001b[0m\u001b[0m\n\u001b[1;32m----> 9\u001b[1;33m \u001b[0mclf\u001b[0m\u001b[1;33m.\u001b[0m\u001b[0mfit\u001b[0m\u001b[1;33m(\u001b[0m\u001b[0mX_train\u001b[0m\u001b[1;33m,\u001b[0m \u001b[0my_train\u001b[0m\u001b[1;33m)\u001b[0m\u001b[1;33m\u001b[0m\u001b[1;33m\u001b[0m\u001b[0m\n\u001b[0m\u001b[0;32m     10\u001b[0m \u001b[1;33m\u001b[0m\u001b[0m\n\u001b[0;32m     11\u001b[0m \u001b[1;33m\u001b[0m\u001b[0m\n",
      "\u001b[1;32mc:\\users\\mike\\appdata\\local\\programs\\python\\python39\\lib\\site-packages\\sklearn\\ensemble\\_forest.py\u001b[0m in \u001b[0;36mfit\u001b[1;34m(self, X, y, sample_weight)\u001b[0m\n\u001b[0;32m    329\u001b[0m         \u001b[0mself\u001b[0m\u001b[1;33m.\u001b[0m\u001b[0mn_outputs_\u001b[0m \u001b[1;33m=\u001b[0m \u001b[0my\u001b[0m\u001b[1;33m.\u001b[0m\u001b[0mshape\u001b[0m\u001b[1;33m[\u001b[0m\u001b[1;36m1\u001b[0m\u001b[1;33m]\u001b[0m\u001b[1;33m\u001b[0m\u001b[1;33m\u001b[0m\u001b[0m\n\u001b[0;32m    330\u001b[0m \u001b[1;33m\u001b[0m\u001b[0m\n\u001b[1;32m--> 331\u001b[1;33m         \u001b[0my\u001b[0m\u001b[1;33m,\u001b[0m \u001b[0mexpanded_class_weight\u001b[0m \u001b[1;33m=\u001b[0m \u001b[0mself\u001b[0m\u001b[1;33m.\u001b[0m\u001b[0m_validate_y_class_weight\u001b[0m\u001b[1;33m(\u001b[0m\u001b[0my\u001b[0m\u001b[1;33m)\u001b[0m\u001b[1;33m\u001b[0m\u001b[1;33m\u001b[0m\u001b[0m\n\u001b[0m\u001b[0;32m    332\u001b[0m \u001b[1;33m\u001b[0m\u001b[0m\n\u001b[0;32m    333\u001b[0m         \u001b[1;32mif\u001b[0m \u001b[0mgetattr\u001b[0m\u001b[1;33m(\u001b[0m\u001b[0my\u001b[0m\u001b[1;33m,\u001b[0m \u001b[1;34m\"dtype\"\u001b[0m\u001b[1;33m,\u001b[0m \u001b[1;32mNone\u001b[0m\u001b[1;33m)\u001b[0m \u001b[1;33m!=\u001b[0m \u001b[0mDOUBLE\u001b[0m \u001b[1;32mor\u001b[0m \u001b[1;32mnot\u001b[0m \u001b[0my\u001b[0m\u001b[1;33m.\u001b[0m\u001b[0mflags\u001b[0m\u001b[1;33m.\u001b[0m\u001b[0mcontiguous\u001b[0m\u001b[1;33m:\u001b[0m\u001b[1;33m\u001b[0m\u001b[1;33m\u001b[0m\u001b[0m\n",
      "\u001b[1;32mc:\\users\\mike\\appdata\\local\\programs\\python\\python39\\lib\\site-packages\\sklearn\\ensemble\\_forest.py\u001b[0m in \u001b[0;36m_validate_y_class_weight\u001b[1;34m(self, y)\u001b[0m\n\u001b[0;32m    557\u001b[0m \u001b[1;33m\u001b[0m\u001b[0m\n\u001b[0;32m    558\u001b[0m     \u001b[1;32mdef\u001b[0m \u001b[0m_validate_y_class_weight\u001b[0m\u001b[1;33m(\u001b[0m\u001b[0mself\u001b[0m\u001b[1;33m,\u001b[0m \u001b[0my\u001b[0m\u001b[1;33m)\u001b[0m\u001b[1;33m:\u001b[0m\u001b[1;33m\u001b[0m\u001b[1;33m\u001b[0m\u001b[0m\n\u001b[1;32m--> 559\u001b[1;33m         \u001b[0mcheck_classification_targets\u001b[0m\u001b[1;33m(\u001b[0m\u001b[0my\u001b[0m\u001b[1;33m)\u001b[0m\u001b[1;33m\u001b[0m\u001b[1;33m\u001b[0m\u001b[0m\n\u001b[0m\u001b[0;32m    560\u001b[0m \u001b[1;33m\u001b[0m\u001b[0m\n\u001b[0;32m    561\u001b[0m         \u001b[0my\u001b[0m \u001b[1;33m=\u001b[0m \u001b[0mnp\u001b[0m\u001b[1;33m.\u001b[0m\u001b[0mcopy\u001b[0m\u001b[1;33m(\u001b[0m\u001b[0my\u001b[0m\u001b[1;33m)\u001b[0m\u001b[1;33m\u001b[0m\u001b[1;33m\u001b[0m\u001b[0m\n",
      "\u001b[1;32mc:\\users\\mike\\appdata\\local\\programs\\python\\python39\\lib\\site-packages\\sklearn\\utils\\multiclass.py\u001b[0m in \u001b[0;36mcheck_classification_targets\u001b[1;34m(y)\u001b[0m\n\u001b[0;32m    181\u001b[0m     if y_type not in ['binary', 'multiclass', 'multiclass-multioutput',\n\u001b[0;32m    182\u001b[0m                       'multilabel-indicator', 'multilabel-sequences']:\n\u001b[1;32m--> 183\u001b[1;33m         \u001b[1;32mraise\u001b[0m \u001b[0mValueError\u001b[0m\u001b[1;33m(\u001b[0m\u001b[1;34m\"Unknown label type: %r\"\u001b[0m \u001b[1;33m%\u001b[0m \u001b[0my_type\u001b[0m\u001b[1;33m)\u001b[0m\u001b[1;33m\u001b[0m\u001b[1;33m\u001b[0m\u001b[0m\n\u001b[0m\u001b[0;32m    184\u001b[0m \u001b[1;33m\u001b[0m\u001b[0m\n\u001b[0;32m    185\u001b[0m \u001b[1;33m\u001b[0m\u001b[0m\n",
      "\u001b[1;31mValueError\u001b[0m: Unknown label type: 'unknown'"
     ]
    }
   ],
   "source": [
    "### RF model\n",
    "from sklearn.model_selection import train_test_split\n",
    "\n",
    "X_train, X_test, y_train, y_test = train_test_split(X, y, test_size=0.3, random_state=10)\n",
    "from sklearn.ensemble import RandomForestClassifier\n",
    "from sklearn.datasets import make_classification\n",
    "\n",
    "clf = RandomForestClassifier(max_depth=2, random_state=0)\n",
    "clf.fit(X_train, y_train)\n",
    "\n",
    "\n",
    "partidos_train=clf.score(X_train,y_train)\n",
    "partidos_test=clf.score(X_test,y_test)\n",
    "\n",
    "print('% of succesfully predicted matches train', round(partidos_train*100,2))\n",
    "print('% of succesfully predicted matches test', round(partidos_test*100,2))"
   ]
  },
  {
   "cell_type": "code",
   "execution_count": 95,
   "id": "5098ef1a",
   "metadata": {},
   "outputs": [
    {
     "ename": "AttributeError",
     "evalue": "'RandomForestClassifier' object has no attribute 'estimators_'",
     "output_type": "error",
     "traceback": [
      "\u001b[1;31m---------------------------------------------------------------------------\u001b[0m",
      "\u001b[1;31mAttributeError\u001b[0m                            Traceback (most recent call last)",
      "\u001b[1;32m<ipython-input-95-71c06fd09fcd>\u001b[0m in \u001b[0;36m<module>\u001b[1;34m\u001b[0m\n\u001b[0;32m     11\u001b[0m \u001b[1;33m\u001b[0m\u001b[0m\n\u001b[0;32m     12\u001b[0m \u001b[1;31m# Calculate the accuracy score and predict target values\u001b[0m\u001b[1;33m\u001b[0m\u001b[1;33m\u001b[0m\u001b[1;33m\u001b[0m\u001b[0m\n\u001b[1;32m---> 13\u001b[1;33m \u001b[0mscore\u001b[0m \u001b[1;33m=\u001b[0m \u001b[0mpickle_model\u001b[0m\u001b[1;33m.\u001b[0m\u001b[0mscore\u001b[0m\u001b[1;33m(\u001b[0m\u001b[0mX_test\u001b[0m\u001b[1;33m,\u001b[0m \u001b[0my_test\u001b[0m\u001b[1;33m)\u001b[0m\u001b[1;33m\u001b[0m\u001b[1;33m\u001b[0m\u001b[0m\n\u001b[0m\u001b[0;32m     14\u001b[0m \u001b[0mprint\u001b[0m\u001b[1;33m(\u001b[0m\u001b[1;34m\"Test score: {0:.2f} %\"\u001b[0m\u001b[1;33m.\u001b[0m\u001b[0mformat\u001b[0m\u001b[1;33m(\u001b[0m\u001b[1;36m100\u001b[0m \u001b[1;33m*\u001b[0m \u001b[0mscore\u001b[0m\u001b[1;33m)\u001b[0m\u001b[1;33m)\u001b[0m\u001b[1;33m\u001b[0m\u001b[1;33m\u001b[0m\u001b[0m\n\u001b[0;32m     15\u001b[0m \u001b[0mYpredict\u001b[0m \u001b[1;33m=\u001b[0m \u001b[0mpickle_model\u001b[0m\u001b[1;33m.\u001b[0m\u001b[0mpredict\u001b[0m\u001b[1;33m(\u001b[0m\u001b[0mX_test\u001b[0m\u001b[1;33m)\u001b[0m\u001b[1;33m\u001b[0m\u001b[1;33m\u001b[0m\u001b[0m\n",
      "\u001b[1;32mc:\\users\\mike\\appdata\\local\\programs\\python\\python39\\lib\\site-packages\\sklearn\\base.py\u001b[0m in \u001b[0;36mscore\u001b[1;34m(self, X, y, sample_weight)\u001b[0m\n\u001b[0;32m    498\u001b[0m         \"\"\"\n\u001b[0;32m    499\u001b[0m         \u001b[1;32mfrom\u001b[0m \u001b[1;33m.\u001b[0m\u001b[0mmetrics\u001b[0m \u001b[1;32mimport\u001b[0m \u001b[0maccuracy_score\u001b[0m\u001b[1;33m\u001b[0m\u001b[1;33m\u001b[0m\u001b[0m\n\u001b[1;32m--> 500\u001b[1;33m         \u001b[1;32mreturn\u001b[0m \u001b[0maccuracy_score\u001b[0m\u001b[1;33m(\u001b[0m\u001b[0my\u001b[0m\u001b[1;33m,\u001b[0m \u001b[0mself\u001b[0m\u001b[1;33m.\u001b[0m\u001b[0mpredict\u001b[0m\u001b[1;33m(\u001b[0m\u001b[0mX\u001b[0m\u001b[1;33m)\u001b[0m\u001b[1;33m,\u001b[0m \u001b[0msample_weight\u001b[0m\u001b[1;33m=\u001b[0m\u001b[0msample_weight\u001b[0m\u001b[1;33m)\u001b[0m\u001b[1;33m\u001b[0m\u001b[1;33m\u001b[0m\u001b[0m\n\u001b[0m\u001b[0;32m    501\u001b[0m \u001b[1;33m\u001b[0m\u001b[0m\n\u001b[0;32m    502\u001b[0m     \u001b[1;32mdef\u001b[0m \u001b[0m_more_tags\u001b[0m\u001b[1;33m(\u001b[0m\u001b[0mself\u001b[0m\u001b[1;33m)\u001b[0m\u001b[1;33m:\u001b[0m\u001b[1;33m\u001b[0m\u001b[1;33m\u001b[0m\u001b[0m\n",
      "\u001b[1;32mc:\\users\\mike\\appdata\\local\\programs\\python\\python39\\lib\\site-packages\\sklearn\\ensemble\\_forest.py\u001b[0m in \u001b[0;36mpredict\u001b[1;34m(self, X)\u001b[0m\n\u001b[0;32m    628\u001b[0m             \u001b[0mThe\u001b[0m \u001b[0mpredicted\u001b[0m \u001b[0mclasses\u001b[0m\u001b[1;33m.\u001b[0m\u001b[1;33m\u001b[0m\u001b[1;33m\u001b[0m\u001b[0m\n\u001b[0;32m    629\u001b[0m         \"\"\"\n\u001b[1;32m--> 630\u001b[1;33m         \u001b[0mproba\u001b[0m \u001b[1;33m=\u001b[0m \u001b[0mself\u001b[0m\u001b[1;33m.\u001b[0m\u001b[0mpredict_proba\u001b[0m\u001b[1;33m(\u001b[0m\u001b[0mX\u001b[0m\u001b[1;33m)\u001b[0m\u001b[1;33m\u001b[0m\u001b[1;33m\u001b[0m\u001b[0m\n\u001b[0m\u001b[0;32m    631\u001b[0m \u001b[1;33m\u001b[0m\u001b[0m\n\u001b[0;32m    632\u001b[0m         \u001b[1;32mif\u001b[0m \u001b[0mself\u001b[0m\u001b[1;33m.\u001b[0m\u001b[0mn_outputs_\u001b[0m \u001b[1;33m==\u001b[0m \u001b[1;36m1\u001b[0m\u001b[1;33m:\u001b[0m\u001b[1;33m\u001b[0m\u001b[1;33m\u001b[0m\u001b[0m\n",
      "\u001b[1;32mc:\\users\\mike\\appdata\\local\\programs\\python\\python39\\lib\\site-packages\\sklearn\\ensemble\\_forest.py\u001b[0m in \u001b[0;36mpredict_proba\u001b[1;34m(self, X)\u001b[0m\n\u001b[0;32m    672\u001b[0m         \u001b[0mcheck_is_fitted\u001b[0m\u001b[1;33m(\u001b[0m\u001b[0mself\u001b[0m\u001b[1;33m)\u001b[0m\u001b[1;33m\u001b[0m\u001b[1;33m\u001b[0m\u001b[0m\n\u001b[0;32m    673\u001b[0m         \u001b[1;31m# Check data\u001b[0m\u001b[1;33m\u001b[0m\u001b[1;33m\u001b[0m\u001b[1;33m\u001b[0m\u001b[0m\n\u001b[1;32m--> 674\u001b[1;33m         \u001b[0mX\u001b[0m \u001b[1;33m=\u001b[0m \u001b[0mself\u001b[0m\u001b[1;33m.\u001b[0m\u001b[0m_validate_X_predict\u001b[0m\u001b[1;33m(\u001b[0m\u001b[0mX\u001b[0m\u001b[1;33m)\u001b[0m\u001b[1;33m\u001b[0m\u001b[1;33m\u001b[0m\u001b[0m\n\u001b[0m\u001b[0;32m    675\u001b[0m \u001b[1;33m\u001b[0m\u001b[0m\n\u001b[0;32m    676\u001b[0m         \u001b[1;31m# Assign chunk of trees to jobs\u001b[0m\u001b[1;33m\u001b[0m\u001b[1;33m\u001b[0m\u001b[1;33m\u001b[0m\u001b[0m\n",
      "\u001b[1;32mc:\\users\\mike\\appdata\\local\\programs\\python\\python39\\lib\\site-packages\\sklearn\\ensemble\\_forest.py\u001b[0m in \u001b[0;36m_validate_X_predict\u001b[1;34m(self, X)\u001b[0m\n\u001b[0;32m    420\u001b[0m         \u001b[0mcheck_is_fitted\u001b[0m\u001b[1;33m(\u001b[0m\u001b[0mself\u001b[0m\u001b[1;33m)\u001b[0m\u001b[1;33m\u001b[0m\u001b[1;33m\u001b[0m\u001b[0m\n\u001b[0;32m    421\u001b[0m \u001b[1;33m\u001b[0m\u001b[0m\n\u001b[1;32m--> 422\u001b[1;33m         \u001b[1;32mreturn\u001b[0m \u001b[0mself\u001b[0m\u001b[1;33m.\u001b[0m\u001b[0mestimators_\u001b[0m\u001b[1;33m[\u001b[0m\u001b[1;36m0\u001b[0m\u001b[1;33m]\u001b[0m\u001b[1;33m.\u001b[0m\u001b[0m_validate_X_predict\u001b[0m\u001b[1;33m(\u001b[0m\u001b[0mX\u001b[0m\u001b[1;33m,\u001b[0m \u001b[0mcheck_input\u001b[0m\u001b[1;33m=\u001b[0m\u001b[1;32mTrue\u001b[0m\u001b[1;33m)\u001b[0m\u001b[1;33m\u001b[0m\u001b[1;33m\u001b[0m\u001b[0m\n\u001b[0m\u001b[0;32m    423\u001b[0m \u001b[1;33m\u001b[0m\u001b[0m\n\u001b[0;32m    424\u001b[0m     \u001b[1;33m@\u001b[0m\u001b[0mproperty\u001b[0m\u001b[1;33m\u001b[0m\u001b[1;33m\u001b[0m\u001b[0m\n",
      "\u001b[1;31mAttributeError\u001b[0m: 'RandomForestClassifier' object has no attribute 'estimators_'"
     ]
    }
   ],
   "source": [
    "import pickle\n",
    "\n",
    "# Save to file in the current working directory\n",
    "pkl_filename = \"model.pkl\"\n",
    "with open(pkl_filename, 'wb') as file:\n",
    "    pickle.dump(clf, file)\n",
    "\n",
    "# Load from file\n",
    "with open(pkl_filename, 'rb') as file:\n",
    "    pickle_model = pickle.load(file)\n",
    "    \n",
    "# Calculate the accuracy score and predict target values\n",
    "score = pickle_model.score(X_test, y_test)\n",
    "print(\"Test score: {0:.2f} %\".format(100 * score))\n",
    "Ypredict = pickle_model.predict(X_test)"
   ]
  },
  {
   "cell_type": "markdown",
   "id": "106c0200",
   "metadata": {},
   "source": [
    "# Saving Model\n",
    "We exported the model to a pickle and then uploaded to GCP bucket (if this script is runned in the bucket other wise we need to stablish connection or manually upload it)."
   ]
  },
  {
   "cell_type": "code",
   "execution_count": null,
   "id": "91a7ac41",
   "metadata": {},
   "outputs": [],
   "source": [
    "import pickle\n",
    "\n",
    "# Save to file in the current working directory\n",
    "pkl_filename = \"model.pkl\"\n",
    "with open(pkl_filename, 'wb') as file:\n",
    "    pickle.dump(clf, file)\n",
    "\n",
    "# Load from file\n",
    "with open(pkl_filename, 'rb') as file:\n",
    "    pickle_model = pickle.load(file)\n",
    "    \n",
    "# Calculate the accuracy score and predict target values\n",
    "score = pickle_model.score(X_test, y_test)\n",
    "print(\"Test score: {0:.2f} %\".format(100 * score))\n",
    "Ypredict = pickle_model.predict(X_test)"
   ]
  },
  {
   "cell_type": "markdown",
   "id": "5191380b",
   "metadata": {},
   "source": [
    "# Conclusion\n",
    "\n",
    "We will stick for now with the RF model (and later probably we will experiment with XBoosting) due to the flexibility of the inputs and predictive power. However, this exercise has served us to propose ad hoc metrics for our problem; extensions of the models that we could add to any version that we choose; to better select the data that we are going to use; and think about the way the models are going to be used in production, that is, what kind of data are they going to have before a match?"
   ]
  },
  {
   "cell_type": "markdown",
   "id": "b35a72f0",
   "metadata": {},
   "source": [
    "# References\n",
    "\n",
    "[Lessons from experienced people in this kind of models](https://towardsdatascience.com/what-ive-learnt-predicting-soccer-matches-with-machine-learning-b3f8b445149d)\n",
    "\n",
    "[Different approaches to Y in this kind of models](https://medium.com/geekculture/building-a-simple-football-prediction-model-using-machine-learning-f061e607bec5)"
   ]
  }
 ],
 "metadata": {
  "kernelspec": {
   "display_name": "Python 3",
   "language": "python",
   "name": "python3"
  },
  "language_info": {
   "codemirror_mode": {
    "name": "ipython",
    "version": 3
   },
   "file_extension": ".py",
   "mimetype": "text/x-python",
   "name": "python",
   "nbconvert_exporter": "python",
   "pygments_lexer": "ipython3",
   "version": "3.9.5"
  }
 },
 "nbformat": 4,
 "nbformat_minor": 5
}
