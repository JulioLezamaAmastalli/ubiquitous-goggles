{
 "cells": [
  {
   "cell_type": "markdown",
   "id": "roman-green",
   "metadata": {},
   "source": [
    "# Preprocesamiento\n",
    "\n",
    "El siguiente bloque es un resumen de nuestro ETL, cuando tengamos la data final, lo quitaremos"
   ]
  },
  {
   "cell_type": "code",
   "execution_count": 1,
   "id": "packed-negative",
   "metadata": {},
   "outputs": [
    {
     "name": "stderr",
     "output_type": "stream",
     "text": [
      "<ipython-input-1-c26fcd96006e>:38: FutureWarning: In a future version of pandas all arguments of DataFrame.drop except for the argument 'labels' will be keyword-only\n",
      "  df_general = df.copy().drop(dropped_columns + to_other_tables, 1)\n"
     ]
    }
   ],
   "source": [
    "### SCRIPT DE obtencion de datos\n",
    "#### Este script lo vamos a quitar pues todo lo que hace es que resume el ETL para obtener los datos\n",
    "\n",
    "import pandas as pd\n",
    "import yaml\n",
    "import numpy as np\n",
    "\n",
    "### User defined\n",
    "import variables_n_functions as vnf\n",
    "\n",
    "config_file = open('config.yaml', 'r')\n",
    "config = yaml.safe_load(config_file)\n",
    "\n",
    "teams = config['teams']\n",
    "\n",
    "\n",
    "### We initialize the df with the appropriate column names\n",
    "df = pd.DataFrame(columns = vnf.columnas_df)\n",
    "\n",
    "### The following variable is auxiliar to avoid duplicate requests\n",
    "teams_aux = list(teams.keys())\n",
    "\n",
    "### We recover the match history between every unique team - team combination, and store it in the df\n",
    "for team_1 in teams.keys():\n",
    "    teams_aux.remove(team_1)\n",
    "    for team_2 in teams_aux:\n",
    "        h2h = vnf.head2head(team_1, team_2, config['sports_token'])\n",
    "        df = pd.concat([df] + [pd.DataFrame(pd.Series(h2h[k])).transpose() for k in range(len(h2h))])        \n",
    "\n",
    "### Define columns to drop or that will be added to other tables\n",
    "dropped_columns = ['details']\n",
    "to_other_tables = ['weather_report', 'formations', 'scores', 'time', 'coaches', 'standings', 'assistants', 'colors']\n",
    "\n",
    "config_file = open('config.yaml', 'r')\n",
    "config = yaml.safe_load(config_file)\n",
    "\n",
    "df_general = df.copy().drop(dropped_columns + to_other_tables, 1)\n",
    "\n",
    "df_scores = pd.DataFrame(columns = ['id', 'localteam_score', 'visitorteam_score', 'localteam_pen_score',\n",
    "                                    'visitorteam_pen_score', 'ht_score', 'ft_score', 'et_score', 'ps_score'])\n",
    "for k in range(df.shape[0]):\n",
    "#     temp = pd.DataFrame({key:[value] for key,value in eval(df['scores'].iloc[k]).items()})\n",
    "    temp = pd.DataFrame({key:[value] for key,value in df['scores'].iloc[k].items()})\n",
    "    temp['id'] = df.iloc[k]['id']\n",
    "    df_scores = pd.concat([df_scores, temp])\n",
    "    \n",
    "#################### Transformations ####################\n",
    "    \n",
    "###### h2h.general\n",
    "\n",
    "### ID variables\n",
    "df_general['id'] = df_general['id']\n",
    "df_general['league_id'] = df_general['league_id'].fillna(-1)\n",
    "df_general['season_id'] = df_general['season_id'].fillna(-1)\n",
    "df_general['stage_id'] = df_general['stage_id'].fillna(-1)\n",
    "df_general['round_id'] = df_general['round_id'].fillna(-1)\n",
    "df_general['group_id'] = df_general['group_id'].fillna(-1)\n",
    "df_general['aggregate_id'] = df_general['aggregate_id'].fillna(-1)\n",
    "df_general['venue_id'] = df_general['venue_id'].fillna(-1)\n",
    "df_general['referee_id'] = df_general['referee_id'].fillna(-1)\n",
    "df_general['localteam_id'] = df_general['localteam_id'].fillna(-1)\n",
    "df_general['visitorteam_id'] = df_general['visitorteam_id'].fillna(-1)\n",
    "df_general['winner_team_id'] = df_general['winner_team_id'].fillna(-1)\n",
    "\n",
    "### Other variables\n",
    "df_general['commentaries'] = df_general['commentaries'].apply(vnf.booleanize)# Boolean\n",
    "df_general['attendance'] = df_general['attendance'].fillna(-1)# Integer\n",
    "df_general['pitch'] = df_general['pitch'].apply(lambda x: \"None\" if x is None else x) # Categorical\n",
    "df_general['neutral_venue'] = df_general['neutral_venue'].apply(vnf.booleanize)# Boolean\n",
    "df_general['winning_odds_calculated'] = df_general['winning_odds_calculated'].apply(vnf.booleanize)# Boolean\n",
    "df_general['deleted'] = df_general['deleted'].apply(vnf.booleanize)# Boolean\n",
    "df_general['is_placeholder'] = df_general['is_placeholder'].apply(vnf.booleanize)# Boolean\n",
    "df_general['leg'] = df_general['leg'].fillna(-1)\n",
    "\n",
    "###### h2h.scores\n",
    "\n",
    "df_scores['id'] = df_scores['id']\n",
    "df_scores['localteam_score'] = df_scores['localteam_score'].fillna(-1)# Integer\n",
    "df_scores['visitorteam_score'] = df_scores['visitorteam_score'].fillna(-1)# Integer\n",
    "df_scores['localteam_pen_score'] = df_scores['localteam_pen_score'].fillna(-1)# Integer\n",
    "df_scores['visitorteam_pen_score'] = df_scores['visitorteam_pen_score'].fillna(-1)# Integer\n",
    "df_scores['ht_score'] = df_scores['ht_score'].fillna(-1) # String\n",
    "df_scores['ft_score'] = df_scores['ft_score'].fillna(-1) # String\n",
    "df_scores['et_score'] = df_scores['et_score'].fillna(-1) # String\n",
    "df_scores['ps_score'] = df_scores['ps_score'].fillna(-1) # String\n",
    "\n"
   ]
  },
  {
   "cell_type": "markdown",
   "id": "accredited-visitor",
   "metadata": {},
   "source": [
    "# Preprocesamiento\n",
    "\n",
    "El siguiente bloque es el preprocesamiento pero a diferencia del anterior, aquí manipue el dataframe producto del etl para darle el formato adecuado para correr los modelos de manera muy sencilla. Esto incluye:\n",
    "+ solo seleccionar las variables que usaremos por lo pronto\n",
    "+ dar el formato adecuado al data frame\n",
    "+ proponer las distintas Ys"
   ]
  },
  {
   "cell_type": "code",
   "execution_count": 3,
   "id": "several-female",
   "metadata": {},
   "outputs": [],
   "source": [
    "# Defino mis datos y mi Y\n",
    "\n",
    "#Creo variable \n",
    "# Agrego indice que en el ETL no lo conservamos\n",
    "new_index = [i for i in range(len(df_general))]\n",
    "df_general.index = new_index\n",
    "\n",
    "# Creo la variable Y que en este caso es simplemente si el equipo local ganó (1) vs empato o perdió (0)\n",
    "df_general['Y'] = np.where(df_general['winner_team_id']==df_general['localteam_id'], 1, 0)\n",
    "\n",
    "# Aqui selecciono simplemente las variables que le voy a meter\n",
    "dat=df_general[[\"league_id\",\"season_id\",\"venue_id\",\"referee_id\",\"localteam_id\",'visitorteam_id']]\n",
    "\n",
    "#dat1=pd.json_normalize(df[\"formations\"])\n",
    "#dat2=pd.json_normalize(df[\"scores\"])\n",
    "#dat3=pd.json_normalize(df[\"time\"])\n",
    "#dat4=pd.json_normalize(df[\"coaches\"])\n",
    "dat5=pd.json_normalize(df[\"standings\"])\n",
    "#dat6=pd.json_normalize(df[\"assistants\"])\n",
    "data=pd.concat([dat,dat5], axis=1)\n",
    "X = pd.get_dummies(data)\n",
    "\n",
    "# este es el tratamiento ingenuo a los NAs e infinitos\n",
    "X=X.fillna(0) \n",
    "X = X.replace([np.inf, -np.inf], np.nan)\n",
    "X = X.reset_index()"
   ]
  },
  {
   "cell_type": "code",
   "execution_count": 52,
   "id": "hispanic-regulation",
   "metadata": {},
   "outputs": [],
   "source": [
    "# Defino mis posibles variables Y\n",
    "# Creo la variable Y que en este caso es simplemente si el equipo local ganó (1) vs empato o perdió (0)\n",
    "y = df_general['Y']\n",
    "\n",
    "# Otra es la cantidad de goles locales y la cantidad de goles visitantes, para simular resultados mas que probabilidad de ganar\n",
    "df_scores.index = new_index\n",
    "y_goals_local = df_scores['localteam_score']\n",
    "y_goals_visitor = df_scores['visitorteam_score']\n",
    "\n",
    "# Finalmente, otra opcion es crear categorías de empate, ganó o perdio, de esta manera podemos predecir también el empate por separado\n",
    "y_multi = np.where(df_general['winner_team_id']==-1, \"Empate\", \n",
    "                  np.where(df_general['winner_team_id']==df_general['localteam_id'], \"Local\", \"Visitante\"))\n",
    "\n"
   ]
  },
  {
   "cell_type": "markdown",
   "id": "corporate-pharmaceutical",
   "metadata": {},
   "source": [
    "Como pueden observar, los datos son muy sencillos, y con base en ellos los modelos lograron superar el benchmark inicial de vencer al azar."
   ]
  },
  {
   "cell_type": "code",
   "execution_count": 77,
   "id": "expressed-payroll",
   "metadata": {},
   "outputs": [
    {
     "data": {
      "text/html": [
       "<div>\n",
       "<style scoped>\n",
       "    .dataframe tbody tr th:only-of-type {\n",
       "        vertical-align: middle;\n",
       "    }\n",
       "\n",
       "    .dataframe tbody tr th {\n",
       "        vertical-align: top;\n",
       "    }\n",
       "\n",
       "    .dataframe thead th {\n",
       "        text-align: right;\n",
       "    }\n",
       "</style>\n",
       "<table border=\"1\" class=\"dataframe\">\n",
       "  <thead>\n",
       "    <tr style=\"text-align: right;\">\n",
       "      <th></th>\n",
       "      <th>index</th>\n",
       "      <th>league_id</th>\n",
       "      <th>season_id</th>\n",
       "      <th>venue_id</th>\n",
       "      <th>referee_id</th>\n",
       "      <th>localteam_id</th>\n",
       "      <th>visitorteam_id</th>\n",
       "      <th>localteam_position</th>\n",
       "      <th>visitorteam_position</th>\n",
       "    </tr>\n",
       "  </thead>\n",
       "  <tbody>\n",
       "    <tr>\n",
       "      <th>0</th>\n",
       "      <td>0</td>\n",
       "      <td>501</td>\n",
       "      <td>18369</td>\n",
       "      <td>8914</td>\n",
       "      <td>14859</td>\n",
       "      <td>62</td>\n",
       "      <td>53</td>\n",
       "      <td>2.0</td>\n",
       "      <td>1.0</td>\n",
       "    </tr>\n",
       "    <tr>\n",
       "      <th>1</th>\n",
       "      <td>1</td>\n",
       "      <td>501</td>\n",
       "      <td>18369</td>\n",
       "      <td>8909</td>\n",
       "      <td>14853</td>\n",
       "      <td>53</td>\n",
       "      <td>62</td>\n",
       "      <td>2.0</td>\n",
       "      <td>1.0</td>\n",
       "    </tr>\n",
       "    <tr>\n",
       "      <th>2</th>\n",
       "      <td>2</td>\n",
       "      <td>501</td>\n",
       "      <td>18369</td>\n",
       "      <td>8914</td>\n",
       "      <td>18748</td>\n",
       "      <td>62</td>\n",
       "      <td>53</td>\n",
       "      <td>6.0</td>\n",
       "      <td>5.0</td>\n",
       "    </tr>\n",
       "    <tr>\n",
       "      <th>3</th>\n",
       "      <td>3</td>\n",
       "      <td>501</td>\n",
       "      <td>17141</td>\n",
       "      <td>8914</td>\n",
       "      <td>14468</td>\n",
       "      <td>62</td>\n",
       "      <td>53</td>\n",
       "      <td>1.0</td>\n",
       "      <td>2.0</td>\n",
       "    </tr>\n",
       "    <tr>\n",
       "      <th>4</th>\n",
       "      <td>4</td>\n",
       "      <td>501</td>\n",
       "      <td>17141</td>\n",
       "      <td>8909</td>\n",
       "      <td>14859</td>\n",
       "      <td>53</td>\n",
       "      <td>62</td>\n",
       "      <td>2.0</td>\n",
       "      <td>1.0</td>\n",
       "    </tr>\n",
       "    <tr>\n",
       "      <th>...</th>\n",
       "      <td>...</td>\n",
       "      <td>...</td>\n",
       "      <td>...</td>\n",
       "      <td>...</td>\n",
       "      <td>...</td>\n",
       "      <td>...</td>\n",
       "      <td>...</td>\n",
       "      <td>...</td>\n",
       "      <td>...</td>\n",
       "    </tr>\n",
       "    <tr>\n",
       "      <th>2086</th>\n",
       "      <td>2086</td>\n",
       "      <td>501</td>\n",
       "      <td>1932</td>\n",
       "      <td>219</td>\n",
       "      <td>17252</td>\n",
       "      <td>734</td>\n",
       "      <td>496</td>\n",
       "      <td>0.0</td>\n",
       "      <td>0.0</td>\n",
       "    </tr>\n",
       "    <tr>\n",
       "      <th>2087</th>\n",
       "      <td>2087</td>\n",
       "      <td>501</td>\n",
       "      <td>1931</td>\n",
       "      <td>219</td>\n",
       "      <td>70310</td>\n",
       "      <td>734</td>\n",
       "      <td>496</td>\n",
       "      <td>0.0</td>\n",
       "      <td>0.0</td>\n",
       "    </tr>\n",
       "    <tr>\n",
       "      <th>2088</th>\n",
       "      <td>2088</td>\n",
       "      <td>501</td>\n",
       "      <td>1931</td>\n",
       "      <td>281425</td>\n",
       "      <td>70311</td>\n",
       "      <td>496</td>\n",
       "      <td>734</td>\n",
       "      <td>0.0</td>\n",
       "      <td>0.0</td>\n",
       "    </tr>\n",
       "    <tr>\n",
       "      <th>2089</th>\n",
       "      <td>2089</td>\n",
       "      <td>501</td>\n",
       "      <td>1931</td>\n",
       "      <td>219</td>\n",
       "      <td>70311</td>\n",
       "      <td>734</td>\n",
       "      <td>496</td>\n",
       "      <td>0.0</td>\n",
       "      <td>0.0</td>\n",
       "    </tr>\n",
       "    <tr>\n",
       "      <th>2090</th>\n",
       "      <td>2090</td>\n",
       "      <td>501</td>\n",
       "      <td>1931</td>\n",
       "      <td>281425</td>\n",
       "      <td>70317</td>\n",
       "      <td>496</td>\n",
       "      <td>734</td>\n",
       "      <td>0.0</td>\n",
       "      <td>0.0</td>\n",
       "    </tr>\n",
       "  </tbody>\n",
       "</table>\n",
       "<p>2091 rows × 9 columns</p>\n",
       "</div>"
      ],
      "text/plain": [
       "      index  league_id  season_id  venue_id  referee_id  localteam_id  \\\n",
       "0         0        501      18369      8914       14859            62   \n",
       "1         1        501      18369      8909       14853            53   \n",
       "2         2        501      18369      8914       18748            62   \n",
       "3         3        501      17141      8914       14468            62   \n",
       "4         4        501      17141      8909       14859            53   \n",
       "...     ...        ...        ...       ...         ...           ...   \n",
       "2086   2086        501       1932       219       17252           734   \n",
       "2087   2087        501       1931       219       70310           734   \n",
       "2088   2088        501       1931    281425       70311           496   \n",
       "2089   2089        501       1931       219       70311           734   \n",
       "2090   2090        501       1931    281425       70317           496   \n",
       "\n",
       "      visitorteam_id  localteam_position  visitorteam_position  \n",
       "0                 53                 2.0                   1.0  \n",
       "1                 62                 2.0                   1.0  \n",
       "2                 53                 6.0                   5.0  \n",
       "3                 53                 1.0                   2.0  \n",
       "4                 62                 2.0                   1.0  \n",
       "...              ...                 ...                   ...  \n",
       "2086             496                 0.0                   0.0  \n",
       "2087             496                 0.0                   0.0  \n",
       "2088             734                 0.0                   0.0  \n",
       "2089             496                 0.0                   0.0  \n",
       "2090             734                 0.0                   0.0  \n",
       "\n",
       "[2091 rows x 9 columns]"
      ]
     },
     "execution_count": 77,
     "metadata": {},
     "output_type": "execute_result"
    }
   ],
   "source": [
    "X"
   ]
  },
  {
   "cell_type": "markdown",
   "id": "unknown-inspiration",
   "metadata": {},
   "source": [
    "# Modelado\n",
    "\n",
    "## CV\n",
    "\n",
    "Como pueden ver, tenemos varias opciones de Ys, pero para que la comparacion de modelos sea justa usaremos la misma division y las mismas métricas: cantidad de partidos predecidos con exito."
   ]
  },
  {
   "cell_type": "code",
   "execution_count": 80,
   "id": "alternate-costs",
   "metadata": {},
   "outputs": [],
   "source": [
    "from sklearn.model_selection import train_test_split\n",
    "X_train, X_test, y_train, y_test, y_local_train, y_local_test,y_visitor_train, y_visitor_test = train_test_split(X,y, y_goals_local,y_goals_visitor, test_size=0.4, random_state=10)\n"
   ]
  },
  {
   "cell_type": "markdown",
   "id": "corporate-vietnamese",
   "metadata": {},
   "source": [
    "## Modelo 1: Lasso con Y binaria\n",
    "\n",
    "Este es el modelo más sencillo donde solo se usa la Y binaria  (1 si se gana local vs 0 en otro caso)"
   ]
  },
  {
   "cell_type": "code",
   "execution_count": 83,
   "id": "substantial-egypt",
   "metadata": {},
   "outputs": [
    {
     "name": "stdout",
     "output_type": "stream",
     "text": [
      "R squared training set 6.27\n",
      "R squared test set 4.53\n",
      "% de partidos predecidos en train 63.48\n",
      "% de partidos predecidos en test 61.29\n"
     ]
    }
   ],
   "source": [
    "# MODELO !\n",
    "\n",
    "# Lasso BINARY MODEL\n",
    "\n",
    "from sklearn.linear_model import Lasso\n",
    "\n",
    "reg = Lasso(alpha=1)\n",
    "reg.fit(X_train, y_train)\n",
    "print('R squared training set', round(reg.score(X_train, y_train)*100, 2))\n",
    "print('R squared test set', round(reg.score(X_test, y_test)*100, 2))\n",
    "\n",
    "xtrain=reg.predict(X_train)\n",
    "xtest=reg.predict(X_test)\n",
    "partidos_train=sum(np.rint(np.nextafter(xtrain, xtrain+1))==y_train)/len(y_train)\n",
    "partidos_test=sum(np.rint(np.nextafter(xtest, xtest+1))==y_test)/len(y_test)\n",
    "print('% de partidos predecidos en train', round(partidos_train*100,2))\n",
    "print('% de partidos predecidos en test', round(partidos_test*100,2))\n"
   ]
  },
  {
   "cell_type": "markdown",
   "id": "private-retro",
   "metadata": {},
   "source": [
    "## Modelo 2:  Lasso con Y numérica\n",
    "\n",
    "Esta es una pareja de modelos que en lugar de usar la Y binaria usan como Y la cantidad de goles anotados por el local y el visitante, respectivamente. El diseño consiste en estimar un modelo lineal para estimar los goles de cada uno de los dos equipos y posteriormente, comparamos los goles del equipo 1 frente a los del equipo 2. Esto nos permite hacer una estimación del resultado y no solo determinar el ganador. Esto es importante porque podriamos rescatar la categoría de \"Empate\".\n",
    "\n",
    "Sabemos que probablemente existan problemas de correlación entre la Y local y la Y visitante, por lo que no tiene mucho sentido matemático que hayamos estimado dos modelos de manera independiente, pero lo realizamos como un experimento. Sorprendentemente dio buenos resultados.\n",
    "\n",
    "Podemos explorar el cómo hacer este tipo de modelos de manera correcta a futuro\n",
    "\n",
    "\n",
    "\n"
   ]
  },
  {
   "cell_type": "code",
   "execution_count": 84,
   "id": "published-power",
   "metadata": {},
   "outputs": [
    {
     "name": "stdout",
     "output_type": "stream",
     "text": [
      "R squared training set 6.78\n",
      "R squared test set 7.44\n",
      "R squared training set 4.92\n",
      "R squared test set 5.13\n",
      "% de partidos predecidos en train 60.85\n",
      "% de partidos predecidos en test 58.18\n"
     ]
    }
   ],
   "source": [
    "# Modelo 2\n",
    "\n",
    "# Mismo modelo anterior pero para predecir resultado completo\n",
    "\n",
    "reg2 = Lasso(alpha=1)\n",
    "model_local=reg2.fit(X_train, y_local_train)\n",
    "\n",
    "print('R squared training set', round(reg2.score(X_train, y_local_train)*100, 2))\n",
    "print('R squared test set', round(reg2.score(X_test, y_local_test)*100, 2))\n",
    "\n",
    "reg3 = Lasso(alpha=1)\n",
    "model_visitor=reg3.fit(X_train, y_visitor_train)\n",
    "print('R squared training set', round(reg3.score(X_train, y_visitor_train)*100, 2))\n",
    "print('R squared test set', round(reg3.score(X_test, y_visitor_test)*100, 2))\n",
    "\n",
    "\n",
    "partidos_test=sum((np.round(model_local.predict(X_test)) > np.round(model_visitor.predict(X_test)))==y_test)/len(y_test)\n",
    "partidos_train=sum((np.round(model_local.predict(X_train)) > np.round(model_visitor.predict(X_train)))==y_train)/len(y_train)\n",
    "print('% de partidos predecidos en train', round(partidos_train*100,2))\n",
    "print('% de partidos predecidos en test', round(partidos_test*100,2))\n",
    "\n",
    "\n"
   ]
  },
  {
   "cell_type": "markdown",
   "id": "considerable-bulgarian",
   "metadata": {},
   "source": [
    "## Modelo 2.5:  Extension Lasso con Y numérica pero rescatando la categoría empate\n",
    "\n",
    "Como el modelo anterior nos permite estimar los goles esperados, podemos proponer una alpha de tal tamaño que nos sirva para declarar empate si los goles esperados son similares entre ambos equipos.\n",
    "\n",
    "Por ejemplo, si la alpha es de tamaño .11, y si los goles esperados son 1.95 y 2.05, para el local y visitante, pues estariamos proponiendo un empate de 2-2.\n",
    "\n",
    "Notamos que la cantidad de partidos acertados disminuye sin embargo, ahora estamos hablando de un problema de 3 cateogrías, por lo que el benchmark a vencer sería un porcentaje de 1/3 de los partidos. Desde ese enfoque, el modelo tiene un buen desempeño."
   ]
  },
  {
   "cell_type": "code",
   "execution_count": 86,
   "id": "informed-montreal",
   "metadata": {},
   "outputs": [
    {
     "name": "stdout",
     "output_type": "stream",
     "text": [
      "% de partidos predecidos en train 47.05\n",
      "% de partidos predecidos en test 47.19\n"
     ]
    }
   ],
   "source": [
    "# Evaluacion con empate!\n",
    "indices_train=y_train.index[0:len(y_train)]\n",
    "indices_test=y_test.index[0:len(y_test)]\n",
    "pd_y_multi=pd.DataFrame(y_multi)\n",
    "pd_y_multi.index = new_index\n",
    "y_multi_train = pd_y_multi.filter(items = indices_train, axis=0)\n",
    "y_multi_test = pd_y_multi.filter(items = indices_test, axis=0)\n",
    "\n",
    "alpha = .05\n",
    "\n",
    "predict_multi_train = np.where(model_local.predict(X_train) > alpha + (model_visitor.predict(X_train)), \"Local\", \n",
    "                  np.where(model_local.predict(X_train) + alpha < model_visitor.predict(X_train), \"Visitante\", \"Empate\"))\n",
    "\n",
    "predict_multi_test = np.where(model_local.predict(X_test) > alpha + (model_visitor.predict(X_test)), \"Local\", \n",
    "                  np.where(model_local.predict(X_test) + alpha < model_visitor.predict(X_test), \"Visitante\", \"Empate\"))\n",
    "\n",
    "partidos_train=sum(y_multi_train[0]==predict_multi_train)/len(predict_multi_train)\n",
    "partidos_test=sum(y_multi_test[0]==predict_multi_test)/len(predict_multi_test)\n",
    "\n",
    "print('% de partidos predecidos en train', round(partidos_train*100,2))\n",
    "print('% de partidos predecidos en test', round(partidos_test*100,2))\n"
   ]
  },
  {
   "cell_type": "markdown",
   "id": "every-freedom",
   "metadata": {},
   "source": [
    "## Modelo 4:  Lasso CV\n",
    "\n",
    "Es una version similar a las anteriores con Y binaria.\n"
   ]
  },
  {
   "cell_type": "code",
   "execution_count": 88,
   "id": "fallen-parcel",
   "metadata": {},
   "outputs": [
    {
     "name": "stdout",
     "output_type": "stream",
     "text": [
      "R squared training set 5.74\n",
      "R squared test set 4.17\n",
      "% de partidos predecidos en train 63.96\n",
      "% de partidos predecidos en test 60.22\n"
     ]
    }
   ],
   "source": [
    "# Modelo 3 LASSO CV\n",
    "\n",
    "from sklearn.linear_model import LassoCV\n",
    "\n",
    "# Lasso with 5 fold cross-validation\n",
    "model = LassoCV(cv=5, random_state=0, max_iter=10000)\n",
    "\n",
    "# Fit model\n",
    "model.fit(X_train, y_train)\n",
    "\n",
    "# Set best alpha\n",
    "lasso_best = Lasso(alpha=model.alpha_)\n",
    "lasso_best.fit(X_train, y_train)\n",
    "print('R squared training set', round(lasso_best.score(X_train, y_train)*100, 2))\n",
    "print('R squared test set', round(lasso_best.score(X_test, y_test)*100, 2))\n",
    "\n",
    "xtrain=lasso_best.predict(X_train)\n",
    "xtest=lasso_best.predict(X_test)\n",
    "partidos_train=sum(np.rint(np.nextafter(xtrain, xtrain+1))==y_train)/len(y_train)\n",
    "partidos_test=sum(np.rint(np.nextafter(xtest, xtest+1))==y_test)/len(y_test)\n",
    "print('% de partidos predecidos en train', round(partidos_train*100,2))\n",
    "print('% de partidos predecidos en test', round(partidos_test*100,2))\n"
   ]
  },
  {
   "cell_type": "markdown",
   "id": "clean-association",
   "metadata": {},
   "source": [
    "## Modelo 4:  Logistic regression\n",
    "\n",
    "Es una version similar a las anteriores con Y binaria."
   ]
  },
  {
   "cell_type": "code",
   "execution_count": 91,
   "id": "chronic-selection",
   "metadata": {},
   "outputs": [
    {
     "name": "stdout",
     "output_type": "stream",
     "text": [
      "% de partidos predecidos en train 56.46\n",
      "% de partidos predecidos en test 56.27\n"
     ]
    },
    {
     "name": "stderr",
     "output_type": "stream",
     "text": [
      "/Users/marcoyel21/opt/anaconda3/lib/python3.8/site-packages/sklearn/linear_model/_sag.py:352: ConvergenceWarning: The max_iter was reached which means the coef_ did not converge\n",
      "  warnings.warn(\n"
     ]
    }
   ],
   "source": [
    "# Modelo Logistic\n",
    "\n",
    "from sklearn.linear_model import LogisticRegression\n",
    "\n",
    "model = LogisticRegression(\n",
    "    penalty='l1',\n",
    "    solver='saga',  # or 'liblinear'\n",
    "    C=.001)\n",
    "\n",
    "model=model.fit(X_train, y_train)\n",
    "partidos_train=model.score(X_train,y_train)\n",
    "partidos_test=model.score(X_test,y_test)\n",
    "\n",
    "print('% de partidos predecidos en train', round(partidos_train*100,2))\n",
    "print('% de partidos predecidos en test', round(partidos_test*100,2))"
   ]
  },
  {
   "cell_type": "markdown",
   "id": "exotic-intro",
   "metadata": {},
   "source": [
    "## Modelo 4:  RF\n",
    "\n",
    "Es una version similar a las anteriores con Y binaria. La ventaja de este modelo esque es muy poderoso y con tan pocos  datos y preprocesamiento lgora un desempeño tremendo. Muy probablemente nos quedemos con una version del RF o de un XGBoosting."
   ]
  },
  {
   "cell_type": "code",
   "execution_count": 75,
   "id": "toxic-essay",
   "metadata": {},
   "outputs": [
    {
     "name": "stdout",
     "output_type": "stream",
     "text": [
      "% de partidos predecidos en train 67.46\n",
      "% de partidos predecidos en test 64.01\n"
     ]
    }
   ],
   "source": [
    "### RF model\n",
    "from sklearn.model_selection import train_test_split\n",
    "\n",
    "X_train, X_test, y_train, y_test = train_test_split(X, y, test_size=0.3, random_state=10)\n",
    "from sklearn.ensemble import RandomForestClassifier\n",
    "from sklearn.datasets import make_classification\n",
    "\n",
    "clf = RandomForestClassifier(max_depth=2, random_state=0)\n",
    "clf.fit(X_train, y_train)\n",
    "\n",
    "\n",
    "partidos_train=clf.score(X_train,y_train)\n",
    "partidos_test=clf.score(X_test,y_test)\n",
    "\n",
    "print('% de partidos predecidos en train', round(partidos_train*100,2))\n",
    "print('% de partidos predecidos en test', round(partidos_test*100,2))"
   ]
  },
  {
   "cell_type": "markdown",
   "id": "funny-plaintiff",
   "metadata": {},
   "source": [
    "# Conclusion\n",
    "\n",
    "Probablemente nos quedemos con un RF o un XBoosting debido a la flexibilidad de los inputs y poder predictivo. Sin embargo, este ejercicio nos ha servido para proponer metricas ad hoc a nuestro problema; extensiones de los modelos que se las podriamos agregar a cualquier versión que elijamos;para seleccionar mejor los datos que vamos a usar; y pensar sobre la manera en que se van a usar los modelos en producción, es decir ¿qué tipo de datos se van a tener antes de un partido?"
   ]
  },
  {
   "cell_type": "code",
   "execution_count": null,
   "id": "moderate-square",
   "metadata": {},
   "outputs": [],
   "source": []
  }
 ],
 "metadata": {
  "kernelspec": {
   "display_name": "Python 3",
   "language": "python",
   "name": "python3"
  },
  "language_info": {
   "codemirror_mode": {
    "name": "ipython",
    "version": 3
   },
   "file_extension": ".py",
   "mimetype": "text/x-python",
   "name": "python",
   "nbconvert_exporter": "python",
   "pygments_lexer": "ipython3",
   "version": "3.8.5"
  }
 },
 "nbformat": 4,
 "nbformat_minor": 5
}
